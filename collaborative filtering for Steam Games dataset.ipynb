{
 "cells": [
  {
   "cell_type": "code",
   "execution_count": 2,
   "metadata": {},
   "outputs": [],
   "source": [
    "import pandas as pd\n",
    "%matplotlib inline\n",
    "import numpy as np\n",
    "import turicreate as tc\n",
    "import numpy as np\n",
    "from sklearn.metrics.pairwise import cosine_similarity\n",
    "from scipy import sparse\n",
    "from spotlight.evaluation import precision_recall_score"
   ]
  },
  {
   "cell_type": "code",
   "execution_count": 3,
   "metadata": {},
   "outputs": [],
   "source": [
    "#reading the data into a dataframe\n",
    "data = pd.read_csv('/Users/armitasafavi/downloads/steam-200k.csv', names=['user_id','games','purchase_play','hours_played','none'])\n",
    "data = data.drop('none', axis=1)"
   ]
  },
  {
   "cell_type": "code",
   "execution_count": 4,
   "metadata": {},
   "outputs": [
    {
     "data": {
      "text/html": [
       "<div>\n",
       "<style scoped>\n",
       "    .dataframe tbody tr th:only-of-type {\n",
       "        vertical-align: middle;\n",
       "    }\n",
       "\n",
       "    .dataframe tbody tr th {\n",
       "        vertical-align: top;\n",
       "    }\n",
       "\n",
       "    .dataframe thead th {\n",
       "        text-align: right;\n",
       "    }\n",
       "</style>\n",
       "<table border=\"1\" class=\"dataframe\">\n",
       "  <thead>\n",
       "    <tr style=\"text-align: right;\">\n",
       "      <th></th>\n",
       "      <th>user_id</th>\n",
       "      <th>games</th>\n",
       "      <th>purchase_play</th>\n",
       "      <th>hours_played</th>\n",
       "    </tr>\n",
       "  </thead>\n",
       "  <tbody>\n",
       "    <tr>\n",
       "      <th>0</th>\n",
       "      <td>151603712</td>\n",
       "      <td>The Elder Scrolls V Skyrim</td>\n",
       "      <td>purchase</td>\n",
       "      <td>1.0</td>\n",
       "    </tr>\n",
       "    <tr>\n",
       "      <th>1</th>\n",
       "      <td>151603712</td>\n",
       "      <td>The Elder Scrolls V Skyrim</td>\n",
       "      <td>play</td>\n",
       "      <td>273.0</td>\n",
       "    </tr>\n",
       "    <tr>\n",
       "      <th>2</th>\n",
       "      <td>151603712</td>\n",
       "      <td>Fallout 4</td>\n",
       "      <td>purchase</td>\n",
       "      <td>1.0</td>\n",
       "    </tr>\n",
       "    <tr>\n",
       "      <th>3</th>\n",
       "      <td>151603712</td>\n",
       "      <td>Fallout 4</td>\n",
       "      <td>play</td>\n",
       "      <td>87.0</td>\n",
       "    </tr>\n",
       "    <tr>\n",
       "      <th>4</th>\n",
       "      <td>151603712</td>\n",
       "      <td>Spore</td>\n",
       "      <td>purchase</td>\n",
       "      <td>1.0</td>\n",
       "    </tr>\n",
       "    <tr>\n",
       "      <th>5</th>\n",
       "      <td>151603712</td>\n",
       "      <td>Spore</td>\n",
       "      <td>play</td>\n",
       "      <td>14.9</td>\n",
       "    </tr>\n",
       "    <tr>\n",
       "      <th>6</th>\n",
       "      <td>151603712</td>\n",
       "      <td>Fallout New Vegas</td>\n",
       "      <td>purchase</td>\n",
       "      <td>1.0</td>\n",
       "    </tr>\n",
       "    <tr>\n",
       "      <th>7</th>\n",
       "      <td>151603712</td>\n",
       "      <td>Fallout New Vegas</td>\n",
       "      <td>play</td>\n",
       "      <td>12.1</td>\n",
       "    </tr>\n",
       "    <tr>\n",
       "      <th>8</th>\n",
       "      <td>151603712</td>\n",
       "      <td>Left 4 Dead 2</td>\n",
       "      <td>purchase</td>\n",
       "      <td>1.0</td>\n",
       "    </tr>\n",
       "    <tr>\n",
       "      <th>9</th>\n",
       "      <td>151603712</td>\n",
       "      <td>Left 4 Dead 2</td>\n",
       "      <td>play</td>\n",
       "      <td>8.9</td>\n",
       "    </tr>\n",
       "  </tbody>\n",
       "</table>\n",
       "</div>"
      ],
      "text/plain": [
       "     user_id                       games purchase_play  hours_played\n",
       "0  151603712  The Elder Scrolls V Skyrim      purchase           1.0\n",
       "1  151603712  The Elder Scrolls V Skyrim          play         273.0\n",
       "2  151603712                   Fallout 4      purchase           1.0\n",
       "3  151603712                   Fallout 4          play          87.0\n",
       "4  151603712                       Spore      purchase           1.0\n",
       "5  151603712                       Spore          play          14.9\n",
       "6  151603712           Fallout New Vegas      purchase           1.0\n",
       "7  151603712           Fallout New Vegas          play          12.1\n",
       "8  151603712               Left 4 Dead 2      purchase           1.0\n",
       "9  151603712               Left 4 Dead 2          play           8.9"
      ]
     },
     "execution_count": 4,
     "metadata": {},
     "output_type": "execute_result"
    }
   ],
   "source": [
    "data.head(10)"
   ]
  },
  {
   "cell_type": "code",
   "execution_count": 5,
   "metadata": {},
   "outputs": [],
   "source": [
    "#take out the purchase duplicates\n",
    "df = data.loc[data['purchase_play']== 'play']"
   ]
  },
  {
   "cell_type": "code",
   "execution_count": 6,
   "metadata": {},
   "outputs": [
    {
     "data": {
      "text/plain": [
       "count    70489.000000\n",
       "mean        48.878063\n",
       "std        229.335236\n",
       "min          0.100000\n",
       "25%          1.000000\n",
       "50%          4.500000\n",
       "75%         19.100000\n",
       "max      11754.000000\n",
       "Name: hours_played, dtype: float64"
      ]
     },
     "execution_count": 6,
     "metadata": {},
     "output_type": "execute_result"
    }
   ],
   "source": [
    "df['hours_played'].describe()"
   ]
  },
  {
   "cell_type": "code",
   "execution_count": 7,
   "metadata": {},
   "outputs": [],
   "source": [
    "#define a rating scale from hours played by each user,  using below function\n",
    "def rating(df):\n",
    "    if (df['hours_played']< 1):\n",
    "        return 1\n",
    "    if (df['hours_played']> 1) and (df['hours_played']< 10):\n",
    "        return 2\n",
    "    if (df['hours_played']> 10) and (df['hours_played']< 20):\n",
    "        return 3\n",
    "    if (df['hours_played']> 20) and (df['hours_played']< 50):\n",
    "        return 4\n",
    "    if (df['hours_played']> 50) and (df['hours_played']< 100):\n",
    "        return 5\n",
    "    if (df['hours_played']> 100) and (df['hours_played']< 250):\n",
    "        return 6\n",
    "    if (df['hours_played']> 250) and (df['hours_played']< 500):\n",
    "        return 7\n",
    "    if (df['hours_played']> 500) and (df['hours_played']< 1000):\n",
    "        return 8\n",
    "    if (df['hours_played']> 1000) and (df['hours_played']< 1500):\n",
    "        return 9\n",
    "    else:\n",
    "        return 10\n",
    "    "
   ]
  },
  {
   "cell_type": "code",
   "execution_count": 8,
   "metadata": {},
   "outputs": [
    {
     "name": "stderr",
     "output_type": "stream",
     "text": [
      "/Users/armitasafavi/anaconda3/lib/python3.6/site-packages/ipykernel_launcher.py:2: SettingWithCopyWarning: \n",
      "A value is trying to be set on a copy of a slice from a DataFrame.\n",
      "Try using .loc[row_indexer,col_indexer] = value instead\n",
      "\n",
      "See the caveats in the documentation: http://pandas.pydata.org/pandas-docs/stable/indexing.html#indexing-view-versus-copy\n",
      "  \n"
     ]
    }
   ],
   "source": [
    "#add ratings to the dataframe for each player and game\n",
    "df['rating'] = df.apply(rating, axis=1)"
   ]
  },
  {
   "cell_type": "code",
   "execution_count": 9,
   "metadata": {},
   "outputs": [
    {
     "data": {
      "text/html": [
       "<div>\n",
       "<style scoped>\n",
       "    .dataframe tbody tr th:only-of-type {\n",
       "        vertical-align: middle;\n",
       "    }\n",
       "\n",
       "    .dataframe tbody tr th {\n",
       "        vertical-align: top;\n",
       "    }\n",
       "\n",
       "    .dataframe thead th {\n",
       "        text-align: right;\n",
       "    }\n",
       "</style>\n",
       "<table border=\"1\" class=\"dataframe\">\n",
       "  <thead>\n",
       "    <tr style=\"text-align: right;\">\n",
       "      <th></th>\n",
       "      <th>user_id</th>\n",
       "      <th>games</th>\n",
       "      <th>rating</th>\n",
       "    </tr>\n",
       "  </thead>\n",
       "  <tbody>\n",
       "    <tr>\n",
       "      <th>1</th>\n",
       "      <td>151603712</td>\n",
       "      <td>The Elder Scrolls V Skyrim</td>\n",
       "      <td>7</td>\n",
       "    </tr>\n",
       "    <tr>\n",
       "      <th>3</th>\n",
       "      <td>151603712</td>\n",
       "      <td>Fallout 4</td>\n",
       "      <td>5</td>\n",
       "    </tr>\n",
       "    <tr>\n",
       "      <th>5</th>\n",
       "      <td>151603712</td>\n",
       "      <td>Spore</td>\n",
       "      <td>3</td>\n",
       "    </tr>\n",
       "    <tr>\n",
       "      <th>7</th>\n",
       "      <td>151603712</td>\n",
       "      <td>Fallout New Vegas</td>\n",
       "      <td>3</td>\n",
       "    </tr>\n",
       "    <tr>\n",
       "      <th>9</th>\n",
       "      <td>151603712</td>\n",
       "      <td>Left 4 Dead 2</td>\n",
       "      <td>2</td>\n",
       "    </tr>\n",
       "  </tbody>\n",
       "</table>\n",
       "</div>"
      ],
      "text/plain": [
       "     user_id                       games  rating\n",
       "1  151603712  The Elder Scrolls V Skyrim       7\n",
       "3  151603712                   Fallout 4       5\n",
       "5  151603712                       Spore       3\n",
       "7  151603712           Fallout New Vegas       3\n",
       "9  151603712               Left 4 Dead 2       2"
      ]
     },
     "execution_count": 9,
     "metadata": {},
     "output_type": "execute_result"
    }
   ],
   "source": [
    "#clean up the dataframe by dropping unnecessary columns\n",
    "n_df = df.drop(columns=['purchase_play','hours_played'])\n",
    "n_df.head()"
   ]
  },
  {
   "cell_type": "code",
   "execution_count": 10,
   "metadata": {},
   "outputs": [],
   "source": [
    "#creating the user item matrix\n",
    "df_matrix = pd.pivot_table(n_df, values='rating', index='user_id', columns='games')"
   ]
  },
  {
   "cell_type": "code",
   "execution_count": 11,
   "metadata": {},
   "outputs": [
    {
     "data": {
      "text/html": [
       "<div>\n",
       "<style scoped>\n",
       "    .dataframe tbody tr th:only-of-type {\n",
       "        vertical-align: middle;\n",
       "    }\n",
       "\n",
       "    .dataframe tbody tr th {\n",
       "        vertical-align: top;\n",
       "    }\n",
       "\n",
       "    .dataframe thead th {\n",
       "        text-align: right;\n",
       "    }\n",
       "</style>\n",
       "<table border=\"1\" class=\"dataframe\">\n",
       "  <thead>\n",
       "    <tr style=\"text-align: right;\">\n",
       "      <th>games</th>\n",
       "      <th>007 Legends</th>\n",
       "      <th>0RBITALIS</th>\n",
       "      <th>1... 2... 3... KICK IT! (Drop That Beat Like an Ugly Baby)</th>\n",
       "      <th>10 Second Ninja</th>\n",
       "      <th>10,000,000</th>\n",
       "      <th>100% Orange Juice</th>\n",
       "      <th>1000 Amps</th>\n",
       "      <th>12 Labours of Hercules</th>\n",
       "      <th>12 Labours of Hercules II The Cretan Bull</th>\n",
       "      <th>12 Labours of Hercules III Girl Power</th>\n",
       "      <th>...</th>\n",
       "      <th>rFactor</th>\n",
       "      <th>rFactor 2</th>\n",
       "      <th>realMyst</th>\n",
       "      <th>realMyst Masterpiece Edition</th>\n",
       "      <th>resident evil 4 / biohazard 4</th>\n",
       "      <th>rymdkapsel</th>\n",
       "      <th>sZone-Online</th>\n",
       "      <th>the static speaks my name</th>\n",
       "      <th>theHunter</th>\n",
       "      <th>theHunter Primal</th>\n",
       "    </tr>\n",
       "    <tr>\n",
       "      <th>user_id</th>\n",
       "      <th></th>\n",
       "      <th></th>\n",
       "      <th></th>\n",
       "      <th></th>\n",
       "      <th></th>\n",
       "      <th></th>\n",
       "      <th></th>\n",
       "      <th></th>\n",
       "      <th></th>\n",
       "      <th></th>\n",
       "      <th></th>\n",
       "      <th></th>\n",
       "      <th></th>\n",
       "      <th></th>\n",
       "      <th></th>\n",
       "      <th></th>\n",
       "      <th></th>\n",
       "      <th></th>\n",
       "      <th></th>\n",
       "      <th></th>\n",
       "      <th></th>\n",
       "    </tr>\n",
       "  </thead>\n",
       "  <tbody>\n",
       "    <tr>\n",
       "      <th>5250</th>\n",
       "      <td>NaN</td>\n",
       "      <td>NaN</td>\n",
       "      <td>NaN</td>\n",
       "      <td>NaN</td>\n",
       "      <td>NaN</td>\n",
       "      <td>NaN</td>\n",
       "      <td>NaN</td>\n",
       "      <td>NaN</td>\n",
       "      <td>NaN</td>\n",
       "      <td>NaN</td>\n",
       "      <td>...</td>\n",
       "      <td>NaN</td>\n",
       "      <td>NaN</td>\n",
       "      <td>NaN</td>\n",
       "      <td>NaN</td>\n",
       "      <td>NaN</td>\n",
       "      <td>NaN</td>\n",
       "      <td>NaN</td>\n",
       "      <td>NaN</td>\n",
       "      <td>NaN</td>\n",
       "      <td>NaN</td>\n",
       "    </tr>\n",
       "    <tr>\n",
       "      <th>76767</th>\n",
       "      <td>NaN</td>\n",
       "      <td>NaN</td>\n",
       "      <td>NaN</td>\n",
       "      <td>NaN</td>\n",
       "      <td>NaN</td>\n",
       "      <td>NaN</td>\n",
       "      <td>NaN</td>\n",
       "      <td>NaN</td>\n",
       "      <td>NaN</td>\n",
       "      <td>NaN</td>\n",
       "      <td>...</td>\n",
       "      <td>NaN</td>\n",
       "      <td>NaN</td>\n",
       "      <td>NaN</td>\n",
       "      <td>NaN</td>\n",
       "      <td>NaN</td>\n",
       "      <td>NaN</td>\n",
       "      <td>NaN</td>\n",
       "      <td>NaN</td>\n",
       "      <td>NaN</td>\n",
       "      <td>NaN</td>\n",
       "    </tr>\n",
       "    <tr>\n",
       "      <th>86540</th>\n",
       "      <td>NaN</td>\n",
       "      <td>NaN</td>\n",
       "      <td>NaN</td>\n",
       "      <td>NaN</td>\n",
       "      <td>NaN</td>\n",
       "      <td>NaN</td>\n",
       "      <td>NaN</td>\n",
       "      <td>NaN</td>\n",
       "      <td>NaN</td>\n",
       "      <td>NaN</td>\n",
       "      <td>...</td>\n",
       "      <td>NaN</td>\n",
       "      <td>NaN</td>\n",
       "      <td>NaN</td>\n",
       "      <td>NaN</td>\n",
       "      <td>NaN</td>\n",
       "      <td>NaN</td>\n",
       "      <td>NaN</td>\n",
       "      <td>NaN</td>\n",
       "      <td>NaN</td>\n",
       "      <td>NaN</td>\n",
       "    </tr>\n",
       "    <tr>\n",
       "      <th>144736</th>\n",
       "      <td>NaN</td>\n",
       "      <td>NaN</td>\n",
       "      <td>NaN</td>\n",
       "      <td>NaN</td>\n",
       "      <td>NaN</td>\n",
       "      <td>NaN</td>\n",
       "      <td>NaN</td>\n",
       "      <td>NaN</td>\n",
       "      <td>NaN</td>\n",
       "      <td>NaN</td>\n",
       "      <td>...</td>\n",
       "      <td>NaN</td>\n",
       "      <td>NaN</td>\n",
       "      <td>NaN</td>\n",
       "      <td>NaN</td>\n",
       "      <td>NaN</td>\n",
       "      <td>NaN</td>\n",
       "      <td>NaN</td>\n",
       "      <td>NaN</td>\n",
       "      <td>NaN</td>\n",
       "      <td>NaN</td>\n",
       "    </tr>\n",
       "    <tr>\n",
       "      <th>181212</th>\n",
       "      <td>NaN</td>\n",
       "      <td>NaN</td>\n",
       "      <td>NaN</td>\n",
       "      <td>NaN</td>\n",
       "      <td>NaN</td>\n",
       "      <td>NaN</td>\n",
       "      <td>NaN</td>\n",
       "      <td>NaN</td>\n",
       "      <td>NaN</td>\n",
       "      <td>NaN</td>\n",
       "      <td>...</td>\n",
       "      <td>NaN</td>\n",
       "      <td>NaN</td>\n",
       "      <td>NaN</td>\n",
       "      <td>NaN</td>\n",
       "      <td>NaN</td>\n",
       "      <td>NaN</td>\n",
       "      <td>NaN</td>\n",
       "      <td>NaN</td>\n",
       "      <td>NaN</td>\n",
       "      <td>NaN</td>\n",
       "    </tr>\n",
       "    <tr>\n",
       "      <th>229911</th>\n",
       "      <td>NaN</td>\n",
       "      <td>NaN</td>\n",
       "      <td>NaN</td>\n",
       "      <td>NaN</td>\n",
       "      <td>NaN</td>\n",
       "      <td>NaN</td>\n",
       "      <td>NaN</td>\n",
       "      <td>NaN</td>\n",
       "      <td>NaN</td>\n",
       "      <td>NaN</td>\n",
       "      <td>...</td>\n",
       "      <td>NaN</td>\n",
       "      <td>NaN</td>\n",
       "      <td>NaN</td>\n",
       "      <td>NaN</td>\n",
       "      <td>NaN</td>\n",
       "      <td>NaN</td>\n",
       "      <td>NaN</td>\n",
       "      <td>NaN</td>\n",
       "      <td>NaN</td>\n",
       "      <td>NaN</td>\n",
       "    </tr>\n",
       "    <tr>\n",
       "      <th>298950</th>\n",
       "      <td>NaN</td>\n",
       "      <td>NaN</td>\n",
       "      <td>NaN</td>\n",
       "      <td>NaN</td>\n",
       "      <td>NaN</td>\n",
       "      <td>NaN</td>\n",
       "      <td>NaN</td>\n",
       "      <td>NaN</td>\n",
       "      <td>NaN</td>\n",
       "      <td>NaN</td>\n",
       "      <td>...</td>\n",
       "      <td>NaN</td>\n",
       "      <td>NaN</td>\n",
       "      <td>NaN</td>\n",
       "      <td>NaN</td>\n",
       "      <td>NaN</td>\n",
       "      <td>NaN</td>\n",
       "      <td>NaN</td>\n",
       "      <td>NaN</td>\n",
       "      <td>NaN</td>\n",
       "      <td>NaN</td>\n",
       "    </tr>\n",
       "    <tr>\n",
       "      <th>381543</th>\n",
       "      <td>NaN</td>\n",
       "      <td>NaN</td>\n",
       "      <td>NaN</td>\n",
       "      <td>NaN</td>\n",
       "      <td>NaN</td>\n",
       "      <td>NaN</td>\n",
       "      <td>NaN</td>\n",
       "      <td>NaN</td>\n",
       "      <td>NaN</td>\n",
       "      <td>NaN</td>\n",
       "      <td>...</td>\n",
       "      <td>NaN</td>\n",
       "      <td>NaN</td>\n",
       "      <td>NaN</td>\n",
       "      <td>NaN</td>\n",
       "      <td>NaN</td>\n",
       "      <td>NaN</td>\n",
       "      <td>NaN</td>\n",
       "      <td>NaN</td>\n",
       "      <td>NaN</td>\n",
       "      <td>NaN</td>\n",
       "    </tr>\n",
       "    <tr>\n",
       "      <th>547685</th>\n",
       "      <td>NaN</td>\n",
       "      <td>NaN</td>\n",
       "      <td>NaN</td>\n",
       "      <td>NaN</td>\n",
       "      <td>NaN</td>\n",
       "      <td>NaN</td>\n",
       "      <td>NaN</td>\n",
       "      <td>NaN</td>\n",
       "      <td>NaN</td>\n",
       "      <td>NaN</td>\n",
       "      <td>...</td>\n",
       "      <td>NaN</td>\n",
       "      <td>NaN</td>\n",
       "      <td>NaN</td>\n",
       "      <td>NaN</td>\n",
       "      <td>NaN</td>\n",
       "      <td>NaN</td>\n",
       "      <td>NaN</td>\n",
       "      <td>NaN</td>\n",
       "      <td>1.0</td>\n",
       "      <td>NaN</td>\n",
       "    </tr>\n",
       "    <tr>\n",
       "      <th>554278</th>\n",
       "      <td>NaN</td>\n",
       "      <td>NaN</td>\n",
       "      <td>NaN</td>\n",
       "      <td>NaN</td>\n",
       "      <td>NaN</td>\n",
       "      <td>NaN</td>\n",
       "      <td>NaN</td>\n",
       "      <td>NaN</td>\n",
       "      <td>NaN</td>\n",
       "      <td>NaN</td>\n",
       "      <td>...</td>\n",
       "      <td>NaN</td>\n",
       "      <td>NaN</td>\n",
       "      <td>NaN</td>\n",
       "      <td>NaN</td>\n",
       "      <td>NaN</td>\n",
       "      <td>NaN</td>\n",
       "      <td>NaN</td>\n",
       "      <td>NaN</td>\n",
       "      <td>NaN</td>\n",
       "      <td>NaN</td>\n",
       "    </tr>\n",
       "  </tbody>\n",
       "</table>\n",
       "<p>10 rows × 3600 columns</p>\n",
       "</div>"
      ],
      "text/plain": [
       "games    007 Legends  0RBITALIS  \\\n",
       "user_id                           \n",
       "5250             NaN        NaN   \n",
       "76767            NaN        NaN   \n",
       "86540            NaN        NaN   \n",
       "144736           NaN        NaN   \n",
       "181212           NaN        NaN   \n",
       "229911           NaN        NaN   \n",
       "298950           NaN        NaN   \n",
       "381543           NaN        NaN   \n",
       "547685           NaN        NaN   \n",
       "554278           NaN        NaN   \n",
       "\n",
       "games    1... 2... 3... KICK IT! (Drop That Beat Like an Ugly Baby)  \\\n",
       "user_id                                                               \n",
       "5250                                                   NaN            \n",
       "76767                                                  NaN            \n",
       "86540                                                  NaN            \n",
       "144736                                                 NaN            \n",
       "181212                                                 NaN            \n",
       "229911                                                 NaN            \n",
       "298950                                                 NaN            \n",
       "381543                                                 NaN            \n",
       "547685                                                 NaN            \n",
       "554278                                                 NaN            \n",
       "\n",
       "games    10 Second Ninja  10,000,000  100% Orange Juice  1000 Amps  \\\n",
       "user_id                                                              \n",
       "5250                 NaN         NaN                NaN        NaN   \n",
       "76767                NaN         NaN                NaN        NaN   \n",
       "86540                NaN         NaN                NaN        NaN   \n",
       "144736               NaN         NaN                NaN        NaN   \n",
       "181212               NaN         NaN                NaN        NaN   \n",
       "229911               NaN         NaN                NaN        NaN   \n",
       "298950               NaN         NaN                NaN        NaN   \n",
       "381543               NaN         NaN                NaN        NaN   \n",
       "547685               NaN         NaN                NaN        NaN   \n",
       "554278               NaN         NaN                NaN        NaN   \n",
       "\n",
       "games    12 Labours of Hercules  12 Labours of Hercules II The Cretan Bull  \\\n",
       "user_id                                                                      \n",
       "5250                        NaN                                        NaN   \n",
       "76767                       NaN                                        NaN   \n",
       "86540                       NaN                                        NaN   \n",
       "144736                      NaN                                        NaN   \n",
       "181212                      NaN                                        NaN   \n",
       "229911                      NaN                                        NaN   \n",
       "298950                      NaN                                        NaN   \n",
       "381543                      NaN                                        NaN   \n",
       "547685                      NaN                                        NaN   \n",
       "554278                      NaN                                        NaN   \n",
       "\n",
       "games    12 Labours of Hercules III Girl Power  ...  rFactor  rFactor 2  \\\n",
       "user_id                                         ...                       \n",
       "5250                                       NaN  ...      NaN        NaN   \n",
       "76767                                      NaN  ...      NaN        NaN   \n",
       "86540                                      NaN  ...      NaN        NaN   \n",
       "144736                                     NaN  ...      NaN        NaN   \n",
       "181212                                     NaN  ...      NaN        NaN   \n",
       "229911                                     NaN  ...      NaN        NaN   \n",
       "298950                                     NaN  ...      NaN        NaN   \n",
       "381543                                     NaN  ...      NaN        NaN   \n",
       "547685                                     NaN  ...      NaN        NaN   \n",
       "554278                                     NaN  ...      NaN        NaN   \n",
       "\n",
       "games    realMyst  realMyst Masterpiece Edition  \\\n",
       "user_id                                           \n",
       "5250          NaN                           NaN   \n",
       "76767         NaN                           NaN   \n",
       "86540         NaN                           NaN   \n",
       "144736        NaN                           NaN   \n",
       "181212        NaN                           NaN   \n",
       "229911        NaN                           NaN   \n",
       "298950        NaN                           NaN   \n",
       "381543        NaN                           NaN   \n",
       "547685        NaN                           NaN   \n",
       "554278        NaN                           NaN   \n",
       "\n",
       "games    resident evil 4 / biohazard 4  rymdkapsel  sZone-Online  \\\n",
       "user_id                                                            \n",
       "5250                               NaN         NaN           NaN   \n",
       "76767                              NaN         NaN           NaN   \n",
       "86540                              NaN         NaN           NaN   \n",
       "144736                             NaN         NaN           NaN   \n",
       "181212                             NaN         NaN           NaN   \n",
       "229911                             NaN         NaN           NaN   \n",
       "298950                             NaN         NaN           NaN   \n",
       "381543                             NaN         NaN           NaN   \n",
       "547685                             NaN         NaN           NaN   \n",
       "554278                             NaN         NaN           NaN   \n",
       "\n",
       "games    the static speaks my name  theHunter  theHunter Primal  \n",
       "user_id                                                          \n",
       "5250                           NaN        NaN               NaN  \n",
       "76767                          NaN        NaN               NaN  \n",
       "86540                          NaN        NaN               NaN  \n",
       "144736                         NaN        NaN               NaN  \n",
       "181212                         NaN        NaN               NaN  \n",
       "229911                         NaN        NaN               NaN  \n",
       "298950                         NaN        NaN               NaN  \n",
       "381543                         NaN        NaN               NaN  \n",
       "547685                         NaN        1.0               NaN  \n",
       "554278                         NaN        NaN               NaN  \n",
       "\n",
       "[10 rows x 3600 columns]"
      ]
     },
     "execution_count": 11,
     "metadata": {},
     "output_type": "execute_result"
    }
   ],
   "source": [
    "df_matrix.head(10)"
   ]
  },
  {
   "cell_type": "code",
   "execution_count": 12,
   "metadata": {},
   "outputs": [],
   "source": [
    "#adding index and filling na for the user-item matrix\n",
    "matrix=df_matrix.reset_index()\n",
    "matrix1=matrix.fillna(0)"
   ]
  },
  {
   "cell_type": "code",
   "execution_count": 13,
   "metadata": {},
   "outputs": [
    {
     "data": {
      "text/html": [
       "<div>\n",
       "<style scoped>\n",
       "    .dataframe tbody tr th:only-of-type {\n",
       "        vertical-align: middle;\n",
       "    }\n",
       "\n",
       "    .dataframe tbody tr th {\n",
       "        vertical-align: top;\n",
       "    }\n",
       "\n",
       "    .dataframe thead th {\n",
       "        text-align: right;\n",
       "    }\n",
       "</style>\n",
       "<table border=\"1\" class=\"dataframe\">\n",
       "  <thead>\n",
       "    <tr style=\"text-align: right;\">\n",
       "      <th>games</th>\n",
       "      <th>user_id</th>\n",
       "      <th>007 Legends</th>\n",
       "      <th>0RBITALIS</th>\n",
       "      <th>1... 2... 3... KICK IT! (Drop That Beat Like an Ugly Baby)</th>\n",
       "      <th>10 Second Ninja</th>\n",
       "      <th>10,000,000</th>\n",
       "      <th>100% Orange Juice</th>\n",
       "      <th>1000 Amps</th>\n",
       "      <th>12 Labours of Hercules</th>\n",
       "      <th>12 Labours of Hercules II The Cretan Bull</th>\n",
       "      <th>...</th>\n",
       "      <th>rFactor</th>\n",
       "      <th>rFactor 2</th>\n",
       "      <th>realMyst</th>\n",
       "      <th>realMyst Masterpiece Edition</th>\n",
       "      <th>resident evil 4 / biohazard 4</th>\n",
       "      <th>rymdkapsel</th>\n",
       "      <th>sZone-Online</th>\n",
       "      <th>the static speaks my name</th>\n",
       "      <th>theHunter</th>\n",
       "      <th>theHunter Primal</th>\n",
       "    </tr>\n",
       "  </thead>\n",
       "  <tbody>\n",
       "    <tr>\n",
       "      <th>0</th>\n",
       "      <td>5250</td>\n",
       "      <td>0.0</td>\n",
       "      <td>0.0</td>\n",
       "      <td>0.0</td>\n",
       "      <td>0.0</td>\n",
       "      <td>0.0</td>\n",
       "      <td>0.0</td>\n",
       "      <td>0.0</td>\n",
       "      <td>0.0</td>\n",
       "      <td>0.0</td>\n",
       "      <td>...</td>\n",
       "      <td>0.0</td>\n",
       "      <td>0.0</td>\n",
       "      <td>0.0</td>\n",
       "      <td>0.0</td>\n",
       "      <td>0.0</td>\n",
       "      <td>0.0</td>\n",
       "      <td>0.0</td>\n",
       "      <td>0.0</td>\n",
       "      <td>0.0</td>\n",
       "      <td>0.0</td>\n",
       "    </tr>\n",
       "    <tr>\n",
       "      <th>1</th>\n",
       "      <td>76767</td>\n",
       "      <td>0.0</td>\n",
       "      <td>0.0</td>\n",
       "      <td>0.0</td>\n",
       "      <td>0.0</td>\n",
       "      <td>0.0</td>\n",
       "      <td>0.0</td>\n",
       "      <td>0.0</td>\n",
       "      <td>0.0</td>\n",
       "      <td>0.0</td>\n",
       "      <td>...</td>\n",
       "      <td>0.0</td>\n",
       "      <td>0.0</td>\n",
       "      <td>0.0</td>\n",
       "      <td>0.0</td>\n",
       "      <td>0.0</td>\n",
       "      <td>0.0</td>\n",
       "      <td>0.0</td>\n",
       "      <td>0.0</td>\n",
       "      <td>0.0</td>\n",
       "      <td>0.0</td>\n",
       "    </tr>\n",
       "    <tr>\n",
       "      <th>2</th>\n",
       "      <td>86540</td>\n",
       "      <td>0.0</td>\n",
       "      <td>0.0</td>\n",
       "      <td>0.0</td>\n",
       "      <td>0.0</td>\n",
       "      <td>0.0</td>\n",
       "      <td>0.0</td>\n",
       "      <td>0.0</td>\n",
       "      <td>0.0</td>\n",
       "      <td>0.0</td>\n",
       "      <td>...</td>\n",
       "      <td>0.0</td>\n",
       "      <td>0.0</td>\n",
       "      <td>0.0</td>\n",
       "      <td>0.0</td>\n",
       "      <td>0.0</td>\n",
       "      <td>0.0</td>\n",
       "      <td>0.0</td>\n",
       "      <td>0.0</td>\n",
       "      <td>0.0</td>\n",
       "      <td>0.0</td>\n",
       "    </tr>\n",
       "    <tr>\n",
       "      <th>3</th>\n",
       "      <td>144736</td>\n",
       "      <td>0.0</td>\n",
       "      <td>0.0</td>\n",
       "      <td>0.0</td>\n",
       "      <td>0.0</td>\n",
       "      <td>0.0</td>\n",
       "      <td>0.0</td>\n",
       "      <td>0.0</td>\n",
       "      <td>0.0</td>\n",
       "      <td>0.0</td>\n",
       "      <td>...</td>\n",
       "      <td>0.0</td>\n",
       "      <td>0.0</td>\n",
       "      <td>0.0</td>\n",
       "      <td>0.0</td>\n",
       "      <td>0.0</td>\n",
       "      <td>0.0</td>\n",
       "      <td>0.0</td>\n",
       "      <td>0.0</td>\n",
       "      <td>0.0</td>\n",
       "      <td>0.0</td>\n",
       "    </tr>\n",
       "    <tr>\n",
       "      <th>4</th>\n",
       "      <td>181212</td>\n",
       "      <td>0.0</td>\n",
       "      <td>0.0</td>\n",
       "      <td>0.0</td>\n",
       "      <td>0.0</td>\n",
       "      <td>0.0</td>\n",
       "      <td>0.0</td>\n",
       "      <td>0.0</td>\n",
       "      <td>0.0</td>\n",
       "      <td>0.0</td>\n",
       "      <td>...</td>\n",
       "      <td>0.0</td>\n",
       "      <td>0.0</td>\n",
       "      <td>0.0</td>\n",
       "      <td>0.0</td>\n",
       "      <td>0.0</td>\n",
       "      <td>0.0</td>\n",
       "      <td>0.0</td>\n",
       "      <td>0.0</td>\n",
       "      <td>0.0</td>\n",
       "      <td>0.0</td>\n",
       "    </tr>\n",
       "  </tbody>\n",
       "</table>\n",
       "<p>5 rows × 3601 columns</p>\n",
       "</div>"
      ],
      "text/plain": [
       "games  user_id  007 Legends  0RBITALIS  \\\n",
       "0         5250          0.0        0.0   \n",
       "1        76767          0.0        0.0   \n",
       "2        86540          0.0        0.0   \n",
       "3       144736          0.0        0.0   \n",
       "4       181212          0.0        0.0   \n",
       "\n",
       "games  1... 2... 3... KICK IT! (Drop That Beat Like an Ugly Baby)  \\\n",
       "0                                                    0.0            \n",
       "1                                                    0.0            \n",
       "2                                                    0.0            \n",
       "3                                                    0.0            \n",
       "4                                                    0.0            \n",
       "\n",
       "games  10 Second Ninja  10,000,000  100% Orange Juice  1000 Amps  \\\n",
       "0                  0.0         0.0                0.0        0.0   \n",
       "1                  0.0         0.0                0.0        0.0   \n",
       "2                  0.0         0.0                0.0        0.0   \n",
       "3                  0.0         0.0                0.0        0.0   \n",
       "4                  0.0         0.0                0.0        0.0   \n",
       "\n",
       "games  12 Labours of Hercules  12 Labours of Hercules II The Cretan Bull  ...  \\\n",
       "0                         0.0                                        0.0  ...   \n",
       "1                         0.0                                        0.0  ...   \n",
       "2                         0.0                                        0.0  ...   \n",
       "3                         0.0                                        0.0  ...   \n",
       "4                         0.0                                        0.0  ...   \n",
       "\n",
       "games  rFactor  rFactor 2  realMyst  realMyst Masterpiece Edition  \\\n",
       "0          0.0        0.0       0.0                           0.0   \n",
       "1          0.0        0.0       0.0                           0.0   \n",
       "2          0.0        0.0       0.0                           0.0   \n",
       "3          0.0        0.0       0.0                           0.0   \n",
       "4          0.0        0.0       0.0                           0.0   \n",
       "\n",
       "games  resident evil 4 / biohazard 4  rymdkapsel  sZone-Online  \\\n",
       "0                                0.0         0.0           0.0   \n",
       "1                                0.0         0.0           0.0   \n",
       "2                                0.0         0.0           0.0   \n",
       "3                                0.0         0.0           0.0   \n",
       "4                                0.0         0.0           0.0   \n",
       "\n",
       "games  the static speaks my name  theHunter  theHunter Primal  \n",
       "0                            0.0        0.0               0.0  \n",
       "1                            0.0        0.0               0.0  \n",
       "2                            0.0        0.0               0.0  \n",
       "3                            0.0        0.0               0.0  \n",
       "4                            0.0        0.0               0.0  \n",
       "\n",
       "[5 rows x 3601 columns]"
      ]
     },
     "execution_count": 13,
     "metadata": {},
     "output_type": "execute_result"
    }
   ],
   "source": [
    "matrix1.head()"
   ]
  },
  {
   "cell_type": "markdown",
   "metadata": {},
   "source": [
    "Part 1 : Using turicreate library to define and compare 3 recommendation models\n"
   ]
  },
  {
   "cell_type": "code",
   "execution_count": 14,
   "metadata": {},
   "outputs": [
    {
     "name": "stdout",
     "output_type": "stream",
     "text": [
      "(70477, 3)\n"
     ]
    },
    {
     "data": {
      "text/html": [
       "<div>\n",
       "<style scoped>\n",
       "    .dataframe tbody tr th:only-of-type {\n",
       "        vertical-align: middle;\n",
       "    }\n",
       "\n",
       "    .dataframe tbody tr th {\n",
       "        vertical-align: top;\n",
       "    }\n",
       "\n",
       "    .dataframe thead th {\n",
       "        text-align: right;\n",
       "    }\n",
       "</style>\n",
       "<table border=\"1\" class=\"dataframe\">\n",
       "  <thead>\n",
       "    <tr style=\"text-align: right;\">\n",
       "      <th></th>\n",
       "      <th>user_id</th>\n",
       "      <th>games</th>\n",
       "      <th>rating</th>\n",
       "    </tr>\n",
       "  </thead>\n",
       "  <tbody>\n",
       "    <tr>\n",
       "      <th>949</th>\n",
       "      <td>46055854</td>\n",
       "      <td>007 Legends</td>\n",
       "      <td>1.0</td>\n",
       "    </tr>\n",
       "    <tr>\n",
       "      <th>11533</th>\n",
       "      <td>11940338</td>\n",
       "      <td>0RBITALIS</td>\n",
       "      <td>1.0</td>\n",
       "    </tr>\n",
       "    <tr>\n",
       "      <th>13636</th>\n",
       "      <td>86055705</td>\n",
       "      <td>0RBITALIS</td>\n",
       "      <td>1.0</td>\n",
       "    </tr>\n",
       "    <tr>\n",
       "      <th>13921</th>\n",
       "      <td>93030550</td>\n",
       "      <td>0RBITALIS</td>\n",
       "      <td>1.0</td>\n",
       "    </tr>\n",
       "    <tr>\n",
       "      <th>23770</th>\n",
       "      <td>49893565</td>\n",
       "      <td>1... 2... 3... KICK IT! (Drop That Beat Like a...</td>\n",
       "      <td>2.0</td>\n",
       "    </tr>\n",
       "  </tbody>\n",
       "</table>\n",
       "</div>"
      ],
      "text/plain": [
       "        user_id                                              games  rating\n",
       "949    46055854                                        007 Legends     1.0\n",
       "11533  11940338                                          0RBITALIS     1.0\n",
       "13636  86055705                                          0RBITALIS     1.0\n",
       "13921  93030550                                          0RBITALIS     1.0\n",
       "23770  49893565  1... 2... 3... KICK IT! (Drop That Beat Like a...     2.0"
      ]
     },
     "execution_count": 14,
     "metadata": {},
     "output_type": "execute_result"
    }
   ],
   "source": [
    "#create a table for input to the modeling  \n",
    "d = df_matrix.reset_index()\n",
    "d.index.names = ['rating']\n",
    "data_norm = pd.melt(d, id_vars=['user_id'], value_name='rating').dropna()\n",
    "print(data_norm.shape)\n",
    "data_norm.head()"
   ]
  },
  {
   "cell_type": "code",
   "execution_count": 15,
   "metadata": {},
   "outputs": [],
   "source": [
    "# variables to define field names\n",
    "# constant variables include:\n",
    "t_data = tc.SFrame(data_norm) #creating dataframe readable for turicreate\n",
    "user_id = 'user_id'\n",
    "item_id = 'games'\n",
    "users_to_recommend = list(matrix1[user_id])\n",
    "n_rec = 10 # number of items to recommend\n",
    "n_display = 20 # to print the head / first few rows in a defined dataset"
   ]
  },
  {
   "cell_type": "code",
   "execution_count": 16,
   "metadata": {},
   "outputs": [],
   "source": [
    "#defining the model\n",
    "def model(data, name, user_id, item_id, target, users_to_recommend, n_rec, n_display):\n",
    "    if name == 'popularity':\n",
    "        model = tc.popularity_recommender.create(data, \n",
    "                                                    user_id=user_id, \n",
    "                                                    item_id=item_id, \n",
    "                                                    target=target)\n",
    "    elif name == 'cosine':\n",
    "        model = tc.item_similarity_recommender.create(data, \n",
    "                                                    user_id=user_id, \n",
    "                                                    item_id=item_id, \n",
    "                                                    target=target, \n",
    "                                                    similarity_type='cosine')\n",
    "    elif name == 'pearson':\n",
    "        model = tc.item_similarity_recommender.create(data, \n",
    "                                                    user_id=user_id, \n",
    "                                                    item_id=item_id, \n",
    "                                                    target=target, \n",
    "                                                    similarity_type='pearson')\n",
    "        \n",
    "    recom = model.recommend(users=users_to_recommend, k=n_rec)\n",
    "    recom.print_rows(n_display)\n",
    "    return model"
   ]
  },
  {
   "cell_type": "markdown",
   "metadata": {},
   "source": [
    "popularity model"
   ]
  },
  {
   "cell_type": "code",
   "execution_count": 17,
   "metadata": {},
   "outputs": [
    {
     "data": {
      "text/html": [
       "<pre>Preparing data set.</pre>"
      ],
      "text/plain": [
       "Preparing data set."
      ]
     },
     "metadata": {},
     "output_type": "display_data"
    },
    {
     "data": {
      "text/html": [
       "<pre>    Data has 70477 observations with 11350 users and 3600 items.</pre>"
      ],
      "text/plain": [
       "    Data has 70477 observations with 11350 users and 3600 items."
      ]
     },
     "metadata": {},
     "output_type": "display_data"
    },
    {
     "data": {
      "text/html": [
       "<pre>    Data prepared in: 0.267748s</pre>"
      ],
      "text/plain": [
       "    Data prepared in: 0.267748s"
      ]
     },
     "metadata": {},
     "output_type": "display_data"
    },
    {
     "data": {
      "text/html": [
       "<pre>70477 observations to process; with 3600 unique items.</pre>"
      ],
      "text/plain": [
       "70477 observations to process; with 3600 unique items."
      ]
     },
     "metadata": {},
     "output_type": "display_data"
    },
    {
     "data": {
      "text/html": [
       "<pre>recommendations finished on 1000/11350 queries. users per second: 36972.7</pre>"
      ],
      "text/plain": [
       "recommendations finished on 1000/11350 queries. users per second: 36972.7"
      ]
     },
     "metadata": {},
     "output_type": "display_data"
    },
    {
     "data": {
      "text/html": [
       "<pre>recommendations finished on 2000/11350 queries. users per second: 38867.4</pre>"
      ],
      "text/plain": [
       "recommendations finished on 2000/11350 queries. users per second: 38867.4"
      ]
     },
     "metadata": {},
     "output_type": "display_data"
    },
    {
     "data": {
      "text/html": [
       "<pre>recommendations finished on 3000/11350 queries. users per second: 38468.4</pre>"
      ],
      "text/plain": [
       "recommendations finished on 3000/11350 queries. users per second: 38468.4"
      ]
     },
     "metadata": {},
     "output_type": "display_data"
    },
    {
     "data": {
      "text/html": [
       "<pre>recommendations finished on 4000/11350 queries. users per second: 39361.6</pre>"
      ],
      "text/plain": [
       "recommendations finished on 4000/11350 queries. users per second: 39361.6"
      ]
     },
     "metadata": {},
     "output_type": "display_data"
    },
    {
     "data": {
      "text/html": [
       "<pre>recommendations finished on 5000/11350 queries. users per second: 38935.7</pre>"
      ],
      "text/plain": [
       "recommendations finished on 5000/11350 queries. users per second: 38935.7"
      ]
     },
     "metadata": {},
     "output_type": "display_data"
    },
    {
     "data": {
      "text/html": [
       "<pre>recommendations finished on 6000/11350 queries. users per second: 38968.6</pre>"
      ],
      "text/plain": [
       "recommendations finished on 6000/11350 queries. users per second: 38968.6"
      ]
     },
     "metadata": {},
     "output_type": "display_data"
    },
    {
     "data": {
      "text/html": [
       "<pre>recommendations finished on 7000/11350 queries. users per second: 37260.6</pre>"
      ],
      "text/plain": [
       "recommendations finished on 7000/11350 queries. users per second: 37260.6"
      ]
     },
     "metadata": {},
     "output_type": "display_data"
    },
    {
     "data": {
      "text/html": [
       "<pre>recommendations finished on 8000/11350 queries. users per second: 37132.3</pre>"
      ],
      "text/plain": [
       "recommendations finished on 8000/11350 queries. users per second: 37132.3"
      ]
     },
     "metadata": {},
     "output_type": "display_data"
    },
    {
     "data": {
      "text/html": [
       "<pre>recommendations finished on 9000/11350 queries. users per second: 37622</pre>"
      ],
      "text/plain": [
       "recommendations finished on 9000/11350 queries. users per second: 37622"
      ]
     },
     "metadata": {},
     "output_type": "display_data"
    },
    {
     "data": {
      "text/html": [
       "<pre>recommendations finished on 10000/11350 queries. users per second: 37255</pre>"
      ],
      "text/plain": [
       "recommendations finished on 10000/11350 queries. users per second: 37255"
      ]
     },
     "metadata": {},
     "output_type": "display_data"
    },
    {
     "data": {
      "text/html": [
       "<pre>recommendations finished on 11000/11350 queries. users per second: 36965.8</pre>"
      ],
      "text/plain": [
       "recommendations finished on 11000/11350 queries. users per second: 36965.8"
      ]
     },
     "metadata": {},
     "output_type": "display_data"
    },
    {
     "name": "stdout",
     "output_type": "stream",
     "text": [
      "+---------+-------------------------------+-------+------+\n",
      "| user_id |             games             | score | rank |\n",
      "+---------+-------------------------------+-------+------+\n",
      "|   5250  |     The Curious Expedition    |  10.0 |  1   |\n",
      "|   5250  | Test Drive Ferrari Racing ... |  10.0 |  2   |\n",
      "|   5250  |             Runers            |  10.0 |  3   |\n",
      "|   5250  |          Dollar Dash          |  10.0 |  4   |\n",
      "|   5250  |  Distant Star Revenant Fleet  |  10.0 |  5   |\n",
      "|   5250  |        DinerTown Tycoon       |  10.0 |  6   |\n",
      "|   5250  |        Bejeweled Deluxe       |  10.0 |  7   |\n",
      "|   5250  |           Bad Hotel           |  10.0 |  8   |\n",
      "|   5250  |            Asteria            |  10.0 |  9   |\n",
      "|   5250  |          3D Mini Golf         |  10.0 |  10  |\n",
      "|  76767  |     The Curious Expedition    |  10.0 |  1   |\n",
      "|  76767  | Test Drive Ferrari Racing ... |  10.0 |  2   |\n",
      "|  76767  |             Runers            |  10.0 |  3   |\n",
      "|  76767  |          Dollar Dash          |  10.0 |  4   |\n",
      "|  76767  |  Distant Star Revenant Fleet  |  10.0 |  5   |\n",
      "|  76767  |        DinerTown Tycoon       |  10.0 |  6   |\n",
      "|  76767  |        Bejeweled Deluxe       |  10.0 |  7   |\n",
      "|  76767  |           Bad Hotel           |  10.0 |  8   |\n",
      "|  76767  |            Asteria            |  10.0 |  9   |\n",
      "|  76767  |          3D Mini Golf         |  10.0 |  10  |\n",
      "+---------+-------------------------------+-------+------+\n",
      "[113500 rows x 4 columns]\n",
      "\n"
     ]
    }
   ],
   "source": [
    "\n",
    "name = 'popularity'\n",
    "target = 'rating'\n",
    "pop_model = model(t_data, name, user_id, item_id, target, users_to_recommend, n_rec, n_display)"
   ]
  },
  {
   "cell_type": "markdown",
   "metadata": {},
   "source": [
    "As it appears , the model is recommending the same top 10 games "
   ]
  },
  {
   "cell_type": "markdown",
   "metadata": {},
   "source": [
    "cosine similarity model"
   ]
  },
  {
   "cell_type": "code",
   "execution_count": 18,
   "metadata": {},
   "outputs": [
    {
     "data": {
      "text/html": [
       "<pre>Preparing data set.</pre>"
      ],
      "text/plain": [
       "Preparing data set."
      ]
     },
     "metadata": {},
     "output_type": "display_data"
    },
    {
     "data": {
      "text/html": [
       "<pre>    Data has 70477 observations with 11350 users and 3600 items.</pre>"
      ],
      "text/plain": [
       "    Data has 70477 observations with 11350 users and 3600 items."
      ]
     },
     "metadata": {},
     "output_type": "display_data"
    },
    {
     "data": {
      "text/html": [
       "<pre>    Data prepared in: 0.192855s</pre>"
      ],
      "text/plain": [
       "    Data prepared in: 0.192855s"
      ]
     },
     "metadata": {},
     "output_type": "display_data"
    },
    {
     "data": {
      "text/html": [
       "<pre>Training model from provided data.</pre>"
      ],
      "text/plain": [
       "Training model from provided data."
      ]
     },
     "metadata": {},
     "output_type": "display_data"
    },
    {
     "data": {
      "text/html": [
       "<pre>Gathering per-item and per-user statistics.</pre>"
      ],
      "text/plain": [
       "Gathering per-item and per-user statistics."
      ]
     },
     "metadata": {},
     "output_type": "display_data"
    },
    {
     "data": {
      "text/html": [
       "<pre>+--------------------------------+------------+</pre>"
      ],
      "text/plain": [
       "+--------------------------------+------------+"
      ]
     },
     "metadata": {},
     "output_type": "display_data"
    },
    {
     "data": {
      "text/html": [
       "<pre>| Elapsed Time (Item Statistics) | % Complete |</pre>"
      ],
      "text/plain": [
       "| Elapsed Time (Item Statistics) | % Complete |"
      ]
     },
     "metadata": {},
     "output_type": "display_data"
    },
    {
     "data": {
      "text/html": [
       "<pre>+--------------------------------+------------+</pre>"
      ],
      "text/plain": [
       "+--------------------------------+------------+"
      ]
     },
     "metadata": {},
     "output_type": "display_data"
    },
    {
     "data": {
      "text/html": [
       "<pre>| 9.117ms                        | 35         |</pre>"
      ],
      "text/plain": [
       "| 9.117ms                        | 35         |"
      ]
     },
     "metadata": {},
     "output_type": "display_data"
    },
    {
     "data": {
      "text/html": [
       "<pre>| 13.574ms                       | 100        |</pre>"
      ],
      "text/plain": [
       "| 13.574ms                       | 100        |"
      ]
     },
     "metadata": {},
     "output_type": "display_data"
    },
    {
     "data": {
      "text/html": [
       "<pre>+--------------------------------+------------+</pre>"
      ],
      "text/plain": [
       "+--------------------------------+------------+"
      ]
     },
     "metadata": {},
     "output_type": "display_data"
    },
    {
     "data": {
      "text/html": [
       "<pre>Setting up lookup tables.</pre>"
      ],
      "text/plain": [
       "Setting up lookup tables."
      ]
     },
     "metadata": {},
     "output_type": "display_data"
    },
    {
     "data": {
      "text/html": [
       "<pre>Processing data in one pass using dense lookup tables.</pre>"
      ],
      "text/plain": [
       "Processing data in one pass using dense lookup tables."
      ]
     },
     "metadata": {},
     "output_type": "display_data"
    },
    {
     "data": {
      "text/html": [
       "<pre>+-------------------------------------+------------------+-----------------+</pre>"
      ],
      "text/plain": [
       "+-------------------------------------+------------------+-----------------+"
      ]
     },
     "metadata": {},
     "output_type": "display_data"
    },
    {
     "data": {
      "text/html": [
       "<pre>| Elapsed Time (Constructing Lookups) | Total % Complete | Items Processed |</pre>"
      ],
      "text/plain": [
       "| Elapsed Time (Constructing Lookups) | Total % Complete | Items Processed |"
      ]
     },
     "metadata": {},
     "output_type": "display_data"
    },
    {
     "data": {
      "text/html": [
       "<pre>+-------------------------------------+------------------+-----------------+</pre>"
      ],
      "text/plain": [
       "+-------------------------------------+------------------+-----------------+"
      ]
     },
     "metadata": {},
     "output_type": "display_data"
    },
    {
     "data": {
      "text/html": [
       "<pre>| 106.983ms                           | 0                | 1               |</pre>"
      ],
      "text/plain": [
       "| 106.983ms                           | 0                | 1               |"
      ]
     },
     "metadata": {},
     "output_type": "display_data"
    },
    {
     "data": {
      "text/html": [
       "<pre>| 380.504ms                           | 100              | 3600            |</pre>"
      ],
      "text/plain": [
       "| 380.504ms                           | 100              | 3600            |"
      ]
     },
     "metadata": {},
     "output_type": "display_data"
    },
    {
     "data": {
      "text/html": [
       "<pre>+-------------------------------------+------------------+-----------------+</pre>"
      ],
      "text/plain": [
       "+-------------------------------------+------------------+-----------------+"
      ]
     },
     "metadata": {},
     "output_type": "display_data"
    },
    {
     "data": {
      "text/html": [
       "<pre>Finalizing lookup tables.</pre>"
      ],
      "text/plain": [
       "Finalizing lookup tables."
      ]
     },
     "metadata": {},
     "output_type": "display_data"
    },
    {
     "data": {
      "text/html": [
       "<pre>Generating candidate set for working with new users.</pre>"
      ],
      "text/plain": [
       "Generating candidate set for working with new users."
      ]
     },
     "metadata": {},
     "output_type": "display_data"
    },
    {
     "data": {
      "text/html": [
       "<pre>Finished training in 1.41218s</pre>"
      ],
      "text/plain": [
       "Finished training in 1.41218s"
      ]
     },
     "metadata": {},
     "output_type": "display_data"
    },
    {
     "data": {
      "text/html": [
       "<pre>recommendations finished on 1000/11350 queries. users per second: 18546.3</pre>"
      ],
      "text/plain": [
       "recommendations finished on 1000/11350 queries. users per second: 18546.3"
      ]
     },
     "metadata": {},
     "output_type": "display_data"
    },
    {
     "data": {
      "text/html": [
       "<pre>recommendations finished on 2000/11350 queries. users per second: 22061.4</pre>"
      ],
      "text/plain": [
       "recommendations finished on 2000/11350 queries. users per second: 22061.4"
      ]
     },
     "metadata": {},
     "output_type": "display_data"
    },
    {
     "data": {
      "text/html": [
       "<pre>recommendations finished on 3000/11350 queries. users per second: 19116.7</pre>"
      ],
      "text/plain": [
       "recommendations finished on 3000/11350 queries. users per second: 19116.7"
      ]
     },
     "metadata": {},
     "output_type": "display_data"
    },
    {
     "data": {
      "text/html": [
       "<pre>recommendations finished on 4000/11350 queries. users per second: 21113</pre>"
      ],
      "text/plain": [
       "recommendations finished on 4000/11350 queries. users per second: 21113"
      ]
     },
     "metadata": {},
     "output_type": "display_data"
    },
    {
     "data": {
      "text/html": [
       "<pre>recommendations finished on 5000/11350 queries. users per second: 22457</pre>"
      ],
      "text/plain": [
       "recommendations finished on 5000/11350 queries. users per second: 22457"
      ]
     },
     "metadata": {},
     "output_type": "display_data"
    },
    {
     "data": {
      "text/html": [
       "<pre>recommendations finished on 6000/11350 queries. users per second: 21849.6</pre>"
      ],
      "text/plain": [
       "recommendations finished on 6000/11350 queries. users per second: 21849.6"
      ]
     },
     "metadata": {},
     "output_type": "display_data"
    },
    {
     "data": {
      "text/html": [
       "<pre>recommendations finished on 7000/11350 queries. users per second: 22292.6</pre>"
      ],
      "text/plain": [
       "recommendations finished on 7000/11350 queries. users per second: 22292.6"
      ]
     },
     "metadata": {},
     "output_type": "display_data"
    },
    {
     "data": {
      "text/html": [
       "<pre>recommendations finished on 8000/11350 queries. users per second: 22549.5</pre>"
      ],
      "text/plain": [
       "recommendations finished on 8000/11350 queries. users per second: 22549.5"
      ]
     },
     "metadata": {},
     "output_type": "display_data"
    },
    {
     "data": {
      "text/html": [
       "<pre>recommendations finished on 9000/11350 queries. users per second: 22049.2</pre>"
      ],
      "text/plain": [
       "recommendations finished on 9000/11350 queries. users per second: 22049.2"
      ]
     },
     "metadata": {},
     "output_type": "display_data"
    },
    {
     "data": {
      "text/html": [
       "<pre>recommendations finished on 10000/11350 queries. users per second: 22012.2</pre>"
      ],
      "text/plain": [
       "recommendations finished on 10000/11350 queries. users per second: 22012.2"
      ]
     },
     "metadata": {},
     "output_type": "display_data"
    },
    {
     "data": {
      "text/html": [
       "<pre>recommendations finished on 11000/11350 queries. users per second: 21372.1</pre>"
      ],
      "text/plain": [
       "recommendations finished on 11000/11350 queries. users per second: 21372.1"
      ]
     },
     "metadata": {},
     "output_type": "display_data"
    },
    {
     "name": "stdout",
     "output_type": "stream",
     "text": [
      "+---------+-------------------------------+---------------------+------+\n",
      "| user_id |             games             |        score        | rank |\n",
      "+---------+-------------------------------+---------------------+------+\n",
      "|   5250  |         Left 4 Dead 2         |  0.6339463094870249 |  1   |\n",
      "|   5250  |     FTL Faster Than Light     |  0.6091278990109762 |  2   |\n",
      "|   5250  |   The Elder Scrolls V Skyrim  |  0.5888828039169312 |  3   |\n",
      "|   5250  |       XCOM Enemy Unknown      |  0.5690694252649943 |  4   |\n",
      "|   5250  |         Borderlands 2         |  0.5247333844502767 |  5   |\n",
      "|   5250  | The Witcher 2 Assassins of... |  0.5111501117547353 |  6   |\n",
      "|   5250  |           Dishonored          | 0.48396604259808856 |  7   |\n",
      "|   5250  |           Metro 2033          |  0.4633725682894389 |  8   |\n",
      "|   5250  |          Borderlands          |  0.4522691567738851 |  9   |\n",
      "|   5250  |          Half-Life 2          | 0.44557257493336994 |  10  |\n",
      "|  76767  |         Left 4 Dead 2         |  0.3791837602853775 |  1   |\n",
      "|  76767  |         Borderlands 2         | 0.34304929077625274 |  2   |\n",
      "|  76767  |   The Elder Scrolls V Skyrim  |  0.3267057865858078 |  3   |\n",
      "|  76767  | Call of Duty Black Ops II ... | 0.31154263615608213 |  4   |\n",
      "|  76767  |             Portal            | 0.29768904447555544 |  5   |\n",
      "|  76767  |   Battlefield Bad Company 2   |  0.2677368611097336 |  6   |\n",
      "|  76767  |         Killing Floor         |  0.2669733494520187 |  7   |\n",
      "|  76767  |        Team Fortress 2        | 0.26127779483795166 |  8   |\n",
      "|  76767  |            PAYDAY 2           | 0.25617683231830596 |  9   |\n",
      "|  76767  |          Half-Life 2          | 0.23633924424648284 |  10  |\n",
      "+---------+-------------------------------+---------------------+------+\n",
      "[113500 rows x 4 columns]\n",
      "\n"
     ]
    }
   ],
   "source": [
    "name = 'cosine'\n",
    "target = 'rating'\n",
    "cosine_model = model(t_data, name, user_id, item_id, target, users_to_recommend, n_rec, 20)"
   ]
  },
  {
   "cell_type": "markdown",
   "metadata": {},
   "source": [
    "pearson similarity model"
   ]
  },
  {
   "cell_type": "code",
   "execution_count": 19,
   "metadata": {},
   "outputs": [
    {
     "data": {
      "text/html": [
       "<pre>Preparing data set.</pre>"
      ],
      "text/plain": [
       "Preparing data set."
      ]
     },
     "metadata": {},
     "output_type": "display_data"
    },
    {
     "data": {
      "text/html": [
       "<pre>    Data has 70477 observations with 11350 users and 3600 items.</pre>"
      ],
      "text/plain": [
       "    Data has 70477 observations with 11350 users and 3600 items."
      ]
     },
     "metadata": {},
     "output_type": "display_data"
    },
    {
     "data": {
      "text/html": [
       "<pre>    Data prepared in: 0.222579s</pre>"
      ],
      "text/plain": [
       "    Data prepared in: 0.222579s"
      ]
     },
     "metadata": {},
     "output_type": "display_data"
    },
    {
     "data": {
      "text/html": [
       "<pre>Training model from provided data.</pre>"
      ],
      "text/plain": [
       "Training model from provided data."
      ]
     },
     "metadata": {},
     "output_type": "display_data"
    },
    {
     "data": {
      "text/html": [
       "<pre>Gathering per-item and per-user statistics.</pre>"
      ],
      "text/plain": [
       "Gathering per-item and per-user statistics."
      ]
     },
     "metadata": {},
     "output_type": "display_data"
    },
    {
     "data": {
      "text/html": [
       "<pre>+--------------------------------+------------+</pre>"
      ],
      "text/plain": [
       "+--------------------------------+------------+"
      ]
     },
     "metadata": {},
     "output_type": "display_data"
    },
    {
     "data": {
      "text/html": [
       "<pre>| Elapsed Time (Item Statistics) | % Complete |</pre>"
      ],
      "text/plain": [
       "| Elapsed Time (Item Statistics) | % Complete |"
      ]
     },
     "metadata": {},
     "output_type": "display_data"
    },
    {
     "data": {
      "text/html": [
       "<pre>+--------------------------------+------------+</pre>"
      ],
      "text/plain": [
       "+--------------------------------+------------+"
      ]
     },
     "metadata": {},
     "output_type": "display_data"
    },
    {
     "data": {
      "text/html": [
       "<pre>| 3.982ms                        | 8.75       |</pre>"
      ],
      "text/plain": [
       "| 3.982ms                        | 8.75       |"
      ]
     },
     "metadata": {},
     "output_type": "display_data"
    },
    {
     "data": {
      "text/html": [
       "<pre>| 11.279ms                       | 100        |</pre>"
      ],
      "text/plain": [
       "| 11.279ms                       | 100        |"
      ]
     },
     "metadata": {},
     "output_type": "display_data"
    },
    {
     "data": {
      "text/html": [
       "<pre>+--------------------------------+------------+</pre>"
      ],
      "text/plain": [
       "+--------------------------------+------------+"
      ]
     },
     "metadata": {},
     "output_type": "display_data"
    },
    {
     "data": {
      "text/html": [
       "<pre>Setting up lookup tables.</pre>"
      ],
      "text/plain": [
       "Setting up lookup tables."
      ]
     },
     "metadata": {},
     "output_type": "display_data"
    },
    {
     "data": {
      "text/html": [
       "<pre>Processing data in one pass using dense lookup tables.</pre>"
      ],
      "text/plain": [
       "Processing data in one pass using dense lookup tables."
      ]
     },
     "metadata": {},
     "output_type": "display_data"
    },
    {
     "data": {
      "text/html": [
       "<pre>+-------------------------------------+------------------+-----------------+</pre>"
      ],
      "text/plain": [
       "+-------------------------------------+------------------+-----------------+"
      ]
     },
     "metadata": {},
     "output_type": "display_data"
    },
    {
     "data": {
      "text/html": [
       "<pre>| Elapsed Time (Constructing Lookups) | Total % Complete | Items Processed |</pre>"
      ],
      "text/plain": [
       "| Elapsed Time (Constructing Lookups) | Total % Complete | Items Processed |"
      ]
     },
     "metadata": {},
     "output_type": "display_data"
    },
    {
     "data": {
      "text/html": [
       "<pre>+-------------------------------------+------------------+-----------------+</pre>"
      ],
      "text/plain": [
       "+-------------------------------------+------------------+-----------------+"
      ]
     },
     "metadata": {},
     "output_type": "display_data"
    },
    {
     "data": {
      "text/html": [
       "<pre>| 61.428ms                            | 0                | 1               |</pre>"
      ],
      "text/plain": [
       "| 61.428ms                            | 0                | 1               |"
      ]
     },
     "metadata": {},
     "output_type": "display_data"
    },
    {
     "data": {
      "text/html": [
       "<pre>| 400.299ms                           | 100              | 3600            |</pre>"
      ],
      "text/plain": [
       "| 400.299ms                           | 100              | 3600            |"
      ]
     },
     "metadata": {},
     "output_type": "display_data"
    },
    {
     "data": {
      "text/html": [
       "<pre>+-------------------------------------+------------------+-----------------+</pre>"
      ],
      "text/plain": [
       "+-------------------------------------+------------------+-----------------+"
      ]
     },
     "metadata": {},
     "output_type": "display_data"
    },
    {
     "data": {
      "text/html": [
       "<pre>Finalizing lookup tables.</pre>"
      ],
      "text/plain": [
       "Finalizing lookup tables."
      ]
     },
     "metadata": {},
     "output_type": "display_data"
    },
    {
     "data": {
      "text/html": [
       "<pre>Generating candidate set for working with new users.</pre>"
      ],
      "text/plain": [
       "Generating candidate set for working with new users."
      ]
     },
     "metadata": {},
     "output_type": "display_data"
    },
    {
     "data": {
      "text/html": [
       "<pre>Finished training in 0.420224s</pre>"
      ],
      "text/plain": [
       "Finished training in 0.420224s"
      ]
     },
     "metadata": {},
     "output_type": "display_data"
    },
    {
     "data": {
      "text/html": [
       "<pre>recommendations finished on 1000/11350 queries. users per second: 24196.1</pre>"
      ],
      "text/plain": [
       "recommendations finished on 1000/11350 queries. users per second: 24196.1"
      ]
     },
     "metadata": {},
     "output_type": "display_data"
    },
    {
     "data": {
      "text/html": [
       "<pre>recommendations finished on 2000/11350 queries. users per second: 25859.8</pre>"
      ],
      "text/plain": [
       "recommendations finished on 2000/11350 queries. users per second: 25859.8"
      ]
     },
     "metadata": {},
     "output_type": "display_data"
    },
    {
     "data": {
      "text/html": [
       "<pre>recommendations finished on 3000/11350 queries. users per second: 25333.8</pre>"
      ],
      "text/plain": [
       "recommendations finished on 3000/11350 queries. users per second: 25333.8"
      ]
     },
     "metadata": {},
     "output_type": "display_data"
    },
    {
     "data": {
      "text/html": [
       "<pre>recommendations finished on 4000/11350 queries. users per second: 25976.7</pre>"
      ],
      "text/plain": [
       "recommendations finished on 4000/11350 queries. users per second: 25976.7"
      ]
     },
     "metadata": {},
     "output_type": "display_data"
    },
    {
     "data": {
      "text/html": [
       "<pre>recommendations finished on 5000/11350 queries. users per second: 26282.7</pre>"
      ],
      "text/plain": [
       "recommendations finished on 5000/11350 queries. users per second: 26282.7"
      ]
     },
     "metadata": {},
     "output_type": "display_data"
    },
    {
     "data": {
      "text/html": [
       "<pre>recommendations finished on 6000/11350 queries. users per second: 26929.5</pre>"
      ],
      "text/plain": [
       "recommendations finished on 6000/11350 queries. users per second: 26929.5"
      ]
     },
     "metadata": {},
     "output_type": "display_data"
    },
    {
     "data": {
      "text/html": [
       "<pre>recommendations finished on 7000/11350 queries. users per second: 27551.5</pre>"
      ],
      "text/plain": [
       "recommendations finished on 7000/11350 queries. users per second: 27551.5"
      ]
     },
     "metadata": {},
     "output_type": "display_data"
    },
    {
     "data": {
      "text/html": [
       "<pre>recommendations finished on 8000/11350 queries. users per second: 28236.6</pre>"
      ],
      "text/plain": [
       "recommendations finished on 8000/11350 queries. users per second: 28236.6"
      ]
     },
     "metadata": {},
     "output_type": "display_data"
    },
    {
     "data": {
      "text/html": [
       "<pre>recommendations finished on 9000/11350 queries. users per second: 28914.5</pre>"
      ],
      "text/plain": [
       "recommendations finished on 9000/11350 queries. users per second: 28914.5"
      ]
     },
     "metadata": {},
     "output_type": "display_data"
    },
    {
     "data": {
      "text/html": [
       "<pre>recommendations finished on 10000/11350 queries. users per second: 29320.1</pre>"
      ],
      "text/plain": [
       "recommendations finished on 10000/11350 queries. users per second: 29320.1"
      ]
     },
     "metadata": {},
     "output_type": "display_data"
    },
    {
     "data": {
      "text/html": [
       "<pre>recommendations finished on 11000/11350 queries. users per second: 28917.2</pre>"
      ],
      "text/plain": [
       "recommendations finished on 11000/11350 queries. users per second: 28917.2"
      ]
     },
     "metadata": {},
     "output_type": "display_data"
    },
    {
     "name": "stdout",
     "output_type": "stream",
     "text": [
      "+---------+--------------------------------+-------+------+\n",
      "| user_id |             games              | score | rank |\n",
      "+---------+--------------------------------+-------+------+\n",
      "|   5250  |             Clutch             |  10.0 |  1   |\n",
      "|   5250  | Close Combat - Gateway to Caen |  10.0 |  2   |\n",
      "|   5250  |          Dollar Dash           |  10.0 |  3   |\n",
      "|   5250  |  Distant Star Revenant Fleet   |  10.0 |  4   |\n",
      "|   5250  |        DinerTown Tycoon        |  10.0 |  5   |\n",
      "|   5250  |             Runers             |  10.0 |  6   |\n",
      "|   5250  |        Bejeweled Deluxe        |  10.0 |  7   |\n",
      "|   5250  |           Bad Hotel            |  10.0 |  8   |\n",
      "|   5250  |            Asteria             |  10.0 |  9   |\n",
      "|   5250  |          3D Mini Golf          |  10.0 |  10  |\n",
      "|  76767  |             Clutch             |  10.0 |  1   |\n",
      "|  76767  | Close Combat - Gateway to Caen |  10.0 |  2   |\n",
      "|  76767  |          Dollar Dash           |  10.0 |  3   |\n",
      "|  76767  |  Distant Star Revenant Fleet   |  10.0 |  4   |\n",
      "|  76767  |        DinerTown Tycoon        |  10.0 |  5   |\n",
      "|  76767  |             Runers             |  10.0 |  6   |\n",
      "|  76767  |        Bejeweled Deluxe        |  10.0 |  7   |\n",
      "|  76767  |           Bad Hotel            |  10.0 |  8   |\n",
      "|  76767  |            Asteria             |  10.0 |  9   |\n",
      "|  76767  |          3D Mini Golf          |  10.0 |  10  |\n",
      "+---------+--------------------------------+-------+------+\n",
      "[113500 rows x 4 columns]\n",
      "\n"
     ]
    }
   ],
   "source": [
    "name = 'pearson'\n",
    "target = 'rating'\n",
    "pearson_model = model(t_data, name, user_id, item_id, target, users_to_recommend, n_rec, n_display)"
   ]
  },
  {
   "cell_type": "code",
   "execution_count": 20,
   "metadata": {},
   "outputs": [
    {
     "name": "stdout",
     "output_type": "stream",
     "text": [
      "PROGRESS: Evaluate model M0\n",
      "\n",
      "Overall RMSE: 1.8218512680955279\n",
      "\n",
      "Per User RMSE (best)\n",
      "+-----------+------+-------+\n",
      "|  user_id  | rmse | count |\n",
      "+-----------+------+-------+\n",
      "| 103966604 | 0.0  |   1   |\n",
      "+-----------+------+-------+\n",
      "[1 rows x 3 columns]\n",
      "\n",
      "\n",
      "Per User RMSE (worst)\n",
      "+-----------+-------------------+-------+\n",
      "|  user_id  |        rmse       | count |\n",
      "+-----------+-------------------+-------+\n",
      "| 130145396 | 8.040816326530612 |   1   |\n",
      "+-----------+-------------------+-------+\n",
      "[1 rows x 3 columns]\n",
      "\n",
      "\n",
      "Per Item RMSE (best)\n",
      "+---------+------+-------+\n",
      "|  games  | rmse | count |\n",
      "+---------+------+-------+\n",
      "| Burgers | 0.0  |   2   |\n",
      "+---------+------+-------+\n",
      "[1 rows x 3 columns]\n",
      "\n",
      "\n",
      "Per Item RMSE (worst)\n",
      "+-------------------------+------+-------+\n",
      "|          games          | rmse | count |\n",
      "+-------------------------+------+-------+\n",
      "| Unreal II The Awakening | 4.5  |   4   |\n",
      "+-------------------------+------+-------+\n",
      "[1 rows x 3 columns]\n",
      "\n",
      "PROGRESS: Evaluate model M1\n",
      "\n",
      "Overall RMSE: 3.3325024795741585\n",
      "\n",
      "Per User RMSE (best)\n",
      "+----------+--------------------+-------+\n",
      "| user_id  |        rmse        | count |\n",
      "+----------+--------------------+-------+\n",
      "| 92342574 | 0.6215701699256897 |   2   |\n",
      "+----------+--------------------+-------+\n",
      "[1 rows x 3 columns]\n",
      "\n",
      "\n",
      "Per User RMSE (worst)\n",
      "+-----------+------+-------+\n",
      "|  user_id  | rmse | count |\n",
      "+-----------+------+-------+\n",
      "| 251196267 | 10.0 |   1   |\n",
      "+-----------+------+-------+\n",
      "[1 rows x 3 columns]\n",
      "\n",
      "\n",
      "Per Item RMSE (best)\n",
      "+---------------+----------------------+-------+\n",
      "|     games     |         rmse         | count |\n",
      "+---------------+----------------------+-------+\n",
      "| Legend of Fae | 0.024127600694957563 |   1   |\n",
      "+---------------+----------------------+-------+\n",
      "[1 rows x 3 columns]\n",
      "\n",
      "\n",
      "Per Item RMSE (worst)\n",
      "+-------+-------------------+-------+\n",
      "| games |        rmse       | count |\n",
      "+-------+-------------------+-------+\n",
      "|   iO  | 9.838208426833154 |   1   |\n",
      "+-------+-------------------+-------+\n",
      "[1 rows x 3 columns]\n",
      "\n",
      "PROGRESS: Evaluate model M2\n",
      "\n",
      "Overall RMSE: 1.810813836985098\n",
      "\n",
      "Per User RMSE (best)\n",
      "+-----------+------+-------+\n",
      "|  user_id  | rmse | count |\n",
      "+-----------+------+-------+\n",
      "| 103966604 | 0.0  |   1   |\n",
      "+-----------+------+-------+\n",
      "[1 rows x 3 columns]\n",
      "\n",
      "\n",
      "Per User RMSE (worst)\n",
      "+-----------+-------------------+-------+\n",
      "|  user_id  |        rmse       | count |\n",
      "+-----------+-------------------+-------+\n",
      "| 130145396 | 8.040816326530612 |   1   |\n",
      "+-----------+-------------------+-------+\n",
      "[1 rows x 3 columns]\n",
      "\n",
      "\n",
      "Per Item RMSE (best)\n",
      "+---------+------+-------+\n",
      "|  games  | rmse | count |\n",
      "+---------+------+-------+\n",
      "| Burgers | 0.0  |   2   |\n",
      "+---------+------+-------+\n",
      "[1 rows x 3 columns]\n",
      "\n",
      "\n",
      "Per Item RMSE (worst)\n",
      "+------------------+------+-------+\n",
      "|      games       | rmse | count |\n",
      "+------------------+------+-------+\n",
      "| FINAL FANTASY XI | 4.5  |   2   |\n",
      "+------------------+------+-------+\n",
      "[1 rows x 3 columns]\n",
      "\n"
     ]
    },
    {
     "data": {
      "text/plain": [
       "[{'rmse_by_user': Columns:\n",
       "  \tuser_id\tint\n",
       "  \trmse\tfloat\n",
       "  \tcount\tint\n",
       "  \n",
       "  Rows: 11350\n",
       "  \n",
       "  Data:\n",
       "  +-----------+--------------------+-------+\n",
       "  |  user_id  |        rmse        | count |\n",
       "  +-----------+--------------------+-------+\n",
       "  | 284165884 | 1.6263168766783722 |   1   |\n",
       "  | 238411403 | 2.626316876678372  |   1   |\n",
       "  | 182593878 | 4.313597448784551  |   3   |\n",
       "  | 207009485 | 1.2546740916047492 |   4   |\n",
       "  | 217368291 | 3.373683123321628  |   1   |\n",
       "  |  91035793 | 0.6263168766783722 |   1   |\n",
       "  | 112084902 | 0.3736831233216278 |   1   |\n",
       "  | 294715521 | 2.8048780487804876 |   1   |\n",
       "  | 150974633 | 2.3854846253561144 |   2   |\n",
       "  | 110881546 | 2.5844716740978964 |   22  |\n",
       "  +-----------+--------------------+-------+\n",
       "  [11350 rows x 3 columns]\n",
       "  Note: Only the head of the SFrame is printed.\n",
       "  You can use print_rows(num_rows=m, num_columns=n) to print more rows and columns.,\n",
       "  'rmse_by_item': Columns:\n",
       "  \tgames\tstr\n",
       "  \trmse\tfloat\n",
       "  \tcount\tint\n",
       "  \n",
       "  Rows: 3600\n",
       "  \n",
       "  Data:\n",
       "  +-------------------------------+--------------------+-------+\n",
       "  |             games             |        rmse        | count |\n",
       "  +-------------------------------+--------------------+-------+\n",
       "  |        10 Second Ninja        |        0.5         |   2   |\n",
       "  |     Toy Soldiers War Chest    |        0.0         |   2   |\n",
       "  |  Infestation Survivor Stories | 1.900276093480804  |   67  |\n",
       "  | Nightmares from the Deep 2... |        0.0         |   3   |\n",
       "  |  Ultimate General Gettysburg  | 3.8262252939417984 |   5   |\n",
       "  |     Unreal Tournament 2004    | 0.668042657122685  |   11  |\n",
       "  |          Toki Tori 2+         | 0.6666666666666667 |   9   |\n",
       "  |          Life is Hard         |        0.0         |   1   |\n",
       "  |          World of Goo         | 1.9049389453430865 |   41  |\n",
       "  |      Hollywood Visionary      |        0.0         |   2   |\n",
       "  +-------------------------------+--------------------+-------+\n",
       "  [3600 rows x 3 columns]\n",
       "  Note: Only the head of the SFrame is printed.\n",
       "  You can use print_rows(num_rows=m, num_columns=n) to print more rows and columns.,\n",
       "  'rmse_overall': 1.8218512680955279},\n",
       " {'rmse_by_user': Columns:\n",
       "  \tuser_id\tint\n",
       "  \trmse\tfloat\n",
       "  \tcount\tint\n",
       "  \n",
       "  Rows: 11350\n",
       "  \n",
       "  Data:\n",
       "  +-----------+-------------------+-------+\n",
       "  |  user_id  |        rmse       | count |\n",
       "  +-----------+-------------------+-------+\n",
       "  | 284165884 |        2.0        |   1   |\n",
       "  | 238411403 |        1.0        |   1   |\n",
       "  | 182593878 | 7.120827106712178 |   3   |\n",
       "  | 207009485 | 3.953063017169954 |   4   |\n",
       "  | 217368291 |        7.0        |   1   |\n",
       "  |  91035793 |        3.0        |   1   |\n",
       "  | 112084902 |        4.0        |   1   |\n",
       "  | 294715521 |        1.0        |   1   |\n",
       "  | 150974633 | 1.753452181816101 |   2   |\n",
       "  | 110881546 | 4.252111793591985 |   22  |\n",
       "  +-----------+-------------------+-------+\n",
       "  [11350 rows x 3 columns]\n",
       "  Note: Only the head of the SFrame is printed.\n",
       "  You can use print_rows(num_rows=m, num_columns=n) to print more rows and columns.,\n",
       "  'rmse_by_item': Columns:\n",
       "  \tgames\tstr\n",
       "  \trmse\tfloat\n",
       "  \tcount\tint\n",
       "  \n",
       "  Rows: 3600\n",
       "  \n",
       "  Data:\n",
       "  +-------------------------------+--------------------+-------+\n",
       "  |             games             |        rmse        | count |\n",
       "  +-------------------------------+--------------------+-------+\n",
       "  |        10 Second Ninja        |  1.48968483289132  |   2   |\n",
       "  |     Toy Soldiers War Chest    | 1.871701496374212  |   2   |\n",
       "  |  Infestation Survivor Stories | 3.5357851383109824 |   67  |\n",
       "  | Nightmares from the Deep 2... | 1.6766968665289093 |   3   |\n",
       "  |  Ultimate General Gettysburg  | 6.419952573520883  |   5   |\n",
       "  |     Unreal Tournament 2004    | 1.9344658077793486 |   11  |\n",
       "  |          Toki Tori 2+         | 1.6201757870967417 |   9   |\n",
       "  |          Life is Hard         | 1.5999341406859457 |   1   |\n",
       "  |          World of Goo         | 2.638052234587749  |   41  |\n",
       "  |      Hollywood Visionary      | 1.7180825916871776 |   2   |\n",
       "  +-------------------------------+--------------------+-------+\n",
       "  [3600 rows x 3 columns]\n",
       "  Note: Only the head of the SFrame is printed.\n",
       "  You can use print_rows(num_rows=m, num_columns=n) to print more rows and columns.,\n",
       "  'rmse_overall': 3.3325024795741585},\n",
       " {'rmse_by_user': Columns:\n",
       "  \tuser_id\tint\n",
       "  \trmse\tfloat\n",
       "  \tcount\tint\n",
       "  \n",
       "  Rows: 11350\n",
       "  \n",
       "  Data:\n",
       "  +-----------+--------------------+-------+\n",
       "  |  user_id  |        rmse        | count |\n",
       "  +-----------+--------------------+-------+\n",
       "  | 284165884 | 1.6263168766783642 |   1   |\n",
       "  | 238411403 | 2.626316876678364  |   1   |\n",
       "  | 182593878 | 4.313597448784553  |   3   |\n",
       "  | 207009485 | 1.3283837895191053 |   4   |\n",
       "  | 217368291 | 3.373683123321636  |   1   |\n",
       "  |  91035793 | 0.6263168766783642 |   1   |\n",
       "  | 112084902 | 0.3736831233216358 |   1   |\n",
       "  | 294715521 | 2.8048780487804894 |   1   |\n",
       "  | 150974633 | 2.3680605719833974 |   2   |\n",
       "  | 110881546 | 2.440105168013204  |   22  |\n",
       "  +-----------+--------------------+-------+\n",
       "  [11350 rows x 3 columns]\n",
       "  Note: Only the head of the SFrame is printed.\n",
       "  You can use print_rows(num_rows=m, num_columns=n) to print more rows and columns.,\n",
       "  'rmse_by_item': Columns:\n",
       "  \tgames\tstr\n",
       "  \trmse\tfloat\n",
       "  \tcount\tint\n",
       "  \n",
       "  Rows: 3600\n",
       "  \n",
       "  Data:\n",
       "  +-------------------------------+---------------------+-------+\n",
       "  |             games             |         rmse        | count |\n",
       "  +-------------------------------+---------------------+-------+\n",
       "  |        10 Second Ninja        | 0.49492542303984016 |   2   |\n",
       "  |     Toy Soldiers War Chest    |         0.0         |   2   |\n",
       "  |  Infestation Survivor Stories |  1.8901510915849482 |   67  |\n",
       "  | Nightmares from the Deep 2... |         0.0         |   3   |\n",
       "  |  Ultimate General Gettysburg  |  3.7908889780860258 |   5   |\n",
       "  |     Unreal Tournament 2004    |  0.6387541386265704 |   11  |\n",
       "  |          Toki Tori 2+         |  0.6442287501080608 |   9   |\n",
       "  |          Life is Hard         |         0.0         |   1   |\n",
       "  |          World of Goo         |  1.8876463058760051 |   41  |\n",
       "  |      Hollywood Visionary      |         0.0         |   2   |\n",
       "  +-------------------------------+---------------------+-------+\n",
       "  [3600 rows x 3 columns]\n",
       "  Note: Only the head of the SFrame is printed.\n",
       "  You can use print_rows(num_rows=m, num_columns=n) to print more rows and columns.,\n",
       "  'rmse_overall': 1.810813836985098}]"
      ]
     },
     "execution_count": 20,
     "metadata": {},
     "output_type": "execute_result"
    }
   ],
   "source": [
    "\n",
    "tc.recommender.util.compare_models(t_data, [pop_model, cosine_model, pearson_model], \n",
    "                                           metric='rmse')"
   ]
  },
  {
   "cell_type": "code",
   "execution_count": null,
   "metadata": {},
   "outputs": [],
   "source": []
  },
  {
   "cell_type": "code",
   "execution_count": null,
   "metadata": {},
   "outputs": [],
   "source": []
  },
  {
   "cell_type": "markdown",
   "metadata": {},
   "source": [
    "Part 2 : Building a user-item and item-item collaborative filtering"
   ]
  },
  {
   "cell_type": "markdown",
   "metadata": {},
   "source": [
    "Item-item"
   ]
  },
  {
   "cell_type": "code",
   "execution_count": 21,
   "metadata": {},
   "outputs": [
    {
     "name": "stdout",
     "output_type": "stream",
     "text": [
      "games\n",
      "Fallout 4                                 1.000000\n",
      "The Witcher 3 Wild Hunt                   0.121778\n",
      "Grand Theft Auto V                        0.108676\n",
      "Putt-Putt Joins the Circus                0.108609\n",
      "Putt-Putt Saves the Zoo                   0.108609\n",
      "Putt-Putt Travels Through Time            0.108609\n",
      "The Elder Scrolls V Skyrim                0.106004\n",
      "Front Mission Evolved                     0.101082\n",
      "Divinity Original Sin Enhanced Edition    0.097847\n",
      "Aveyond 3-1 Lord of Twilight              0.096719\n",
      "Name: Fallout 4, dtype: float64\n"
     ]
    }
   ],
   "source": [
    "\n",
    "\n",
    "# Start by normalizing the data by\n",
    "#calculating the magnitude of all the user's ratings by taking the square root of the sum of the squares of all \n",
    "#the user's ratings.\n",
    "data_items = matrix1.drop('user_id', 1)\n",
    "# magnitude = sqrt(x2 + y2 + z2 + ...)\n",
    "magnitude = np.sqrt(np.square(data_items).sum(axis=1))\n",
    "\n",
    "# unitvector = (x / magnitude, y / magnitude, z / magnitude, ...)\n",
    "data_items = data_items.divide(magnitude, axis='index')\n",
    "\n",
    "def calculate_similarity(data_items):\n",
    "    \"\"\"Calculate the column-wise cosine similarity for a sparse\n",
    "    matrix. Return a new dataframe matrix with similarities.\n",
    "    \"\"\"\n",
    "    data_sparse = sparse.csr_matrix(data_items)\n",
    "    similarities = cosine_similarity(data_sparse.transpose())\n",
    "    sim = pd.DataFrame(data=similarities, index= data_items.columns, columns= data_items.columns)\n",
    "    return sim\n",
    "\n",
    "# Build the similarity matrix\n",
    "data_matrix = calculate_similarity(data_items)\n",
    "\n",
    "# Lets get the top 10 similar games for Fallout 4\n",
    "print(data_matrix.loc['Fallout 4'].nlargest(10))"
   ]
  },
  {
   "cell_type": "code",
   "execution_count": null,
   "metadata": {},
   "outputs": [],
   "source": []
  },
  {
   "cell_type": "code",
   "execution_count": 22,
   "metadata": {},
   "outputs": [
    {
     "data": {
      "text/plain": [
       "Int64Index([     5250,     76767,     86540,    144736,    181212,    229911,\n",
       "               298950,    381543,    547685,    554278,\n",
       "            ...\n",
       "            309228590, 309255941, 309262440, 309265377, 309404240, 309434439,\n",
       "            309554670, 309626088, 309824202, 309903146],\n",
       "           dtype='int64', name='user_id', length=11350)"
      ]
     },
     "execution_count": 22,
     "metadata": {},
     "output_type": "execute_result"
    }
   ],
   "source": [
    "df_matrix.index"
   ]
  },
  {
   "cell_type": "code",
   "execution_count": null,
   "metadata": {},
   "outputs": [],
   "source": []
  },
  {
   "cell_type": "code",
   "execution_count": 23,
   "metadata": {},
   "outputs": [
    {
     "name": "stdout",
     "output_type": "stream",
     "text": [
      "games\n",
      "user_id                     5250.0\n",
      "Alien Swarm                    2.0\n",
      "Cities Skylines                6.0\n",
      "Deus Ex Human Revolution       5.0\n",
      "Dota 2                         1.0\n",
      "Portal 2                       3.0\n",
      "Team Fortress 2                1.0\n",
      "Name: 0, dtype: float64\n",
      "games\n",
      "Choice of Robots                       0.268906\n",
      "FINAL FANTASY XI                       0.249334\n",
      "Song of the Myrne What Lies Beneath    0.235608\n",
      "Chris Sawyer's Locomotion              0.141211\n",
      "MX vs. ATV Supercross Encore           0.125719\n",
      "Never Alone (Kisima Ingitchuna)        0.108152\n",
      "Fork Parker's Holiday Profit Hike      0.099200\n",
      "Bus-Simulator 2012                     0.097550\n",
      "Medal of Honor Airborne                0.096402\n",
      "GUN                                    0.095840\n",
      "dtype: float64\n"
     ]
    }
   ],
   "source": [
    "user = 5250  # The id of the user for whom we want to generate recommendations\n",
    "user_index = matrix1[matrix1.user_id == user].index.values.astype(int)[0] # Get the frame index\n",
    "\n",
    "# Get the artists the user has liked.\n",
    "known_user_likes = matrix1.loc[user_index]\n",
    "known_user_likes_values = known_user_likes[known_user_likes >0]\n",
    "known_user_likes_scores=known_user_likes_values.drop(known_user_likes_values.index[[0]]).index.values\n",
    "# Users likes for all items as a sparse vector.\n",
    "user_rating_vector = matrix1.loc[user_index]\n",
    "user_rating_vector_score = user_rating_vector.drop(user_rating_vector.index[[0]])\n",
    "#user_rating_vector= user_rating_vector.drop(user_rating_vector.index[[0]])\n",
    "\n",
    "# Calculate the score.\n",
    "score = data_matrix.dot(user_rating_vector_score).div(data_matrix.sum(axis=1))\n",
    "\n",
    "# Remove the known likes from the recommendation.\n",
    "score = score.drop(known_user_likes_scores)\n",
    "\n",
    "\n",
    "\n",
    "# Print the known likes and the top 20 recommendations.\n",
    "print (known_user_likes_values)\n",
    "print( score.nlargest(10))"
   ]
  },
  {
   "cell_type": "code",
   "execution_count": 29,
   "metadata": {},
   "outputs": [],
   "source": [
    "users=n_df['user_id'].unique().tolist()\n",
    "sample = users[:5]"
   ]
  },
  {
   "cell_type": "code",
   "execution_count": 37,
   "metadata": {},
   "outputs": [
    {
     "name": "stdout",
     "output_type": "stream",
     "text": [
      "{151603712: games\n",
      "Putt-Putt Joins the Circus        0.385002\n",
      "Putt-Putt Saves the Zoo           0.385002\n",
      "Putt-Putt Travels Through Time    0.385002\n",
      "The Banner Saga Factions          0.310979\n",
      "Apotheon Arena                    0.308444\n",
      "YOU DON'T KNOW JACK               0.293315\n",
      "Rising Angels Reborn              0.250582\n",
      "Blacklight Tango Down             0.214132\n",
      "Battle Brothers                   0.209749\n",
      "Zoombinis                         0.208422\n",
      "dtype: float64}\n",
      "{151603712: array(['BioShock', 'BioShock Infinite', 'Dead Island Epidemic', 'Dota 2',\n",
      "       'Dragon Age Origins - Ultimate Edition', 'Eldevin',\n",
      "       'Fallout 3 - Game of the Year Edition', 'Fallout 4',\n",
      "       'Fallout New Vegas', \"Garry's Mod\", 'Grand Theft Auto IV',\n",
      "       'HuniePop', 'Jazzpunk', 'Left 4 Dead', 'Left 4 Dead 2',\n",
      "       'Marvel Heroes 2015', 'Path of Exile', 'Poly Bridge',\n",
      "       'Realm of the Mad God', 'Robocraft',\n",
      "       'SEGA Genesis & Mega Drive Classics', 'Spore', 'Team Fortress 2',\n",
      "       'The Banner Saga', 'The Elder Scrolls V Skyrim', 'Tomb Raider'],\n",
      "      dtype=object)}\n",
      "{151603712: games\n",
      "Putt-Putt Joins the Circus        0.385002\n",
      "Putt-Putt Saves the Zoo           0.385002\n",
      "Putt-Putt Travels Through Time    0.385002\n",
      "The Banner Saga Factions          0.310979\n",
      "Apotheon Arena                    0.308444\n",
      "YOU DON'T KNOW JACK               0.293315\n",
      "Rising Angels Reborn              0.250582\n",
      "Blacklight Tango Down             0.214132\n",
      "Battle Brothers                   0.209749\n",
      "Zoombinis                         0.208422\n",
      "dtype: float64, 187131847: games\n",
      "Cabela's Hunting Expeditions                                 0.022656\n",
      "Pink Hour                                                    0.022612\n",
      "Adventures of Bertram Fiddle Episode 1 A Dreadly Business    0.020243\n",
      "Petz Horsez 2                                                0.017920\n",
      "FreeStyle2 Street Basketball                                 0.016448\n",
      "how do you Do It?                                            0.013782\n",
      "Watchmen The End Is Nigh Part 2                              0.013228\n",
      "Dream Of Mirror Online                                       0.012610\n",
      "Sigils of Elohim                                             0.010024\n",
      "Defend Your Life                                             0.009494\n",
      "dtype: float64}\n",
      "{151603712: array(['BioShock', 'BioShock Infinite', 'Dead Island Epidemic', 'Dota 2',\n",
      "       'Dragon Age Origins - Ultimate Edition', 'Eldevin',\n",
      "       'Fallout 3 - Game of the Year Edition', 'Fallout 4',\n",
      "       'Fallout New Vegas', \"Garry's Mod\", 'Grand Theft Auto IV',\n",
      "       'HuniePop', 'Jazzpunk', 'Left 4 Dead', 'Left 4 Dead 2',\n",
      "       'Marvel Heroes 2015', 'Path of Exile', 'Poly Bridge',\n",
      "       'Realm of the Mad God', 'Robocraft',\n",
      "       'SEGA Genesis & Mega Drive Classics', 'Spore', 'Team Fortress 2',\n",
      "       'The Banner Saga', 'The Elder Scrolls V Skyrim', 'Tomb Raider'],\n",
      "      dtype=object), 187131847: array(['Dota 2'], dtype=object)}\n",
      "{151603712: games\n",
      "Putt-Putt Joins the Circus        0.385002\n",
      "Putt-Putt Saves the Zoo           0.385002\n",
      "Putt-Putt Travels Through Time    0.385002\n",
      "The Banner Saga Factions          0.310979\n",
      "Apotheon Arena                    0.308444\n",
      "YOU DON'T KNOW JACK               0.293315\n",
      "Rising Angels Reborn              0.250582\n",
      "Blacklight Tango Down             0.214132\n",
      "Battle Brothers                   0.209749\n",
      "Zoombinis                         0.208422\n",
      "dtype: float64, 187131847: games\n",
      "Cabela's Hunting Expeditions                                 0.022656\n",
      "Pink Hour                                                    0.022612\n",
      "Adventures of Bertram Fiddle Episode 1 A Dreadly Business    0.020243\n",
      "Petz Horsez 2                                                0.017920\n",
      "FreeStyle2 Street Basketball                                 0.016448\n",
      "how do you Do It?                                            0.013782\n",
      "Watchmen The End Is Nigh Part 2                              0.013228\n",
      "Dream Of Mirror Online                                       0.012610\n",
      "Sigils of Elohim                                             0.010024\n",
      "Defend Your Life                                             0.009494\n",
      "dtype: float64, 59945701: games\n",
      "THE KING OF FIGHTERS '98 ULTIMATE MATCH FINAL EDITION    0.411616\n",
      "AKIBA'S TRIP Undead & Undressed                          0.377689\n",
      "Stonehearth                                              0.369024\n",
      "Cabela's Dangerous Hunts 2013                            0.320232\n",
      "Space Empires V                                          0.312235\n",
      "Lara Croft and the Temple of Osiris                      0.280919\n",
      "Raiden Legacy                                            0.280488\n",
      "Angvik                                                   0.271984\n",
      "Pink Hour                                                0.268323\n",
      "Zoombinis                                                0.262950\n",
      "dtype: float64}\n",
      "{151603712: array(['BioShock', 'BioShock Infinite', 'Dead Island Epidemic', 'Dota 2',\n",
      "       'Dragon Age Origins - Ultimate Edition', 'Eldevin',\n",
      "       'Fallout 3 - Game of the Year Edition', 'Fallout 4',\n",
      "       'Fallout New Vegas', \"Garry's Mod\", 'Grand Theft Auto IV',\n",
      "       'HuniePop', 'Jazzpunk', 'Left 4 Dead', 'Left 4 Dead 2',\n",
      "       'Marvel Heroes 2015', 'Path of Exile', 'Poly Bridge',\n",
      "       'Realm of the Mad God', 'Robocraft',\n",
      "       'SEGA Genesis & Mega Drive Classics', 'Spore', 'Team Fortress 2',\n",
      "       'The Banner Saga', 'The Elder Scrolls V Skyrim', 'Tomb Raider'],\n",
      "      dtype=object), 187131847: array(['Dota 2'], dtype=object), 59945701: array(['7 Days to Die', \"Assassin's Creed II\", 'Bastion',\n",
      "       'Company of Heroes', 'Company of Heroes Opposing Fronts',\n",
      "       'Company of Heroes Tales of Valor',\n",
      "       'Counter-Strike Global Offensive', 'Divekick', 'FINAL FANTASY VII',\n",
      "       'FINAL FANTASY XIII', 'GUILTY GEAR XX ACCENT CORE PLUS R',\n",
      "       'Killing Floor', 'L.A. Noire', 'Orcs Must Die!',\n",
      "       'Orcs Must Die! 2', \"Sid Meier's Civilization V\", 'Skullgirls',\n",
      "       'THE KING OF FIGHTERS XIII STEAM EDITION', 'Team Fortress 2',\n",
      "       'The Elder Scrolls V Skyrim', 'Ultra Street Fighter IV',\n",
      "       'Undertale'], dtype=object)}\n",
      "{151603712: games\n",
      "Putt-Putt Joins the Circus        0.385002\n",
      "Putt-Putt Saves the Zoo           0.385002\n",
      "Putt-Putt Travels Through Time    0.385002\n",
      "The Banner Saga Factions          0.310979\n",
      "Apotheon Arena                    0.308444\n",
      "YOU DON'T KNOW JACK               0.293315\n",
      "Rising Angels Reborn              0.250582\n",
      "Blacklight Tango Down             0.214132\n",
      "Battle Brothers                   0.209749\n",
      "Zoombinis                         0.208422\n",
      "dtype: float64, 187131847: games\n",
      "Cabela's Hunting Expeditions                                 0.022656\n",
      "Pink Hour                                                    0.022612\n",
      "Adventures of Bertram Fiddle Episode 1 A Dreadly Business    0.020243\n",
      "Petz Horsez 2                                                0.017920\n",
      "FreeStyle2 Street Basketball                                 0.016448\n",
      "how do you Do It?                                            0.013782\n",
      "Watchmen The End Is Nigh Part 2                              0.013228\n",
      "Dream Of Mirror Online                                       0.012610\n",
      "Sigils of Elohim                                             0.010024\n",
      "Defend Your Life                                             0.009494\n",
      "dtype: float64, 59945701: games\n",
      "THE KING OF FIGHTERS '98 ULTIMATE MATCH FINAL EDITION    0.411616\n",
      "AKIBA'S TRIP Undead & Undressed                          0.377689\n",
      "Stonehearth                                              0.369024\n",
      "Cabela's Dangerous Hunts 2013                            0.320232\n",
      "Space Empires V                                          0.312235\n",
      "Lara Croft and the Temple of Osiris                      0.280919\n",
      "Raiden Legacy                                            0.280488\n",
      "Angvik                                                   0.271984\n",
      "Pink Hour                                                0.268323\n",
      "Zoombinis                                                0.262950\n",
      "dtype: float64, 53875128: games\n",
      "Virtual Villagers A New Home    1.484630\n",
      "Heli Heroes                     1.264780\n",
      "Fiesta Online                   0.953428\n",
      "CaesarIA                        0.924944\n",
      "Nancy Drew Danger By Design     0.766460\n",
      "Salt                            0.766460\n",
      "PixelJunk Shooter Ultimate      0.750740\n",
      "Shan Gui                        0.747243\n",
      "Alone in the Dark               0.713944\n",
      "Septerra Core                   0.703365\n",
      "dtype: float64}\n",
      "{151603712: array(['BioShock', 'BioShock Infinite', 'Dead Island Epidemic', 'Dota 2',\n",
      "       'Dragon Age Origins - Ultimate Edition', 'Eldevin',\n",
      "       'Fallout 3 - Game of the Year Edition', 'Fallout 4',\n",
      "       'Fallout New Vegas', \"Garry's Mod\", 'Grand Theft Auto IV',\n",
      "       'HuniePop', 'Jazzpunk', 'Left 4 Dead', 'Left 4 Dead 2',\n",
      "       'Marvel Heroes 2015', 'Path of Exile', 'Poly Bridge',\n",
      "       'Realm of the Mad God', 'Robocraft',\n",
      "       'SEGA Genesis & Mega Drive Classics', 'Spore', 'Team Fortress 2',\n",
      "       'The Banner Saga', 'The Elder Scrolls V Skyrim', 'Tomb Raider'],\n",
      "      dtype=object), 187131847: array(['Dota 2'], dtype=object), 59945701: array(['7 Days to Die', \"Assassin's Creed II\", 'Bastion',\n",
      "       'Company of Heroes', 'Company of Heroes Opposing Fronts',\n",
      "       'Company of Heroes Tales of Valor',\n",
      "       'Counter-Strike Global Offensive', 'Divekick', 'FINAL FANTASY VII',\n",
      "       'FINAL FANTASY XIII', 'GUILTY GEAR XX ACCENT CORE PLUS R',\n",
      "       'Killing Floor', 'L.A. Noire', 'Orcs Must Die!',\n",
      "       'Orcs Must Die! 2', \"Sid Meier's Civilization V\", 'Skullgirls',\n",
      "       'THE KING OF FIGHTERS XIII STEAM EDITION', 'Team Fortress 2',\n",
      "       'The Elder Scrolls V Skyrim', 'Ultra Street Fighter IV',\n",
      "       'Undertale'], dtype=object), 53875128: array(['404Sight', 'AaaaaAAaaaAAAaaAAAAaAAAAA!!! for the Awesome',\n",
      "       'Afterlife Empire', 'Age of Empires II HD Edition', 'Air Brawl',\n",
      "       'Amnesia The Dark Descent', 'Arma 2', 'Arma 2 Operation Arrowhead',\n",
      "       \"Assassin's Creed II\", \"Assassin's Creed III\", 'Astebreed',\n",
      "       'BIT.TRIP RUNNER', 'Banished', 'Bastion',\n",
      "       'Batman Arkham Asylum GOTY Edition', 'Batman Arkham City GOTY',\n",
      "       'BattleBlock Theater', 'Battlestations Midway', 'BioShock',\n",
      "       'Bleed', 'Borderlands 2', 'Burnout Paradise The Ultimate Box',\n",
      "       'Call of Juarez Gunslinger', 'Cat Goes Fishing', 'Cave Story+',\n",
      "       'Coin Crypt', 'Creeper World 3 Arc Eternal',\n",
      "       'Crimzon Clover  WORLD IGNITION', 'Crypt of the NecroDancer',\n",
      "       'Crysis 2 Maximum Edition', 'DLC Quest',\n",
      "       'Dark Souls Prepare to Die Edition', 'DayZ', 'Dead Island',\n",
      "       'Dead Space', 'Delver', 'Deus Ex Human Revolution',\n",
      "       \"Deus Ex Human Revolution - Director's Cut\", 'DiRT 3',\n",
      "       'DiRT Showdown', 'Dishonored', 'Distance', 'Dust An Elysian Tail',\n",
      "       'Dying Light', 'Epic Battle Fantasy 4', 'Ethan Meteor Hunter',\n",
      "       'Evoland', 'F.E.A.R.', 'F.E.A.R. 2 Project Origin', 'FEZ',\n",
      "       'FINAL FANTASY VII', 'FTL Faster Than Light', 'Fallout New Vegas',\n",
      "       'Far Cry 2', 'Far Cry 3', 'Far Cry 3 Blood Dragon', 'Far Cry 4',\n",
      "       'Fieldrunners', 'Floating Point', 'Freedom Planet', 'From Dust',\n",
      "       'Frozen Synapse', 'GRID 2', 'Galcon Legends', 'Game Dev Tycoon',\n",
      "       'Goat Simulator', 'Grand Theft Auto IV', 'Grand Theft Auto V',\n",
      "       'Gratuitous Space Battles', 'Gravity Ghost', 'Grow Home',\n",
      "       'Gunpoint', 'HOARD', 'Half-Life 2', 'Half-Life 2 Episode One',\n",
      "       'Half-Life 2 Episode Two', 'Half-Life 2 Lost Coast', 'Hammerfight',\n",
      "       'Hotline Miami', 'INK', 'Insurgency', 'Intrusion 2', 'Jamestown',\n",
      "       'Just Cause 2', 'KAMI', 'KHOLAT', 'Kairo', 'L.A. Noire',\n",
      "       'LEGO The Lord of the Rings', 'LUFTRAUSERS', 'Left 4 Dead',\n",
      "       'Left 4 Dead 2', 'Lego Harry Potter',\n",
      "       \"Lone Survivor The Director's Cut\",\n",
      "       'METAL GEAR RISING REVENGEANCE',\n",
      "       'METAL GEAR SOLID V GROUND ZEROES',\n",
      "       'METAL GEAR SOLID V THE PHANTOM PAIN', 'Mad Max',\n",
      "       'Mark of the Ninja', 'Mass Effect', 'Metro 2033',\n",
      "       'Metro Last Light', 'Metro Last Light Redux', 'Miasmata',\n",
      "       'Middle-earth Shadow of Mordor',\n",
      "       'Mind Path to Thalamus Enhanced Edition', \"Mirror's Edge\",\n",
      "       'Monaco', 'NOT A HERO', 'NaissanceE', 'Need for Speed Hot Pursuit',\n",
      "       'Next Car Game Sneak Peek 2.0', 'Next Car Game Wreckfest',\n",
      "       'Nidhogg', 'NightSky', 'No Time To Explain Remastered', 'Oil Rush',\n",
      "       'One Finger Death Punch', 'Ori and the Blind Forest', 'Osmos',\n",
      "       'Out There Somewhere', 'Outlast', 'Overgrowth', 'PROTOTYPE 2',\n",
      "       'Phantom Breaker Battle Grounds', 'Plague Inc Evolved', 'Portal',\n",
      "       'Portal 2', 'Prison Architect', 'Proteus', 'Prototype',\n",
      "       'Psychonauts', 'RUNNING WITH RIFLES', 'Race The Sun', 'Reassembly',\n",
      "       'Rebuild 3 Gangs of Deadsville', 'Receiver',\n",
      "       \"Recettear An Item Shop's Tale\", 'Reus',\n",
      "       'Rise of Nations Extended Edition', 'Risk of Rain',\n",
      "       'Rivals of Aether', 'Rock of Ages', 'Rocket League',\n",
      "       'Rogue Legacy', 'S.T.A.L.K.E.R. Call of Pripyat',\n",
      "       'S.T.A.L.K.E.R. Clear Sky', 'S.T.A.L.K.E.R. Shadow of Chernobyl',\n",
      "       'SNOW', 'STAR WARS Knights of the Old Republic II The Sith Lords',\n",
      "       'Saints Row IV', 'Saints Row The Third', 'Secrets of Rtikon',\n",
      "       'Shadowgrounds', 'Shatter',\n",
      "       \"Sid Meier's Civilization III Complete\",\n",
      "       \"Sid Meier's Civilization V\", 'Sir, You Are Being Hunted',\n",
      "       'Skullgirls', 'Sleeping Dogs', 'Sniper Elite 3',\n",
      "       'Sonic & All-Stars Racing Transformed', 'Sonic Adventure 2 ',\n",
      "       'Sonic Generations', 'South Park The Stick of Truth',\n",
      "       'Space Pirates and Zombies', 'Spec Ops The Line', 'Spelunky',\n",
      "       'Spintires', 'Spore', 'Starpoint Gemini 2', 'SteamWorld Dig',\n",
      "       'Strike Vector', 'Sunless Sea', 'Super Hexagon',\n",
      "       'Superbrothers Sword & Sworcery EP', 'Survarium', 'Symphony',\n",
      "       'The Binding of Isaac', 'The Crew',\n",
      "       'The Legend of Heroes Trails in the Sky', 'The Legend of Korra',\n",
      "       'The Stanley Parable', 'The Talos Principle',\n",
      "       'The Vanishing of Ethan Carter', 'The Witcher Enhanced Edition',\n",
      "       'They Bleed Pixels', \"Tom Clancy's Splinter Cell Chaos Theory\",\n",
      "       'Trine', 'Tropico 4', 'Turbo Dismount', 'Unepic',\n",
      "       'Valkyria Chronicles', 'WRC 4 FIA WORLD RALLY CHAMPIONSHIP',\n",
      "       'Watch_Dogs', 'Wolfenstein The New Order', 'Ziggurat'],\n",
      "      dtype=object)}\n",
      "{151603712: games\n",
      "Putt-Putt Joins the Circus        0.385002\n",
      "Putt-Putt Saves the Zoo           0.385002\n",
      "Putt-Putt Travels Through Time    0.385002\n",
      "The Banner Saga Factions          0.310979\n",
      "Apotheon Arena                    0.308444\n",
      "YOU DON'T KNOW JACK               0.293315\n",
      "Rising Angels Reborn              0.250582\n",
      "Blacklight Tango Down             0.214132\n",
      "Battle Brothers                   0.209749\n",
      "Zoombinis                         0.208422\n",
      "dtype: float64, 187131847: games\n",
      "Cabela's Hunting Expeditions                                 0.022656\n",
      "Pink Hour                                                    0.022612\n",
      "Adventures of Bertram Fiddle Episode 1 A Dreadly Business    0.020243\n",
      "Petz Horsez 2                                                0.017920\n",
      "FreeStyle2 Street Basketball                                 0.016448\n",
      "how do you Do It?                                            0.013782\n",
      "Watchmen The End Is Nigh Part 2                              0.013228\n",
      "Dream Of Mirror Online                                       0.012610\n",
      "Sigils of Elohim                                             0.010024\n",
      "Defend Your Life                                             0.009494\n",
      "dtype: float64, 59945701: games\n",
      "THE KING OF FIGHTERS '98 ULTIMATE MATCH FINAL EDITION    0.411616\n",
      "AKIBA'S TRIP Undead & Undressed                          0.377689\n",
      "Stonehearth                                              0.369024\n",
      "Cabela's Dangerous Hunts 2013                            0.320232\n",
      "Space Empires V                                          0.312235\n",
      "Lara Croft and the Temple of Osiris                      0.280919\n",
      "Raiden Legacy                                            0.280488\n",
      "Angvik                                                   0.271984\n",
      "Pink Hour                                                0.268323\n",
      "Zoombinis                                                0.262950\n",
      "dtype: float64, 53875128: games\n",
      "Virtual Villagers A New Home    1.484630\n",
      "Heli Heroes                     1.264780\n",
      "Fiesta Online                   0.953428\n",
      "CaesarIA                        0.924944\n",
      "Nancy Drew Danger By Design     0.766460\n",
      "Salt                            0.766460\n",
      "PixelJunk Shooter Ultimate      0.750740\n",
      "Shan Gui                        0.747243\n",
      "Alone in the Dark               0.713944\n",
      "Septerra Core                   0.703365\n",
      "dtype: float64, 140954425: games\n",
      "Urizen Shadows of the Cold              0.067275\n",
      "Heroes and Titans Online                0.063432\n",
      "The Secret of Tremendous Corporation    0.058368\n",
      "Xam                                     0.038854\n",
      "Battle Battalions                       0.037074\n",
      "Spartans Vs Zombies Defense             0.035579\n",
      "Arma 2 Free                             0.033440\n",
      "Cosmophony                              0.033338\n",
      "City of Heroes                          0.032264\n",
      "Clown House (Palyao Evi)                0.031315\n",
      "dtype: float64}\n",
      "{151603712: array(['BioShock', 'BioShock Infinite', 'Dead Island Epidemic', 'Dota 2',\n",
      "       'Dragon Age Origins - Ultimate Edition', 'Eldevin',\n",
      "       'Fallout 3 - Game of the Year Edition', 'Fallout 4',\n",
      "       'Fallout New Vegas', \"Garry's Mod\", 'Grand Theft Auto IV',\n",
      "       'HuniePop', 'Jazzpunk', 'Left 4 Dead', 'Left 4 Dead 2',\n",
      "       'Marvel Heroes 2015', 'Path of Exile', 'Poly Bridge',\n",
      "       'Realm of the Mad God', 'Robocraft',\n",
      "       'SEGA Genesis & Mega Drive Classics', 'Spore', 'Team Fortress 2',\n",
      "       'The Banner Saga', 'The Elder Scrolls V Skyrim', 'Tomb Raider'],\n",
      "      dtype=object), 187131847: array(['Dota 2'], dtype=object), 59945701: array(['7 Days to Die', \"Assassin's Creed II\", 'Bastion',\n",
      "       'Company of Heroes', 'Company of Heroes Opposing Fronts',\n",
      "       'Company of Heroes Tales of Valor',\n",
      "       'Counter-Strike Global Offensive', 'Divekick', 'FINAL FANTASY VII',\n",
      "       'FINAL FANTASY XIII', 'GUILTY GEAR XX ACCENT CORE PLUS R',\n",
      "       'Killing Floor', 'L.A. Noire', 'Orcs Must Die!',\n",
      "       'Orcs Must Die! 2', \"Sid Meier's Civilization V\", 'Skullgirls',\n",
      "       'THE KING OF FIGHTERS XIII STEAM EDITION', 'Team Fortress 2',\n",
      "       'The Elder Scrolls V Skyrim', 'Ultra Street Fighter IV',\n",
      "       'Undertale'], dtype=object), 53875128: array(['404Sight', 'AaaaaAAaaaAAAaaAAAAaAAAAA!!! for the Awesome',\n",
      "       'Afterlife Empire', 'Age of Empires II HD Edition', 'Air Brawl',\n",
      "       'Amnesia The Dark Descent', 'Arma 2', 'Arma 2 Operation Arrowhead',\n",
      "       \"Assassin's Creed II\", \"Assassin's Creed III\", 'Astebreed',\n",
      "       'BIT.TRIP RUNNER', 'Banished', 'Bastion',\n",
      "       'Batman Arkham Asylum GOTY Edition', 'Batman Arkham City GOTY',\n",
      "       'BattleBlock Theater', 'Battlestations Midway', 'BioShock',\n",
      "       'Bleed', 'Borderlands 2', 'Burnout Paradise The Ultimate Box',\n",
      "       'Call of Juarez Gunslinger', 'Cat Goes Fishing', 'Cave Story+',\n",
      "       'Coin Crypt', 'Creeper World 3 Arc Eternal',\n",
      "       'Crimzon Clover  WORLD IGNITION', 'Crypt of the NecroDancer',\n",
      "       'Crysis 2 Maximum Edition', 'DLC Quest',\n",
      "       'Dark Souls Prepare to Die Edition', 'DayZ', 'Dead Island',\n",
      "       'Dead Space', 'Delver', 'Deus Ex Human Revolution',\n",
      "       \"Deus Ex Human Revolution - Director's Cut\", 'DiRT 3',\n",
      "       'DiRT Showdown', 'Dishonored', 'Distance', 'Dust An Elysian Tail',\n",
      "       'Dying Light', 'Epic Battle Fantasy 4', 'Ethan Meteor Hunter',\n",
      "       'Evoland', 'F.E.A.R.', 'F.E.A.R. 2 Project Origin', 'FEZ',\n",
      "       'FINAL FANTASY VII', 'FTL Faster Than Light', 'Fallout New Vegas',\n",
      "       'Far Cry 2', 'Far Cry 3', 'Far Cry 3 Blood Dragon', 'Far Cry 4',\n",
      "       'Fieldrunners', 'Floating Point', 'Freedom Planet', 'From Dust',\n",
      "       'Frozen Synapse', 'GRID 2', 'Galcon Legends', 'Game Dev Tycoon',\n",
      "       'Goat Simulator', 'Grand Theft Auto IV', 'Grand Theft Auto V',\n",
      "       'Gratuitous Space Battles', 'Gravity Ghost', 'Grow Home',\n",
      "       'Gunpoint', 'HOARD', 'Half-Life 2', 'Half-Life 2 Episode One',\n",
      "       'Half-Life 2 Episode Two', 'Half-Life 2 Lost Coast', 'Hammerfight',\n",
      "       'Hotline Miami', 'INK', 'Insurgency', 'Intrusion 2', 'Jamestown',\n",
      "       'Just Cause 2', 'KAMI', 'KHOLAT', 'Kairo', 'L.A. Noire',\n",
      "       'LEGO The Lord of the Rings', 'LUFTRAUSERS', 'Left 4 Dead',\n",
      "       'Left 4 Dead 2', 'Lego Harry Potter',\n",
      "       \"Lone Survivor The Director's Cut\",\n",
      "       'METAL GEAR RISING REVENGEANCE',\n",
      "       'METAL GEAR SOLID V GROUND ZEROES',\n",
      "       'METAL GEAR SOLID V THE PHANTOM PAIN', 'Mad Max',\n",
      "       'Mark of the Ninja', 'Mass Effect', 'Metro 2033',\n",
      "       'Metro Last Light', 'Metro Last Light Redux', 'Miasmata',\n",
      "       'Middle-earth Shadow of Mordor',\n",
      "       'Mind Path to Thalamus Enhanced Edition', \"Mirror's Edge\",\n",
      "       'Monaco', 'NOT A HERO', 'NaissanceE', 'Need for Speed Hot Pursuit',\n",
      "       'Next Car Game Sneak Peek 2.0', 'Next Car Game Wreckfest',\n",
      "       'Nidhogg', 'NightSky', 'No Time To Explain Remastered', 'Oil Rush',\n",
      "       'One Finger Death Punch', 'Ori and the Blind Forest', 'Osmos',\n",
      "       'Out There Somewhere', 'Outlast', 'Overgrowth', 'PROTOTYPE 2',\n",
      "       'Phantom Breaker Battle Grounds', 'Plague Inc Evolved', 'Portal',\n",
      "       'Portal 2', 'Prison Architect', 'Proteus', 'Prototype',\n",
      "       'Psychonauts', 'RUNNING WITH RIFLES', 'Race The Sun', 'Reassembly',\n",
      "       'Rebuild 3 Gangs of Deadsville', 'Receiver',\n",
      "       \"Recettear An Item Shop's Tale\", 'Reus',\n",
      "       'Rise of Nations Extended Edition', 'Risk of Rain',\n",
      "       'Rivals of Aether', 'Rock of Ages', 'Rocket League',\n",
      "       'Rogue Legacy', 'S.T.A.L.K.E.R. Call of Pripyat',\n",
      "       'S.T.A.L.K.E.R. Clear Sky', 'S.T.A.L.K.E.R. Shadow of Chernobyl',\n",
      "       'SNOW', 'STAR WARS Knights of the Old Republic II The Sith Lords',\n",
      "       'Saints Row IV', 'Saints Row The Third', 'Secrets of Rtikon',\n",
      "       'Shadowgrounds', 'Shatter',\n",
      "       \"Sid Meier's Civilization III Complete\",\n",
      "       \"Sid Meier's Civilization V\", 'Sir, You Are Being Hunted',\n",
      "       'Skullgirls', 'Sleeping Dogs', 'Sniper Elite 3',\n",
      "       'Sonic & All-Stars Racing Transformed', 'Sonic Adventure 2 ',\n",
      "       'Sonic Generations', 'South Park The Stick of Truth',\n",
      "       'Space Pirates and Zombies', 'Spec Ops The Line', 'Spelunky',\n",
      "       'Spintires', 'Spore', 'Starpoint Gemini 2', 'SteamWorld Dig',\n",
      "       'Strike Vector', 'Sunless Sea', 'Super Hexagon',\n",
      "       'Superbrothers Sword & Sworcery EP', 'Survarium', 'Symphony',\n",
      "       'The Binding of Isaac', 'The Crew',\n",
      "       'The Legend of Heroes Trails in the Sky', 'The Legend of Korra',\n",
      "       'The Stanley Parable', 'The Talos Principle',\n",
      "       'The Vanishing of Ethan Carter', 'The Witcher Enhanced Edition',\n",
      "       'They Bleed Pixels', \"Tom Clancy's Splinter Cell Chaos Theory\",\n",
      "       'Trine', 'Tropico 4', 'Turbo Dismount', 'Unepic',\n",
      "       'Valkyria Chronicles', 'WRC 4 FIA WORLD RALLY CHAMPIONSHIP',\n",
      "       'Watch_Dogs', 'Wolfenstein The New Order', 'Ziggurat'],\n",
      "      dtype=object), 140954425: array(['Team Fortress 2'], dtype=object)}\n"
     ]
    }
   ],
   "source": [
    "#creating a recommendation for all users\n",
    "recommend = {}\n",
    "likes = {}\n",
    "for user in sample:\n",
    "    \n",
    "    user_index = matrix1[matrix1.user_id == user].index.values.astype(int)[0]\n",
    "    \n",
    "\n",
    "    known_user_likes = matrix1.loc[user_index]\n",
    "    known_user_likes_values = known_user_likes[known_user_likes >0]\n",
    "    known_user_likes_scores=known_user_likes_values.drop(known_user_likes_values.index[[0]]).index.values\n",
    "\n",
    "    user_rating_vector = matrix1.loc[user_index]\n",
    "    user_rating_vector_score = user_rating_vector.drop(user_rating_vector.index[[0]])\n",
    "\n",
    "\n",
    "\n",
    "    score = data_matrix.dot(user_rating_vector_score).div(data_matrix.sum(axis=1))\n",
    "\n",
    "\n",
    "    final_score = score.drop(known_user_likes_scores)\n",
    "    recommend[user] = final_score.nlargest(10)\n",
    "    likes[user] = known_user_likes_scores\n",
    "    print(recommend)\n",
    "    print(likes)\n",
    "\n"
   ]
  },
  {
   "cell_type": "code",
   "execution_count": null,
   "metadata": {},
   "outputs": [],
   "source": []
  }
 ],
 "metadata": {
  "kernelspec": {
   "display_name": "Python 3",
   "language": "python",
   "name": "python3"
  },
  "language_info": {
   "codemirror_mode": {
    "name": "ipython",
    "version": 3
   },
   "file_extension": ".py",
   "mimetype": "text/x-python",
   "name": "python",
   "nbconvert_exporter": "python",
   "pygments_lexer": "ipython3",
   "version": "3.6.4"
  }
 },
 "nbformat": 4,
 "nbformat_minor": 2
}
