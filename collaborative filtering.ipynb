{
 "cells": [
  {
   "cell_type": "code",
   "execution_count": 3,
   "metadata": {},
   "outputs": [],
   "source": [
    "import pandas as pd\n",
    "%matplotlib inline\n",
    "import numpy as np\n",
    "import turicreate as tc\n",
    "import numpy as np\n",
    "from sklearn.metrics.pairwise import cosine_similarity\n",
    "from scipy import sparse"
   ]
  },
  {
   "cell_type": "code",
   "execution_count": 4,
   "metadata": {},
   "outputs": [],
   "source": [
    "#reading the data into a dataframe\n",
    "data = pd.read_csv('/Users/armitasafavi/downloads/steam-200k.csv', names=['user_id','games','purchase_play','hours_played','none'])\n",
    "data = data.drop('none', axis=1)"
   ]
  },
  {
   "cell_type": "code",
   "execution_count": 5,
   "metadata": {},
   "outputs": [
    {
     "data": {
      "text/html": [
       "<div>\n",
       "<style scoped>\n",
       "    .dataframe tbody tr th:only-of-type {\n",
       "        vertical-align: middle;\n",
       "    }\n",
       "\n",
       "    .dataframe tbody tr th {\n",
       "        vertical-align: top;\n",
       "    }\n",
       "\n",
       "    .dataframe thead th {\n",
       "        text-align: right;\n",
       "    }\n",
       "</style>\n",
       "<table border=\"1\" class=\"dataframe\">\n",
       "  <thead>\n",
       "    <tr style=\"text-align: right;\">\n",
       "      <th></th>\n",
       "      <th>user_id</th>\n",
       "      <th>games</th>\n",
       "      <th>purchase_play</th>\n",
       "      <th>hours_played</th>\n",
       "    </tr>\n",
       "  </thead>\n",
       "  <tbody>\n",
       "    <tr>\n",
       "      <th>0</th>\n",
       "      <td>151603712</td>\n",
       "      <td>The Elder Scrolls V Skyrim</td>\n",
       "      <td>purchase</td>\n",
       "      <td>1.0</td>\n",
       "    </tr>\n",
       "    <tr>\n",
       "      <th>1</th>\n",
       "      <td>151603712</td>\n",
       "      <td>The Elder Scrolls V Skyrim</td>\n",
       "      <td>play</td>\n",
       "      <td>273.0</td>\n",
       "    </tr>\n",
       "    <tr>\n",
       "      <th>2</th>\n",
       "      <td>151603712</td>\n",
       "      <td>Fallout 4</td>\n",
       "      <td>purchase</td>\n",
       "      <td>1.0</td>\n",
       "    </tr>\n",
       "    <tr>\n",
       "      <th>3</th>\n",
       "      <td>151603712</td>\n",
       "      <td>Fallout 4</td>\n",
       "      <td>play</td>\n",
       "      <td>87.0</td>\n",
       "    </tr>\n",
       "    <tr>\n",
       "      <th>4</th>\n",
       "      <td>151603712</td>\n",
       "      <td>Spore</td>\n",
       "      <td>purchase</td>\n",
       "      <td>1.0</td>\n",
       "    </tr>\n",
       "    <tr>\n",
       "      <th>5</th>\n",
       "      <td>151603712</td>\n",
       "      <td>Spore</td>\n",
       "      <td>play</td>\n",
       "      <td>14.9</td>\n",
       "    </tr>\n",
       "    <tr>\n",
       "      <th>6</th>\n",
       "      <td>151603712</td>\n",
       "      <td>Fallout New Vegas</td>\n",
       "      <td>purchase</td>\n",
       "      <td>1.0</td>\n",
       "    </tr>\n",
       "    <tr>\n",
       "      <th>7</th>\n",
       "      <td>151603712</td>\n",
       "      <td>Fallout New Vegas</td>\n",
       "      <td>play</td>\n",
       "      <td>12.1</td>\n",
       "    </tr>\n",
       "    <tr>\n",
       "      <th>8</th>\n",
       "      <td>151603712</td>\n",
       "      <td>Left 4 Dead 2</td>\n",
       "      <td>purchase</td>\n",
       "      <td>1.0</td>\n",
       "    </tr>\n",
       "    <tr>\n",
       "      <th>9</th>\n",
       "      <td>151603712</td>\n",
       "      <td>Left 4 Dead 2</td>\n",
       "      <td>play</td>\n",
       "      <td>8.9</td>\n",
       "    </tr>\n",
       "  </tbody>\n",
       "</table>\n",
       "</div>"
      ],
      "text/plain": [
       "     user_id                       games purchase_play  hours_played\n",
       "0  151603712  The Elder Scrolls V Skyrim      purchase           1.0\n",
       "1  151603712  The Elder Scrolls V Skyrim          play         273.0\n",
       "2  151603712                   Fallout 4      purchase           1.0\n",
       "3  151603712                   Fallout 4          play          87.0\n",
       "4  151603712                       Spore      purchase           1.0\n",
       "5  151603712                       Spore          play          14.9\n",
       "6  151603712           Fallout New Vegas      purchase           1.0\n",
       "7  151603712           Fallout New Vegas          play          12.1\n",
       "8  151603712               Left 4 Dead 2      purchase           1.0\n",
       "9  151603712               Left 4 Dead 2          play           8.9"
      ]
     },
     "execution_count": 5,
     "metadata": {},
     "output_type": "execute_result"
    }
   ],
   "source": [
    "data.head(10)"
   ]
  },
  {
   "cell_type": "code",
   "execution_count": 6,
   "metadata": {},
   "outputs": [],
   "source": [
    "#take out the purchase duplicates\n",
    "df = data.loc[data['purchase_play']== 'play']"
   ]
  },
  {
   "cell_type": "code",
   "execution_count": 7,
   "metadata": {},
   "outputs": [
    {
     "data": {
      "text/plain": [
       "count    70489.000000\n",
       "mean        48.878063\n",
       "std        229.335236\n",
       "min          0.100000\n",
       "25%          1.000000\n",
       "50%          4.500000\n",
       "75%         19.100000\n",
       "max      11754.000000\n",
       "Name: hours_played, dtype: float64"
      ]
     },
     "execution_count": 7,
     "metadata": {},
     "output_type": "execute_result"
    }
   ],
   "source": [
    "df['hours_played'].describe()"
   ]
  },
  {
   "cell_type": "code",
   "execution_count": 8,
   "metadata": {},
   "outputs": [],
   "source": [
    "#define a rating scale from hours played by each user,  using below function\n",
    "def rating(df):\n",
    "    if (df['hours_played']< 1):\n",
    "        return 1\n",
    "    if (df['hours_played']> 1) and (df['hours_played']< 10):\n",
    "        return 2\n",
    "    if (df['hours_played']> 10) and (df['hours_played']< 20):\n",
    "        return 3\n",
    "    if (df['hours_played']> 20) and (df['hours_played']< 50):\n",
    "        return 4\n",
    "    if (df['hours_played']> 50) and (df['hours_played']< 100):\n",
    "        return 5\n",
    "    if (df['hours_played']> 100) and (df['hours_played']< 250):\n",
    "        return 6\n",
    "    if (df['hours_played']> 250) and (df['hours_played']< 500):\n",
    "        return 7\n",
    "    if (df['hours_played']> 500) and (df['hours_played']< 1000):\n",
    "        return 8\n",
    "    if (df['hours_played']> 1000) and (df['hours_played']< 1500):\n",
    "        return 9\n",
    "    else:\n",
    "        return 10\n",
    "    "
   ]
  },
  {
   "cell_type": "code",
   "execution_count": 9,
   "metadata": {},
   "outputs": [
    {
     "name": "stderr",
     "output_type": "stream",
     "text": [
      "/Users/armitasafavi/anaconda3/lib/python3.6/site-packages/ipykernel_launcher.py:2: SettingWithCopyWarning: \n",
      "A value is trying to be set on a copy of a slice from a DataFrame.\n",
      "Try using .loc[row_indexer,col_indexer] = value instead\n",
      "\n",
      "See the caveats in the documentation: http://pandas.pydata.org/pandas-docs/stable/indexing.html#indexing-view-versus-copy\n",
      "  \n"
     ]
    }
   ],
   "source": [
    "#add ratings to the dataframe for each player and game\n",
    "df['rating'] = df.apply(rating, axis=1)"
   ]
  },
  {
   "cell_type": "code",
   "execution_count": 11,
   "metadata": {},
   "outputs": [
    {
     "data": {
      "text/html": [
       "<div>\n",
       "<style scoped>\n",
       "    .dataframe tbody tr th:only-of-type {\n",
       "        vertical-align: middle;\n",
       "    }\n",
       "\n",
       "    .dataframe tbody tr th {\n",
       "        vertical-align: top;\n",
       "    }\n",
       "\n",
       "    .dataframe thead th {\n",
       "        text-align: right;\n",
       "    }\n",
       "</style>\n",
       "<table border=\"1\" class=\"dataframe\">\n",
       "  <thead>\n",
       "    <tr style=\"text-align: right;\">\n",
       "      <th></th>\n",
       "      <th>user_id</th>\n",
       "      <th>games</th>\n",
       "      <th>rating</th>\n",
       "    </tr>\n",
       "  </thead>\n",
       "  <tbody>\n",
       "    <tr>\n",
       "      <th>1</th>\n",
       "      <td>151603712</td>\n",
       "      <td>The Elder Scrolls V Skyrim</td>\n",
       "      <td>7</td>\n",
       "    </tr>\n",
       "    <tr>\n",
       "      <th>3</th>\n",
       "      <td>151603712</td>\n",
       "      <td>Fallout 4</td>\n",
       "      <td>5</td>\n",
       "    </tr>\n",
       "    <tr>\n",
       "      <th>5</th>\n",
       "      <td>151603712</td>\n",
       "      <td>Spore</td>\n",
       "      <td>3</td>\n",
       "    </tr>\n",
       "    <tr>\n",
       "      <th>7</th>\n",
       "      <td>151603712</td>\n",
       "      <td>Fallout New Vegas</td>\n",
       "      <td>3</td>\n",
       "    </tr>\n",
       "    <tr>\n",
       "      <th>9</th>\n",
       "      <td>151603712</td>\n",
       "      <td>Left 4 Dead 2</td>\n",
       "      <td>2</td>\n",
       "    </tr>\n",
       "  </tbody>\n",
       "</table>\n",
       "</div>"
      ],
      "text/plain": [
       "     user_id                       games  rating\n",
       "1  151603712  The Elder Scrolls V Skyrim       7\n",
       "3  151603712                   Fallout 4       5\n",
       "5  151603712                       Spore       3\n",
       "7  151603712           Fallout New Vegas       3\n",
       "9  151603712               Left 4 Dead 2       2"
      ]
     },
     "execution_count": 11,
     "metadata": {},
     "output_type": "execute_result"
    }
   ],
   "source": [
    "#clean up the dataframe by dropping unnecessary columns\n",
    "n_df = df.drop(columns=['purchase_play','hours_played'])\n",
    "n_df.head()"
   ]
  },
  {
   "cell_type": "code",
   "execution_count": 12,
   "metadata": {},
   "outputs": [],
   "source": [
    "#creating the user item matrix\n",
    "df_matrix = pd.pivot_table(n_df, values='rating', index='user_id', columns='games')"
   ]
  },
  {
   "cell_type": "code",
   "execution_count": 13,
   "metadata": {},
   "outputs": [
    {
     "data": {
      "text/html": [
       "<div>\n",
       "<style scoped>\n",
       "    .dataframe tbody tr th:only-of-type {\n",
       "        vertical-align: middle;\n",
       "    }\n",
       "\n",
       "    .dataframe tbody tr th {\n",
       "        vertical-align: top;\n",
       "    }\n",
       "\n",
       "    .dataframe thead th {\n",
       "        text-align: right;\n",
       "    }\n",
       "</style>\n",
       "<table border=\"1\" class=\"dataframe\">\n",
       "  <thead>\n",
       "    <tr style=\"text-align: right;\">\n",
       "      <th>games</th>\n",
       "      <th>007 Legends</th>\n",
       "      <th>0RBITALIS</th>\n",
       "      <th>1... 2... 3... KICK IT! (Drop That Beat Like an Ugly Baby)</th>\n",
       "      <th>10 Second Ninja</th>\n",
       "      <th>10,000,000</th>\n",
       "      <th>100% Orange Juice</th>\n",
       "      <th>1000 Amps</th>\n",
       "      <th>12 Labours of Hercules</th>\n",
       "      <th>12 Labours of Hercules II The Cretan Bull</th>\n",
       "      <th>12 Labours of Hercules III Girl Power</th>\n",
       "      <th>...</th>\n",
       "      <th>rFactor</th>\n",
       "      <th>rFactor 2</th>\n",
       "      <th>realMyst</th>\n",
       "      <th>realMyst Masterpiece Edition</th>\n",
       "      <th>resident evil 4 / biohazard 4</th>\n",
       "      <th>rymdkapsel</th>\n",
       "      <th>sZone-Online</th>\n",
       "      <th>the static speaks my name</th>\n",
       "      <th>theHunter</th>\n",
       "      <th>theHunter Primal</th>\n",
       "    </tr>\n",
       "    <tr>\n",
       "      <th>user_id</th>\n",
       "      <th></th>\n",
       "      <th></th>\n",
       "      <th></th>\n",
       "      <th></th>\n",
       "      <th></th>\n",
       "      <th></th>\n",
       "      <th></th>\n",
       "      <th></th>\n",
       "      <th></th>\n",
       "      <th></th>\n",
       "      <th></th>\n",
       "      <th></th>\n",
       "      <th></th>\n",
       "      <th></th>\n",
       "      <th></th>\n",
       "      <th></th>\n",
       "      <th></th>\n",
       "      <th></th>\n",
       "      <th></th>\n",
       "      <th></th>\n",
       "      <th></th>\n",
       "    </tr>\n",
       "  </thead>\n",
       "  <tbody>\n",
       "    <tr>\n",
       "      <th>5250</th>\n",
       "      <td>NaN</td>\n",
       "      <td>NaN</td>\n",
       "      <td>NaN</td>\n",
       "      <td>NaN</td>\n",
       "      <td>NaN</td>\n",
       "      <td>NaN</td>\n",
       "      <td>NaN</td>\n",
       "      <td>NaN</td>\n",
       "      <td>NaN</td>\n",
       "      <td>NaN</td>\n",
       "      <td>...</td>\n",
       "      <td>NaN</td>\n",
       "      <td>NaN</td>\n",
       "      <td>NaN</td>\n",
       "      <td>NaN</td>\n",
       "      <td>NaN</td>\n",
       "      <td>NaN</td>\n",
       "      <td>NaN</td>\n",
       "      <td>NaN</td>\n",
       "      <td>NaN</td>\n",
       "      <td>NaN</td>\n",
       "    </tr>\n",
       "    <tr>\n",
       "      <th>76767</th>\n",
       "      <td>NaN</td>\n",
       "      <td>NaN</td>\n",
       "      <td>NaN</td>\n",
       "      <td>NaN</td>\n",
       "      <td>NaN</td>\n",
       "      <td>NaN</td>\n",
       "      <td>NaN</td>\n",
       "      <td>NaN</td>\n",
       "      <td>NaN</td>\n",
       "      <td>NaN</td>\n",
       "      <td>...</td>\n",
       "      <td>NaN</td>\n",
       "      <td>NaN</td>\n",
       "      <td>NaN</td>\n",
       "      <td>NaN</td>\n",
       "      <td>NaN</td>\n",
       "      <td>NaN</td>\n",
       "      <td>NaN</td>\n",
       "      <td>NaN</td>\n",
       "      <td>NaN</td>\n",
       "      <td>NaN</td>\n",
       "    </tr>\n",
       "    <tr>\n",
       "      <th>86540</th>\n",
       "      <td>NaN</td>\n",
       "      <td>NaN</td>\n",
       "      <td>NaN</td>\n",
       "      <td>NaN</td>\n",
       "      <td>NaN</td>\n",
       "      <td>NaN</td>\n",
       "      <td>NaN</td>\n",
       "      <td>NaN</td>\n",
       "      <td>NaN</td>\n",
       "      <td>NaN</td>\n",
       "      <td>...</td>\n",
       "      <td>NaN</td>\n",
       "      <td>NaN</td>\n",
       "      <td>NaN</td>\n",
       "      <td>NaN</td>\n",
       "      <td>NaN</td>\n",
       "      <td>NaN</td>\n",
       "      <td>NaN</td>\n",
       "      <td>NaN</td>\n",
       "      <td>NaN</td>\n",
       "      <td>NaN</td>\n",
       "    </tr>\n",
       "    <tr>\n",
       "      <th>144736</th>\n",
       "      <td>NaN</td>\n",
       "      <td>NaN</td>\n",
       "      <td>NaN</td>\n",
       "      <td>NaN</td>\n",
       "      <td>NaN</td>\n",
       "      <td>NaN</td>\n",
       "      <td>NaN</td>\n",
       "      <td>NaN</td>\n",
       "      <td>NaN</td>\n",
       "      <td>NaN</td>\n",
       "      <td>...</td>\n",
       "      <td>NaN</td>\n",
       "      <td>NaN</td>\n",
       "      <td>NaN</td>\n",
       "      <td>NaN</td>\n",
       "      <td>NaN</td>\n",
       "      <td>NaN</td>\n",
       "      <td>NaN</td>\n",
       "      <td>NaN</td>\n",
       "      <td>NaN</td>\n",
       "      <td>NaN</td>\n",
       "    </tr>\n",
       "    <tr>\n",
       "      <th>181212</th>\n",
       "      <td>NaN</td>\n",
       "      <td>NaN</td>\n",
       "      <td>NaN</td>\n",
       "      <td>NaN</td>\n",
       "      <td>NaN</td>\n",
       "      <td>NaN</td>\n",
       "      <td>NaN</td>\n",
       "      <td>NaN</td>\n",
       "      <td>NaN</td>\n",
       "      <td>NaN</td>\n",
       "      <td>...</td>\n",
       "      <td>NaN</td>\n",
       "      <td>NaN</td>\n",
       "      <td>NaN</td>\n",
       "      <td>NaN</td>\n",
       "      <td>NaN</td>\n",
       "      <td>NaN</td>\n",
       "      <td>NaN</td>\n",
       "      <td>NaN</td>\n",
       "      <td>NaN</td>\n",
       "      <td>NaN</td>\n",
       "    </tr>\n",
       "    <tr>\n",
       "      <th>229911</th>\n",
       "      <td>NaN</td>\n",
       "      <td>NaN</td>\n",
       "      <td>NaN</td>\n",
       "      <td>NaN</td>\n",
       "      <td>NaN</td>\n",
       "      <td>NaN</td>\n",
       "      <td>NaN</td>\n",
       "      <td>NaN</td>\n",
       "      <td>NaN</td>\n",
       "      <td>NaN</td>\n",
       "      <td>...</td>\n",
       "      <td>NaN</td>\n",
       "      <td>NaN</td>\n",
       "      <td>NaN</td>\n",
       "      <td>NaN</td>\n",
       "      <td>NaN</td>\n",
       "      <td>NaN</td>\n",
       "      <td>NaN</td>\n",
       "      <td>NaN</td>\n",
       "      <td>NaN</td>\n",
       "      <td>NaN</td>\n",
       "    </tr>\n",
       "    <tr>\n",
       "      <th>298950</th>\n",
       "      <td>NaN</td>\n",
       "      <td>NaN</td>\n",
       "      <td>NaN</td>\n",
       "      <td>NaN</td>\n",
       "      <td>NaN</td>\n",
       "      <td>NaN</td>\n",
       "      <td>NaN</td>\n",
       "      <td>NaN</td>\n",
       "      <td>NaN</td>\n",
       "      <td>NaN</td>\n",
       "      <td>...</td>\n",
       "      <td>NaN</td>\n",
       "      <td>NaN</td>\n",
       "      <td>NaN</td>\n",
       "      <td>NaN</td>\n",
       "      <td>NaN</td>\n",
       "      <td>NaN</td>\n",
       "      <td>NaN</td>\n",
       "      <td>NaN</td>\n",
       "      <td>NaN</td>\n",
       "      <td>NaN</td>\n",
       "    </tr>\n",
       "    <tr>\n",
       "      <th>381543</th>\n",
       "      <td>NaN</td>\n",
       "      <td>NaN</td>\n",
       "      <td>NaN</td>\n",
       "      <td>NaN</td>\n",
       "      <td>NaN</td>\n",
       "      <td>NaN</td>\n",
       "      <td>NaN</td>\n",
       "      <td>NaN</td>\n",
       "      <td>NaN</td>\n",
       "      <td>NaN</td>\n",
       "      <td>...</td>\n",
       "      <td>NaN</td>\n",
       "      <td>NaN</td>\n",
       "      <td>NaN</td>\n",
       "      <td>NaN</td>\n",
       "      <td>NaN</td>\n",
       "      <td>NaN</td>\n",
       "      <td>NaN</td>\n",
       "      <td>NaN</td>\n",
       "      <td>NaN</td>\n",
       "      <td>NaN</td>\n",
       "    </tr>\n",
       "    <tr>\n",
       "      <th>547685</th>\n",
       "      <td>NaN</td>\n",
       "      <td>NaN</td>\n",
       "      <td>NaN</td>\n",
       "      <td>NaN</td>\n",
       "      <td>NaN</td>\n",
       "      <td>NaN</td>\n",
       "      <td>NaN</td>\n",
       "      <td>NaN</td>\n",
       "      <td>NaN</td>\n",
       "      <td>NaN</td>\n",
       "      <td>...</td>\n",
       "      <td>NaN</td>\n",
       "      <td>NaN</td>\n",
       "      <td>NaN</td>\n",
       "      <td>NaN</td>\n",
       "      <td>NaN</td>\n",
       "      <td>NaN</td>\n",
       "      <td>NaN</td>\n",
       "      <td>NaN</td>\n",
       "      <td>1.0</td>\n",
       "      <td>NaN</td>\n",
       "    </tr>\n",
       "    <tr>\n",
       "      <th>554278</th>\n",
       "      <td>NaN</td>\n",
       "      <td>NaN</td>\n",
       "      <td>NaN</td>\n",
       "      <td>NaN</td>\n",
       "      <td>NaN</td>\n",
       "      <td>NaN</td>\n",
       "      <td>NaN</td>\n",
       "      <td>NaN</td>\n",
       "      <td>NaN</td>\n",
       "      <td>NaN</td>\n",
       "      <td>...</td>\n",
       "      <td>NaN</td>\n",
       "      <td>NaN</td>\n",
       "      <td>NaN</td>\n",
       "      <td>NaN</td>\n",
       "      <td>NaN</td>\n",
       "      <td>NaN</td>\n",
       "      <td>NaN</td>\n",
       "      <td>NaN</td>\n",
       "      <td>NaN</td>\n",
       "      <td>NaN</td>\n",
       "    </tr>\n",
       "  </tbody>\n",
       "</table>\n",
       "<p>10 rows × 3600 columns</p>\n",
       "</div>"
      ],
      "text/plain": [
       "games    007 Legends  0RBITALIS  \\\n",
       "user_id                           \n",
       "5250             NaN        NaN   \n",
       "76767            NaN        NaN   \n",
       "86540            NaN        NaN   \n",
       "144736           NaN        NaN   \n",
       "181212           NaN        NaN   \n",
       "229911           NaN        NaN   \n",
       "298950           NaN        NaN   \n",
       "381543           NaN        NaN   \n",
       "547685           NaN        NaN   \n",
       "554278           NaN        NaN   \n",
       "\n",
       "games    1... 2... 3... KICK IT! (Drop That Beat Like an Ugly Baby)  \\\n",
       "user_id                                                               \n",
       "5250                                                   NaN            \n",
       "76767                                                  NaN            \n",
       "86540                                                  NaN            \n",
       "144736                                                 NaN            \n",
       "181212                                                 NaN            \n",
       "229911                                                 NaN            \n",
       "298950                                                 NaN            \n",
       "381543                                                 NaN            \n",
       "547685                                                 NaN            \n",
       "554278                                                 NaN            \n",
       "\n",
       "games    10 Second Ninja  10,000,000  100% Orange Juice  1000 Amps  \\\n",
       "user_id                                                              \n",
       "5250                 NaN         NaN                NaN        NaN   \n",
       "76767                NaN         NaN                NaN        NaN   \n",
       "86540                NaN         NaN                NaN        NaN   \n",
       "144736               NaN         NaN                NaN        NaN   \n",
       "181212               NaN         NaN                NaN        NaN   \n",
       "229911               NaN         NaN                NaN        NaN   \n",
       "298950               NaN         NaN                NaN        NaN   \n",
       "381543               NaN         NaN                NaN        NaN   \n",
       "547685               NaN         NaN                NaN        NaN   \n",
       "554278               NaN         NaN                NaN        NaN   \n",
       "\n",
       "games    12 Labours of Hercules  12 Labours of Hercules II The Cretan Bull  \\\n",
       "user_id                                                                      \n",
       "5250                        NaN                                        NaN   \n",
       "76767                       NaN                                        NaN   \n",
       "86540                       NaN                                        NaN   \n",
       "144736                      NaN                                        NaN   \n",
       "181212                      NaN                                        NaN   \n",
       "229911                      NaN                                        NaN   \n",
       "298950                      NaN                                        NaN   \n",
       "381543                      NaN                                        NaN   \n",
       "547685                      NaN                                        NaN   \n",
       "554278                      NaN                                        NaN   \n",
       "\n",
       "games    12 Labours of Hercules III Girl Power  ...  rFactor  rFactor 2  \\\n",
       "user_id                                         ...                       \n",
       "5250                                       NaN  ...      NaN        NaN   \n",
       "76767                                      NaN  ...      NaN        NaN   \n",
       "86540                                      NaN  ...      NaN        NaN   \n",
       "144736                                     NaN  ...      NaN        NaN   \n",
       "181212                                     NaN  ...      NaN        NaN   \n",
       "229911                                     NaN  ...      NaN        NaN   \n",
       "298950                                     NaN  ...      NaN        NaN   \n",
       "381543                                     NaN  ...      NaN        NaN   \n",
       "547685                                     NaN  ...      NaN        NaN   \n",
       "554278                                     NaN  ...      NaN        NaN   \n",
       "\n",
       "games    realMyst  realMyst Masterpiece Edition  \\\n",
       "user_id                                           \n",
       "5250          NaN                           NaN   \n",
       "76767         NaN                           NaN   \n",
       "86540         NaN                           NaN   \n",
       "144736        NaN                           NaN   \n",
       "181212        NaN                           NaN   \n",
       "229911        NaN                           NaN   \n",
       "298950        NaN                           NaN   \n",
       "381543        NaN                           NaN   \n",
       "547685        NaN                           NaN   \n",
       "554278        NaN                           NaN   \n",
       "\n",
       "games    resident evil 4 / biohazard 4  rymdkapsel  sZone-Online  \\\n",
       "user_id                                                            \n",
       "5250                               NaN         NaN           NaN   \n",
       "76767                              NaN         NaN           NaN   \n",
       "86540                              NaN         NaN           NaN   \n",
       "144736                             NaN         NaN           NaN   \n",
       "181212                             NaN         NaN           NaN   \n",
       "229911                             NaN         NaN           NaN   \n",
       "298950                             NaN         NaN           NaN   \n",
       "381543                             NaN         NaN           NaN   \n",
       "547685                             NaN         NaN           NaN   \n",
       "554278                             NaN         NaN           NaN   \n",
       "\n",
       "games    the static speaks my name  theHunter  theHunter Primal  \n",
       "user_id                                                          \n",
       "5250                           NaN        NaN               NaN  \n",
       "76767                          NaN        NaN               NaN  \n",
       "86540                          NaN        NaN               NaN  \n",
       "144736                         NaN        NaN               NaN  \n",
       "181212                         NaN        NaN               NaN  \n",
       "229911                         NaN        NaN               NaN  \n",
       "298950                         NaN        NaN               NaN  \n",
       "381543                         NaN        NaN               NaN  \n",
       "547685                         NaN        1.0               NaN  \n",
       "554278                         NaN        NaN               NaN  \n",
       "\n",
       "[10 rows x 3600 columns]"
      ]
     },
     "execution_count": 13,
     "metadata": {},
     "output_type": "execute_result"
    }
   ],
   "source": [
    "df_matrix.head(10)"
   ]
  },
  {
   "cell_type": "code",
   "execution_count": 16,
   "metadata": {},
   "outputs": [],
   "source": [
    "#adding index and filling na for the user-item matrix\n",
    "matrix=df_matrix.reset_index()\n",
    "matrix1=matrix.fillna(0)"
   ]
  },
  {
   "cell_type": "code",
   "execution_count": 17,
   "metadata": {},
   "outputs": [
    {
     "data": {
      "text/html": [
       "<div>\n",
       "<style scoped>\n",
       "    .dataframe tbody tr th:only-of-type {\n",
       "        vertical-align: middle;\n",
       "    }\n",
       "\n",
       "    .dataframe tbody tr th {\n",
       "        vertical-align: top;\n",
       "    }\n",
       "\n",
       "    .dataframe thead th {\n",
       "        text-align: right;\n",
       "    }\n",
       "</style>\n",
       "<table border=\"1\" class=\"dataframe\">\n",
       "  <thead>\n",
       "    <tr style=\"text-align: right;\">\n",
       "      <th>games</th>\n",
       "      <th>user_id</th>\n",
       "      <th>007 Legends</th>\n",
       "      <th>0RBITALIS</th>\n",
       "      <th>1... 2... 3... KICK IT! (Drop That Beat Like an Ugly Baby)</th>\n",
       "      <th>10 Second Ninja</th>\n",
       "      <th>10,000,000</th>\n",
       "      <th>100% Orange Juice</th>\n",
       "      <th>1000 Amps</th>\n",
       "      <th>12 Labours of Hercules</th>\n",
       "      <th>12 Labours of Hercules II The Cretan Bull</th>\n",
       "      <th>...</th>\n",
       "      <th>rFactor</th>\n",
       "      <th>rFactor 2</th>\n",
       "      <th>realMyst</th>\n",
       "      <th>realMyst Masterpiece Edition</th>\n",
       "      <th>resident evil 4 / biohazard 4</th>\n",
       "      <th>rymdkapsel</th>\n",
       "      <th>sZone-Online</th>\n",
       "      <th>the static speaks my name</th>\n",
       "      <th>theHunter</th>\n",
       "      <th>theHunter Primal</th>\n",
       "    </tr>\n",
       "  </thead>\n",
       "  <tbody>\n",
       "    <tr>\n",
       "      <th>0</th>\n",
       "      <td>5250</td>\n",
       "      <td>0.0</td>\n",
       "      <td>0.0</td>\n",
       "      <td>0.0</td>\n",
       "      <td>0.0</td>\n",
       "      <td>0.0</td>\n",
       "      <td>0.0</td>\n",
       "      <td>0.0</td>\n",
       "      <td>0.0</td>\n",
       "      <td>0.0</td>\n",
       "      <td>...</td>\n",
       "      <td>0.0</td>\n",
       "      <td>0.0</td>\n",
       "      <td>0.0</td>\n",
       "      <td>0.0</td>\n",
       "      <td>0.0</td>\n",
       "      <td>0.0</td>\n",
       "      <td>0.0</td>\n",
       "      <td>0.0</td>\n",
       "      <td>0.0</td>\n",
       "      <td>0.0</td>\n",
       "    </tr>\n",
       "    <tr>\n",
       "      <th>1</th>\n",
       "      <td>76767</td>\n",
       "      <td>0.0</td>\n",
       "      <td>0.0</td>\n",
       "      <td>0.0</td>\n",
       "      <td>0.0</td>\n",
       "      <td>0.0</td>\n",
       "      <td>0.0</td>\n",
       "      <td>0.0</td>\n",
       "      <td>0.0</td>\n",
       "      <td>0.0</td>\n",
       "      <td>...</td>\n",
       "      <td>0.0</td>\n",
       "      <td>0.0</td>\n",
       "      <td>0.0</td>\n",
       "      <td>0.0</td>\n",
       "      <td>0.0</td>\n",
       "      <td>0.0</td>\n",
       "      <td>0.0</td>\n",
       "      <td>0.0</td>\n",
       "      <td>0.0</td>\n",
       "      <td>0.0</td>\n",
       "    </tr>\n",
       "    <tr>\n",
       "      <th>2</th>\n",
       "      <td>86540</td>\n",
       "      <td>0.0</td>\n",
       "      <td>0.0</td>\n",
       "      <td>0.0</td>\n",
       "      <td>0.0</td>\n",
       "      <td>0.0</td>\n",
       "      <td>0.0</td>\n",
       "      <td>0.0</td>\n",
       "      <td>0.0</td>\n",
       "      <td>0.0</td>\n",
       "      <td>...</td>\n",
       "      <td>0.0</td>\n",
       "      <td>0.0</td>\n",
       "      <td>0.0</td>\n",
       "      <td>0.0</td>\n",
       "      <td>0.0</td>\n",
       "      <td>0.0</td>\n",
       "      <td>0.0</td>\n",
       "      <td>0.0</td>\n",
       "      <td>0.0</td>\n",
       "      <td>0.0</td>\n",
       "    </tr>\n",
       "    <tr>\n",
       "      <th>3</th>\n",
       "      <td>144736</td>\n",
       "      <td>0.0</td>\n",
       "      <td>0.0</td>\n",
       "      <td>0.0</td>\n",
       "      <td>0.0</td>\n",
       "      <td>0.0</td>\n",
       "      <td>0.0</td>\n",
       "      <td>0.0</td>\n",
       "      <td>0.0</td>\n",
       "      <td>0.0</td>\n",
       "      <td>...</td>\n",
       "      <td>0.0</td>\n",
       "      <td>0.0</td>\n",
       "      <td>0.0</td>\n",
       "      <td>0.0</td>\n",
       "      <td>0.0</td>\n",
       "      <td>0.0</td>\n",
       "      <td>0.0</td>\n",
       "      <td>0.0</td>\n",
       "      <td>0.0</td>\n",
       "      <td>0.0</td>\n",
       "    </tr>\n",
       "    <tr>\n",
       "      <th>4</th>\n",
       "      <td>181212</td>\n",
       "      <td>0.0</td>\n",
       "      <td>0.0</td>\n",
       "      <td>0.0</td>\n",
       "      <td>0.0</td>\n",
       "      <td>0.0</td>\n",
       "      <td>0.0</td>\n",
       "      <td>0.0</td>\n",
       "      <td>0.0</td>\n",
       "      <td>0.0</td>\n",
       "      <td>...</td>\n",
       "      <td>0.0</td>\n",
       "      <td>0.0</td>\n",
       "      <td>0.0</td>\n",
       "      <td>0.0</td>\n",
       "      <td>0.0</td>\n",
       "      <td>0.0</td>\n",
       "      <td>0.0</td>\n",
       "      <td>0.0</td>\n",
       "      <td>0.0</td>\n",
       "      <td>0.0</td>\n",
       "    </tr>\n",
       "  </tbody>\n",
       "</table>\n",
       "<p>5 rows × 3601 columns</p>\n",
       "</div>"
      ],
      "text/plain": [
       "games  user_id  007 Legends  0RBITALIS  \\\n",
       "0         5250          0.0        0.0   \n",
       "1        76767          0.0        0.0   \n",
       "2        86540          0.0        0.0   \n",
       "3       144736          0.0        0.0   \n",
       "4       181212          0.0        0.0   \n",
       "\n",
       "games  1... 2... 3... KICK IT! (Drop That Beat Like an Ugly Baby)  \\\n",
       "0                                                    0.0            \n",
       "1                                                    0.0            \n",
       "2                                                    0.0            \n",
       "3                                                    0.0            \n",
       "4                                                    0.0            \n",
       "\n",
       "games  10 Second Ninja  10,000,000  100% Orange Juice  1000 Amps  \\\n",
       "0                  0.0         0.0                0.0        0.0   \n",
       "1                  0.0         0.0                0.0        0.0   \n",
       "2                  0.0         0.0                0.0        0.0   \n",
       "3                  0.0         0.0                0.0        0.0   \n",
       "4                  0.0         0.0                0.0        0.0   \n",
       "\n",
       "games  12 Labours of Hercules  12 Labours of Hercules II The Cretan Bull  ...  \\\n",
       "0                         0.0                                        0.0  ...   \n",
       "1                         0.0                                        0.0  ...   \n",
       "2                         0.0                                        0.0  ...   \n",
       "3                         0.0                                        0.0  ...   \n",
       "4                         0.0                                        0.0  ...   \n",
       "\n",
       "games  rFactor  rFactor 2  realMyst  realMyst Masterpiece Edition  \\\n",
       "0          0.0        0.0       0.0                           0.0   \n",
       "1          0.0        0.0       0.0                           0.0   \n",
       "2          0.0        0.0       0.0                           0.0   \n",
       "3          0.0        0.0       0.0                           0.0   \n",
       "4          0.0        0.0       0.0                           0.0   \n",
       "\n",
       "games  resident evil 4 / biohazard 4  rymdkapsel  sZone-Online  \\\n",
       "0                                0.0         0.0           0.0   \n",
       "1                                0.0         0.0           0.0   \n",
       "2                                0.0         0.0           0.0   \n",
       "3                                0.0         0.0           0.0   \n",
       "4                                0.0         0.0           0.0   \n",
       "\n",
       "games  the static speaks my name  theHunter  theHunter Primal  \n",
       "0                            0.0        0.0               0.0  \n",
       "1                            0.0        0.0               0.0  \n",
       "2                            0.0        0.0               0.0  \n",
       "3                            0.0        0.0               0.0  \n",
       "4                            0.0        0.0               0.0  \n",
       "\n",
       "[5 rows x 3601 columns]"
      ]
     },
     "execution_count": 17,
     "metadata": {},
     "output_type": "execute_result"
    }
   ],
   "source": [
    "matrix1.head()"
   ]
  },
  {
   "cell_type": "markdown",
   "metadata": {},
   "source": [
    "Part 1 : Using turicreate library to define and compare 3 recommendation models\n"
   ]
  },
  {
   "cell_type": "code",
   "execution_count": 18,
   "metadata": {},
   "outputs": [
    {
     "name": "stdout",
     "output_type": "stream",
     "text": [
      "(70477, 3)\n"
     ]
    },
    {
     "data": {
      "text/html": [
       "<div>\n",
       "<style scoped>\n",
       "    .dataframe tbody tr th:only-of-type {\n",
       "        vertical-align: middle;\n",
       "    }\n",
       "\n",
       "    .dataframe tbody tr th {\n",
       "        vertical-align: top;\n",
       "    }\n",
       "\n",
       "    .dataframe thead th {\n",
       "        text-align: right;\n",
       "    }\n",
       "</style>\n",
       "<table border=\"1\" class=\"dataframe\">\n",
       "  <thead>\n",
       "    <tr style=\"text-align: right;\">\n",
       "      <th></th>\n",
       "      <th>user_id</th>\n",
       "      <th>games</th>\n",
       "      <th>rating</th>\n",
       "    </tr>\n",
       "  </thead>\n",
       "  <tbody>\n",
       "    <tr>\n",
       "      <th>949</th>\n",
       "      <td>46055854</td>\n",
       "      <td>007 Legends</td>\n",
       "      <td>1.0</td>\n",
       "    </tr>\n",
       "    <tr>\n",
       "      <th>11533</th>\n",
       "      <td>11940338</td>\n",
       "      <td>0RBITALIS</td>\n",
       "      <td>1.0</td>\n",
       "    </tr>\n",
       "    <tr>\n",
       "      <th>13636</th>\n",
       "      <td>86055705</td>\n",
       "      <td>0RBITALIS</td>\n",
       "      <td>1.0</td>\n",
       "    </tr>\n",
       "    <tr>\n",
       "      <th>13921</th>\n",
       "      <td>93030550</td>\n",
       "      <td>0RBITALIS</td>\n",
       "      <td>1.0</td>\n",
       "    </tr>\n",
       "    <tr>\n",
       "      <th>23770</th>\n",
       "      <td>49893565</td>\n",
       "      <td>1... 2... 3... KICK IT! (Drop That Beat Like a...</td>\n",
       "      <td>2.0</td>\n",
       "    </tr>\n",
       "  </tbody>\n",
       "</table>\n",
       "</div>"
      ],
      "text/plain": [
       "        user_id                                              games  rating\n",
       "949    46055854                                        007 Legends     1.0\n",
       "11533  11940338                                          0RBITALIS     1.0\n",
       "13636  86055705                                          0RBITALIS     1.0\n",
       "13921  93030550                                          0RBITALIS     1.0\n",
       "23770  49893565  1... 2... 3... KICK IT! (Drop That Beat Like a...     2.0"
      ]
     },
     "execution_count": 18,
     "metadata": {},
     "output_type": "execute_result"
    }
   ],
   "source": [
    "#create a table for input to the modeling  \n",
    "d = df_matrix.reset_index()\n",
    "d.index.names = ['rating']\n",
    "data_norm = pd.melt(d, id_vars=['user_id'], value_name='rating').dropna()\n",
    "print(data_norm.shape)\n",
    "data_norm.head()"
   ]
  },
  {
   "cell_type": "code",
   "execution_count": 19,
   "metadata": {},
   "outputs": [],
   "source": [
    "# variables to define field names\n",
    "# constant variables include:\n",
    "t_data = tc.SFrame(data_norm) #creating dataframe readable for turicreate\n",
    "user_id = 'user_id'\n",
    "item_id = 'games'\n",
    "users_to_recommend = list(matrix1[user_id])\n",
    "n_rec = 10 # number of items to recommend\n",
    "n_display = 20 # to print the head / first few rows in a defined dataset"
   ]
  },
  {
   "cell_type": "code",
   "execution_count": 20,
   "metadata": {},
   "outputs": [],
   "source": [
    "#defining the model\n",
    "def model(data, name, user_id, item_id, target, users_to_recommend, n_rec, n_display):\n",
    "    if name == 'popularity':\n",
    "        model = tc.popularity_recommender.create(data, \n",
    "                                                    user_id=user_id, \n",
    "                                                    item_id=item_id, \n",
    "                                                    target=target)\n",
    "    elif name == 'cosine':\n",
    "        model = tc.item_similarity_recommender.create(data, \n",
    "                                                    user_id=user_id, \n",
    "                                                    item_id=item_id, \n",
    "                                                    target=target, \n",
    "                                                    similarity_type='cosine')\n",
    "    elif name == 'pearson':\n",
    "        model = tc.item_similarity_recommender.create(data, \n",
    "                                                    user_id=user_id, \n",
    "                                                    item_id=item_id, \n",
    "                                                    target=target, \n",
    "                                                    similarity_type='pearson')\n",
    "        \n",
    "    recom = model.recommend(users=users_to_recommend, k=n_rec)\n",
    "    recom.print_rows(n_display)\n",
    "    return model"
   ]
  },
  {
   "cell_type": "markdown",
   "metadata": {},
   "source": [
    "popularity model"
   ]
  },
  {
   "cell_type": "code",
   "execution_count": 21,
   "metadata": {},
   "outputs": [
    {
     "data": {
      "text/html": [
       "<pre>Preparing data set.</pre>"
      ],
      "text/plain": [
       "Preparing data set."
      ]
     },
     "metadata": {},
     "output_type": "display_data"
    },
    {
     "data": {
      "text/html": [
       "<pre>    Data has 70477 observations with 11350 users and 3600 items.</pre>"
      ],
      "text/plain": [
       "    Data has 70477 observations with 11350 users and 3600 items."
      ]
     },
     "metadata": {},
     "output_type": "display_data"
    },
    {
     "data": {
      "text/html": [
       "<pre>    Data prepared in: 0.345125s</pre>"
      ],
      "text/plain": [
       "    Data prepared in: 0.345125s"
      ]
     },
     "metadata": {},
     "output_type": "display_data"
    },
    {
     "data": {
      "text/html": [
       "<pre>70477 observations to process; with 3600 unique items.</pre>"
      ],
      "text/plain": [
       "70477 observations to process; with 3600 unique items."
      ]
     },
     "metadata": {},
     "output_type": "display_data"
    },
    {
     "data": {
      "text/html": [
       "<pre>recommendations finished on 1000/11350 queries. users per second: 32460.2</pre>"
      ],
      "text/plain": [
       "recommendations finished on 1000/11350 queries. users per second: 32460.2"
      ]
     },
     "metadata": {},
     "output_type": "display_data"
    },
    {
     "data": {
      "text/html": [
       "<pre>recommendations finished on 2000/11350 queries. users per second: 37264.8</pre>"
      ],
      "text/plain": [
       "recommendations finished on 2000/11350 queries. users per second: 37264.8"
      ]
     },
     "metadata": {},
     "output_type": "display_data"
    },
    {
     "data": {
      "text/html": [
       "<pre>recommendations finished on 3000/11350 queries. users per second: 36463.5</pre>"
      ],
      "text/plain": [
       "recommendations finished on 3000/11350 queries. users per second: 36463.5"
      ]
     },
     "metadata": {},
     "output_type": "display_data"
    },
    {
     "data": {
      "text/html": [
       "<pre>recommendations finished on 4000/11350 queries. users per second: 37841.9</pre>"
      ],
      "text/plain": [
       "recommendations finished on 4000/11350 queries. users per second: 37841.9"
      ]
     },
     "metadata": {},
     "output_type": "display_data"
    },
    {
     "data": {
      "text/html": [
       "<pre>recommendations finished on 5000/11350 queries. users per second: 35529.5</pre>"
      ],
      "text/plain": [
       "recommendations finished on 5000/11350 queries. users per second: 35529.5"
      ]
     },
     "metadata": {},
     "output_type": "display_data"
    },
    {
     "data": {
      "text/html": [
       "<pre>recommendations finished on 6000/11350 queries. users per second: 35851.1</pre>"
      ],
      "text/plain": [
       "recommendations finished on 6000/11350 queries. users per second: 35851.1"
      ]
     },
     "metadata": {},
     "output_type": "display_data"
    },
    {
     "data": {
      "text/html": [
       "<pre>recommendations finished on 7000/11350 queries. users per second: 35195.2</pre>"
      ],
      "text/plain": [
       "recommendations finished on 7000/11350 queries. users per second: 35195.2"
      ]
     },
     "metadata": {},
     "output_type": "display_data"
    },
    {
     "data": {
      "text/html": [
       "<pre>recommendations finished on 8000/11350 queries. users per second: 36185.7</pre>"
      ],
      "text/plain": [
       "recommendations finished on 8000/11350 queries. users per second: 36185.7"
      ]
     },
     "metadata": {},
     "output_type": "display_data"
    },
    {
     "data": {
      "text/html": [
       "<pre>recommendations finished on 9000/11350 queries. users per second: 36268.8</pre>"
      ],
      "text/plain": [
       "recommendations finished on 9000/11350 queries. users per second: 36268.8"
      ]
     },
     "metadata": {},
     "output_type": "display_data"
    },
    {
     "data": {
      "text/html": [
       "<pre>recommendations finished on 10000/11350 queries. users per second: 36340.6</pre>"
      ],
      "text/plain": [
       "recommendations finished on 10000/11350 queries. users per second: 36340.6"
      ]
     },
     "metadata": {},
     "output_type": "display_data"
    },
    {
     "data": {
      "text/html": [
       "<pre>recommendations finished on 11000/11350 queries. users per second: 37022.6</pre>"
      ],
      "text/plain": [
       "recommendations finished on 11000/11350 queries. users per second: 37022.6"
      ]
     },
     "metadata": {},
     "output_type": "display_data"
    },
    {
     "name": "stdout",
     "output_type": "stream",
     "text": [
      "+---------+-------------------------------+-------+------+\n",
      "| user_id |             games             | score | rank |\n",
      "+---------+-------------------------------+-------+------+\n",
      "|   5250  | Test Drive Ferrari Racing ... |  10.0 |  1   |\n",
      "|   5250  |       East India Company      |  10.0 |  2   |\n",
      "|   5250  |             Runers            |  10.0 |  3   |\n",
      "|   5250  |          Dollar Dash          |  10.0 |  4   |\n",
      "|   5250  |  Distant Star Revenant Fleet  |  10.0 |  5   |\n",
      "|   5250  |        DinerTown Tycoon       |  10.0 |  6   |\n",
      "|   5250  |        Bejeweled Deluxe       |  10.0 |  7   |\n",
      "|   5250  |           Bad Hotel           |  10.0 |  8   |\n",
      "|   5250  |            Asteria            |  10.0 |  9   |\n",
      "|   5250  |          3D Mini Golf         |  10.0 |  10  |\n",
      "|  76767  | Test Drive Ferrari Racing ... |  10.0 |  1   |\n",
      "|  76767  |       East India Company      |  10.0 |  2   |\n",
      "|  76767  |             Runers            |  10.0 |  3   |\n",
      "|  76767  |          Dollar Dash          |  10.0 |  4   |\n",
      "|  76767  |  Distant Star Revenant Fleet  |  10.0 |  5   |\n",
      "|  76767  |        DinerTown Tycoon       |  10.0 |  6   |\n",
      "|  76767  |        Bejeweled Deluxe       |  10.0 |  7   |\n",
      "|  76767  |           Bad Hotel           |  10.0 |  8   |\n",
      "|  76767  |            Asteria            |  10.0 |  9   |\n",
      "|  76767  |          3D Mini Golf         |  10.0 |  10  |\n",
      "+---------+-------------------------------+-------+------+\n",
      "[113500 rows x 4 columns]\n",
      "\n"
     ]
    }
   ],
   "source": [
    "\n",
    "name = 'popularity'\n",
    "target = 'rating'\n",
    "pop_model = model(t_data, name, user_id, item_id, target, users_to_recommend, n_rec, n_display)"
   ]
  },
  {
   "cell_type": "markdown",
   "metadata": {},
   "source": [
    "As it appears , the model is recommending the same top 10 games "
   ]
  },
  {
   "cell_type": "markdown",
   "metadata": {},
   "source": [
    "cosine similarity model"
   ]
  },
  {
   "cell_type": "code",
   "execution_count": 23,
   "metadata": {},
   "outputs": [
    {
     "data": {
      "text/html": [
       "<pre>Preparing data set.</pre>"
      ],
      "text/plain": [
       "Preparing data set."
      ]
     },
     "metadata": {},
     "output_type": "display_data"
    },
    {
     "data": {
      "text/html": [
       "<pre>    Data has 70477 observations with 11350 users and 3600 items.</pre>"
      ],
      "text/plain": [
       "    Data has 70477 observations with 11350 users and 3600 items."
      ]
     },
     "metadata": {},
     "output_type": "display_data"
    },
    {
     "data": {
      "text/html": [
       "<pre>    Data prepared in: 0.203716s</pre>"
      ],
      "text/plain": [
       "    Data prepared in: 0.203716s"
      ]
     },
     "metadata": {},
     "output_type": "display_data"
    },
    {
     "data": {
      "text/html": [
       "<pre>Training model from provided data.</pre>"
      ],
      "text/plain": [
       "Training model from provided data."
      ]
     },
     "metadata": {},
     "output_type": "display_data"
    },
    {
     "data": {
      "text/html": [
       "<pre>Gathering per-item and per-user statistics.</pre>"
      ],
      "text/plain": [
       "Gathering per-item and per-user statistics."
      ]
     },
     "metadata": {},
     "output_type": "display_data"
    },
    {
     "data": {
      "text/html": [
       "<pre>+--------------------------------+------------+</pre>"
      ],
      "text/plain": [
       "+--------------------------------+------------+"
      ]
     },
     "metadata": {},
     "output_type": "display_data"
    },
    {
     "data": {
      "text/html": [
       "<pre>| Elapsed Time (Item Statistics) | % Complete |</pre>"
      ],
      "text/plain": [
       "| Elapsed Time (Item Statistics) | % Complete |"
      ]
     },
     "metadata": {},
     "output_type": "display_data"
    },
    {
     "data": {
      "text/html": [
       "<pre>+--------------------------------+------------+</pre>"
      ],
      "text/plain": [
       "+--------------------------------+------------+"
      ]
     },
     "metadata": {},
     "output_type": "display_data"
    },
    {
     "data": {
      "text/html": [
       "<pre>| 8.167ms                        | 8.75       |</pre>"
      ],
      "text/plain": [
       "| 8.167ms                        | 8.75       |"
      ]
     },
     "metadata": {},
     "output_type": "display_data"
    },
    {
     "data": {
      "text/html": [
       "<pre>| 12.687ms                       | 100        |</pre>"
      ],
      "text/plain": [
       "| 12.687ms                       | 100        |"
      ]
     },
     "metadata": {},
     "output_type": "display_data"
    },
    {
     "data": {
      "text/html": [
       "<pre>+--------------------------------+------------+</pre>"
      ],
      "text/plain": [
       "+--------------------------------+------------+"
      ]
     },
     "metadata": {},
     "output_type": "display_data"
    },
    {
     "data": {
      "text/html": [
       "<pre>Setting up lookup tables.</pre>"
      ],
      "text/plain": [
       "Setting up lookup tables."
      ]
     },
     "metadata": {},
     "output_type": "display_data"
    },
    {
     "data": {
      "text/html": [
       "<pre>Processing data in one pass using dense lookup tables.</pre>"
      ],
      "text/plain": [
       "Processing data in one pass using dense lookup tables."
      ]
     },
     "metadata": {},
     "output_type": "display_data"
    },
    {
     "data": {
      "text/html": [
       "<pre>+-------------------------------------+------------------+-----------------+</pre>"
      ],
      "text/plain": [
       "+-------------------------------------+------------------+-----------------+"
      ]
     },
     "metadata": {},
     "output_type": "display_data"
    },
    {
     "data": {
      "text/html": [
       "<pre>| Elapsed Time (Constructing Lookups) | Total % Complete | Items Processed |</pre>"
      ],
      "text/plain": [
       "| Elapsed Time (Constructing Lookups) | Total % Complete | Items Processed |"
      ]
     },
     "metadata": {},
     "output_type": "display_data"
    },
    {
     "data": {
      "text/html": [
       "<pre>+-------------------------------------+------------------+-----------------+</pre>"
      ],
      "text/plain": [
       "+-------------------------------------+------------------+-----------------+"
      ]
     },
     "metadata": {},
     "output_type": "display_data"
    },
    {
     "data": {
      "text/html": [
       "<pre>| 95.61ms                             | 0                | 0               |</pre>"
      ],
      "text/plain": [
       "| 95.61ms                             | 0                | 0               |"
      ]
     },
     "metadata": {},
     "output_type": "display_data"
    },
    {
     "data": {
      "text/html": [
       "<pre>| 344.942ms                           | 100              | 3600            |</pre>"
      ],
      "text/plain": [
       "| 344.942ms                           | 100              | 3600            |"
      ]
     },
     "metadata": {},
     "output_type": "display_data"
    },
    {
     "data": {
      "text/html": [
       "<pre>+-------------------------------------+------------------+-----------------+</pre>"
      ],
      "text/plain": [
       "+-------------------------------------+------------------+-----------------+"
      ]
     },
     "metadata": {},
     "output_type": "display_data"
    },
    {
     "data": {
      "text/html": [
       "<pre>Finalizing lookup tables.</pre>"
      ],
      "text/plain": [
       "Finalizing lookup tables."
      ]
     },
     "metadata": {},
     "output_type": "display_data"
    },
    {
     "data": {
      "text/html": [
       "<pre>Generating candidate set for working with new users.</pre>"
      ],
      "text/plain": [
       "Generating candidate set for working with new users."
      ]
     },
     "metadata": {},
     "output_type": "display_data"
    },
    {
     "data": {
      "text/html": [
       "<pre>Finished training in 1.38156s</pre>"
      ],
      "text/plain": [
       "Finished training in 1.38156s"
      ]
     },
     "metadata": {},
     "output_type": "display_data"
    },
    {
     "data": {
      "text/html": [
       "<pre>recommendations finished on 1000/11350 queries. users per second: 18309.7</pre>"
      ],
      "text/plain": [
       "recommendations finished on 1000/11350 queries. users per second: 18309.7"
      ]
     },
     "metadata": {},
     "output_type": "display_data"
    },
    {
     "data": {
      "text/html": [
       "<pre>recommendations finished on 2000/11350 queries. users per second: 20591.8</pre>"
      ],
      "text/plain": [
       "recommendations finished on 2000/11350 queries. users per second: 20591.8"
      ]
     },
     "metadata": {},
     "output_type": "display_data"
    },
    {
     "data": {
      "text/html": [
       "<pre>recommendations finished on 3000/11350 queries. users per second: 23637.5</pre>"
      ],
      "text/plain": [
       "recommendations finished on 3000/11350 queries. users per second: 23637.5"
      ]
     },
     "metadata": {},
     "output_type": "display_data"
    },
    {
     "data": {
      "text/html": [
       "<pre>recommendations finished on 4000/11350 queries. users per second: 24326.3</pre>"
      ],
      "text/plain": [
       "recommendations finished on 4000/11350 queries. users per second: 24326.3"
      ]
     },
     "metadata": {},
     "output_type": "display_data"
    },
    {
     "data": {
      "text/html": [
       "<pre>recommendations finished on 5000/11350 queries. users per second: 24467.2</pre>"
      ],
      "text/plain": [
       "recommendations finished on 5000/11350 queries. users per second: 24467.2"
      ]
     },
     "metadata": {},
     "output_type": "display_data"
    },
    {
     "data": {
      "text/html": [
       "<pre>recommendations finished on 6000/11350 queries. users per second: 24752.7</pre>"
      ],
      "text/plain": [
       "recommendations finished on 6000/11350 queries. users per second: 24752.7"
      ]
     },
     "metadata": {},
     "output_type": "display_data"
    },
    {
     "data": {
      "text/html": [
       "<pre>recommendations finished on 7000/11350 queries. users per second: 23812.6</pre>"
      ],
      "text/plain": [
       "recommendations finished on 7000/11350 queries. users per second: 23812.6"
      ]
     },
     "metadata": {},
     "output_type": "display_data"
    },
    {
     "data": {
      "text/html": [
       "<pre>recommendations finished on 8000/11350 queries. users per second: 22801.6</pre>"
      ],
      "text/plain": [
       "recommendations finished on 8000/11350 queries. users per second: 22801.6"
      ]
     },
     "metadata": {},
     "output_type": "display_data"
    },
    {
     "data": {
      "text/html": [
       "<pre>recommendations finished on 9000/11350 queries. users per second: 23440.7</pre>"
      ],
      "text/plain": [
       "recommendations finished on 9000/11350 queries. users per second: 23440.7"
      ]
     },
     "metadata": {},
     "output_type": "display_data"
    },
    {
     "data": {
      "text/html": [
       "<pre>recommendations finished on 10000/11350 queries. users per second: 23776.7</pre>"
      ],
      "text/plain": [
       "recommendations finished on 10000/11350 queries. users per second: 23776.7"
      ]
     },
     "metadata": {},
     "output_type": "display_data"
    },
    {
     "data": {
      "text/html": [
       "<pre>recommendations finished on 11000/11350 queries. users per second: 23892.2</pre>"
      ],
      "text/plain": [
       "recommendations finished on 11000/11350 queries. users per second: 23892.2"
      ]
     },
     "metadata": {},
     "output_type": "display_data"
    },
    {
     "name": "stdout",
     "output_type": "stream",
     "text": [
      "+---------+-------------------------------+---------------------+------+\n",
      "| user_id |             games             |        score        | rank |\n",
      "+---------+-------------------------------+---------------------+------+\n",
      "|   5250  |         Left 4 Dead 2         |  0.6339463094870249 |  1   |\n",
      "|   5250  |     FTL Faster Than Light     |  0.6091278990109762 |  2   |\n",
      "|   5250  |   The Elder Scrolls V Skyrim  |  0.5888828039169312 |  3   |\n",
      "|   5250  |       XCOM Enemy Unknown      |  0.5690694252649943 |  4   |\n",
      "|   5250  |         Borderlands 2         |  0.5247333844502767 |  5   |\n",
      "|   5250  | The Witcher 2 Assassins of... |  0.5111501117547353 |  6   |\n",
      "|   5250  |           Dishonored          | 0.48396604259808856 |  7   |\n",
      "|   5250  |           Metro 2033          |  0.4633725682894389 |  8   |\n",
      "|   5250  |          Borderlands          |  0.4522691567738851 |  9   |\n",
      "|   5250  |          Half-Life 2          | 0.44557257493336994 |  10  |\n",
      "|  76767  |         Left 4 Dead 2         |  0.3791837602853775 |  1   |\n",
      "|  76767  |         Borderlands 2         | 0.34304929077625274 |  2   |\n",
      "|  76767  |   The Elder Scrolls V Skyrim  |  0.3267057865858078 |  3   |\n",
      "|  76767  | Call of Duty Black Ops II ... | 0.31154263615608213 |  4   |\n",
      "|  76767  |             Portal            | 0.29768904447555544 |  5   |\n",
      "|  76767  |   Battlefield Bad Company 2   |  0.2677368611097336 |  6   |\n",
      "|  76767  |         Killing Floor         |  0.2669733494520187 |  7   |\n",
      "|  76767  |        Team Fortress 2        | 0.26127779483795166 |  8   |\n",
      "|  76767  |            PAYDAY 2           | 0.25617683231830596 |  9   |\n",
      "|  76767  |          Half-Life 2          | 0.23633924424648284 |  10  |\n",
      "+---------+-------------------------------+---------------------+------+\n",
      "[113500 rows x 4 columns]\n",
      "\n"
     ]
    }
   ],
   "source": [
    "name = 'cosine'\n",
    "target = 'rating'\n",
    "pop_dummy = model(t_data, name, user_id, item_id, target, users_to_recommend, n_rec, 20)"
   ]
  },
  {
   "cell_type": "markdown",
   "metadata": {},
   "source": [
    "pearson similarity model"
   ]
  },
  {
   "cell_type": "code",
   "execution_count": 24,
   "metadata": {},
   "outputs": [
    {
     "data": {
      "text/html": [
       "<pre>Preparing data set.</pre>"
      ],
      "text/plain": [
       "Preparing data set."
      ]
     },
     "metadata": {},
     "output_type": "display_data"
    },
    {
     "data": {
      "text/html": [
       "<pre>    Data has 70477 observations with 11350 users and 3600 items.</pre>"
      ],
      "text/plain": [
       "    Data has 70477 observations with 11350 users and 3600 items."
      ]
     },
     "metadata": {},
     "output_type": "display_data"
    },
    {
     "data": {
      "text/html": [
       "<pre>    Data prepared in: 0.187174s</pre>"
      ],
      "text/plain": [
       "    Data prepared in: 0.187174s"
      ]
     },
     "metadata": {},
     "output_type": "display_data"
    },
    {
     "data": {
      "text/html": [
       "<pre>Training model from provided data.</pre>"
      ],
      "text/plain": [
       "Training model from provided data."
      ]
     },
     "metadata": {},
     "output_type": "display_data"
    },
    {
     "data": {
      "text/html": [
       "<pre>Gathering per-item and per-user statistics.</pre>"
      ],
      "text/plain": [
       "Gathering per-item and per-user statistics."
      ]
     },
     "metadata": {},
     "output_type": "display_data"
    },
    {
     "data": {
      "text/html": [
       "<pre>+--------------------------------+------------+</pre>"
      ],
      "text/plain": [
       "+--------------------------------+------------+"
      ]
     },
     "metadata": {},
     "output_type": "display_data"
    },
    {
     "data": {
      "text/html": [
       "<pre>| Elapsed Time (Item Statistics) | % Complete |</pre>"
      ],
      "text/plain": [
       "| Elapsed Time (Item Statistics) | % Complete |"
      ]
     },
     "metadata": {},
     "output_type": "display_data"
    },
    {
     "data": {
      "text/html": [
       "<pre>+--------------------------------+------------+</pre>"
      ],
      "text/plain": [
       "+--------------------------------+------------+"
      ]
     },
     "metadata": {},
     "output_type": "display_data"
    },
    {
     "data": {
      "text/html": [
       "<pre>| 2.763ms                        | 8.75       |</pre>"
      ],
      "text/plain": [
       "| 2.763ms                        | 8.75       |"
      ]
     },
     "metadata": {},
     "output_type": "display_data"
    },
    {
     "data": {
      "text/html": [
       "<pre>| 7.595ms                        | 100        |</pre>"
      ],
      "text/plain": [
       "| 7.595ms                        | 100        |"
      ]
     },
     "metadata": {},
     "output_type": "display_data"
    },
    {
     "data": {
      "text/html": [
       "<pre>+--------------------------------+------------+</pre>"
      ],
      "text/plain": [
       "+--------------------------------+------------+"
      ]
     },
     "metadata": {},
     "output_type": "display_data"
    },
    {
     "data": {
      "text/html": [
       "<pre>Setting up lookup tables.</pre>"
      ],
      "text/plain": [
       "Setting up lookup tables."
      ]
     },
     "metadata": {},
     "output_type": "display_data"
    },
    {
     "data": {
      "text/html": [
       "<pre>Processing data in one pass using dense lookup tables.</pre>"
      ],
      "text/plain": [
       "Processing data in one pass using dense lookup tables."
      ]
     },
     "metadata": {},
     "output_type": "display_data"
    },
    {
     "data": {
      "text/html": [
       "<pre>+-------------------------------------+------------------+-----------------+</pre>"
      ],
      "text/plain": [
       "+-------------------------------------+------------------+-----------------+"
      ]
     },
     "metadata": {},
     "output_type": "display_data"
    },
    {
     "data": {
      "text/html": [
       "<pre>| Elapsed Time (Constructing Lookups) | Total % Complete | Items Processed |</pre>"
      ],
      "text/plain": [
       "| Elapsed Time (Constructing Lookups) | Total % Complete | Items Processed |"
      ]
     },
     "metadata": {},
     "output_type": "display_data"
    },
    {
     "data": {
      "text/html": [
       "<pre>+-------------------------------------+------------------+-----------------+</pre>"
      ],
      "text/plain": [
       "+-------------------------------------+------------------+-----------------+"
      ]
     },
     "metadata": {},
     "output_type": "display_data"
    },
    {
     "data": {
      "text/html": [
       "<pre>| 76.665ms                            | 0                | 0               |</pre>"
      ],
      "text/plain": [
       "| 76.665ms                            | 0                | 0               |"
      ]
     },
     "metadata": {},
     "output_type": "display_data"
    },
    {
     "data": {
      "text/html": [
       "<pre>| 308.063ms                           | 100              | 3600            |</pre>"
      ],
      "text/plain": [
       "| 308.063ms                           | 100              | 3600            |"
      ]
     },
     "metadata": {},
     "output_type": "display_data"
    },
    {
     "data": {
      "text/html": [
       "<pre>+-------------------------------------+------------------+-----------------+</pre>"
      ],
      "text/plain": [
       "+-------------------------------------+------------------+-----------------+"
      ]
     },
     "metadata": {},
     "output_type": "display_data"
    },
    {
     "data": {
      "text/html": [
       "<pre>Finalizing lookup tables.</pre>"
      ],
      "text/plain": [
       "Finalizing lookup tables."
      ]
     },
     "metadata": {},
     "output_type": "display_data"
    },
    {
     "data": {
      "text/html": [
       "<pre>Generating candidate set for working with new users.</pre>"
      ],
      "text/plain": [
       "Generating candidate set for working with new users."
      ]
     },
     "metadata": {},
     "output_type": "display_data"
    },
    {
     "data": {
      "text/html": [
       "<pre>Finished training in 0.325149s</pre>"
      ],
      "text/plain": [
       "Finished training in 0.325149s"
      ]
     },
     "metadata": {},
     "output_type": "display_data"
    },
    {
     "data": {
      "text/html": [
       "<pre>recommendations finished on 1000/11350 queries. users per second: 24545.3</pre>"
      ],
      "text/plain": [
       "recommendations finished on 1000/11350 queries. users per second: 24545.3"
      ]
     },
     "metadata": {},
     "output_type": "display_data"
    },
    {
     "data": {
      "text/html": [
       "<pre>recommendations finished on 2000/11350 queries. users per second: 28605.3</pre>"
      ],
      "text/plain": [
       "recommendations finished on 2000/11350 queries. users per second: 28605.3"
      ]
     },
     "metadata": {},
     "output_type": "display_data"
    },
    {
     "data": {
      "text/html": [
       "<pre>recommendations finished on 3000/11350 queries. users per second: 28786.6</pre>"
      ],
      "text/plain": [
       "recommendations finished on 3000/11350 queries. users per second: 28786.6"
      ]
     },
     "metadata": {},
     "output_type": "display_data"
    },
    {
     "data": {
      "text/html": [
       "<pre>recommendations finished on 4000/11350 queries. users per second: 28828.2</pre>"
      ],
      "text/plain": [
       "recommendations finished on 4000/11350 queries. users per second: 28828.2"
      ]
     },
     "metadata": {},
     "output_type": "display_data"
    },
    {
     "data": {
      "text/html": [
       "<pre>recommendations finished on 5000/11350 queries. users per second: 28145.2</pre>"
      ],
      "text/plain": [
       "recommendations finished on 5000/11350 queries. users per second: 28145.2"
      ]
     },
     "metadata": {},
     "output_type": "display_data"
    },
    {
     "data": {
      "text/html": [
       "<pre>recommendations finished on 6000/11350 queries. users per second: 27289.3</pre>"
      ],
      "text/plain": [
       "recommendations finished on 6000/11350 queries. users per second: 27289.3"
      ]
     },
     "metadata": {},
     "output_type": "display_data"
    },
    {
     "data": {
      "text/html": [
       "<pre>recommendations finished on 7000/11350 queries. users per second: 27596</pre>"
      ],
      "text/plain": [
       "recommendations finished on 7000/11350 queries. users per second: 27596"
      ]
     },
     "metadata": {},
     "output_type": "display_data"
    },
    {
     "data": {
      "text/html": [
       "<pre>recommendations finished on 8000/11350 queries. users per second: 27786.1</pre>"
      ],
      "text/plain": [
       "recommendations finished on 8000/11350 queries. users per second: 27786.1"
      ]
     },
     "metadata": {},
     "output_type": "display_data"
    },
    {
     "data": {
      "text/html": [
       "<pre>recommendations finished on 9000/11350 queries. users per second: 27781.2</pre>"
      ],
      "text/plain": [
       "recommendations finished on 9000/11350 queries. users per second: 27781.2"
      ]
     },
     "metadata": {},
     "output_type": "display_data"
    },
    {
     "data": {
      "text/html": [
       "<pre>recommendations finished on 10000/11350 queries. users per second: 27777.9</pre>"
      ],
      "text/plain": [
       "recommendations finished on 10000/11350 queries. users per second: 27777.9"
      ]
     },
     "metadata": {},
     "output_type": "display_data"
    },
    {
     "data": {
      "text/html": [
       "<pre>recommendations finished on 11000/11350 queries. users per second: 27939.1</pre>"
      ],
      "text/plain": [
       "recommendations finished on 11000/11350 queries. users per second: 27939.1"
      ]
     },
     "metadata": {},
     "output_type": "display_data"
    },
    {
     "name": "stdout",
     "output_type": "stream",
     "text": [
      "+---------+-------------------------------+-------+------+\n",
      "| user_id |             games             | score | rank |\n",
      "+---------+-------------------------------+-------+------+\n",
      "|   5250  |     The Curious Expedition    |  10.0 |  1   |\n",
      "|   5250  | Test Drive Ferrari Racing ... |  10.0 |  2   |\n",
      "|   5250  |          Dollar Dash          |  10.0 |  3   |\n",
      "|   5250  |  Distant Star Revenant Fleet  |  10.0 |  4   |\n",
      "|   5250  |        DinerTown Tycoon       |  10.0 |  5   |\n",
      "|   5250  |             Runers            |  10.0 |  6   |\n",
      "|   5250  |        Bejeweled Deluxe       |  10.0 |  7   |\n",
      "|   5250  |           Bad Hotel           |  10.0 |  8   |\n",
      "|   5250  |            Asteria            |  10.0 |  9   |\n",
      "|   5250  |          3D Mini Golf         |  10.0 |  10  |\n",
      "|  76767  |     The Curious Expedition    |  10.0 |  1   |\n",
      "|  76767  | Test Drive Ferrari Racing ... |  10.0 |  2   |\n",
      "|  76767  |          Dollar Dash          |  10.0 |  3   |\n",
      "|  76767  |  Distant Star Revenant Fleet  |  10.0 |  4   |\n",
      "|  76767  |        DinerTown Tycoon       |  10.0 |  5   |\n",
      "|  76767  |             Runers            |  10.0 |  6   |\n",
      "|  76767  |        Bejeweled Deluxe       |  10.0 |  7   |\n",
      "|  76767  |           Bad Hotel           |  10.0 |  8   |\n",
      "|  76767  |            Asteria            |  10.0 |  9   |\n",
      "|  76767  |          3D Mini Golf         |  10.0 |  10  |\n",
      "+---------+-------------------------------+-------+------+\n",
      "[113500 rows x 4 columns]\n",
      "\n"
     ]
    }
   ],
   "source": [
    "name = 'pearson'\n",
    "target = 'rating'\n",
    "pop_dummy = model(t_data, name, user_id, item_id, target, users_to_recommend, n_rec, n_display)"
   ]
  },
  {
   "cell_type": "markdown",
   "metadata": {},
   "source": [
    "Part 2 : Building a user-item and item-item collaborative filtering"
   ]
  },
  {
   "cell_type": "markdown",
   "metadata": {},
   "source": [
    "Item-item"
   ]
  },
  {
   "cell_type": "code",
   "execution_count": 25,
   "metadata": {},
   "outputs": [
    {
     "name": "stdout",
     "output_type": "stream",
     "text": [
      "games\n",
      "Fallout 4                                 1.000000\n",
      "The Witcher 3 Wild Hunt                   0.121778\n",
      "Grand Theft Auto V                        0.108676\n",
      "Putt-Putt Joins the Circus                0.108609\n",
      "Putt-Putt Saves the Zoo                   0.108609\n",
      "Putt-Putt Travels Through Time            0.108609\n",
      "The Elder Scrolls V Skyrim                0.106004\n",
      "Front Mission Evolved                     0.101082\n",
      "Divinity Original Sin Enhanced Edition    0.097847\n",
      "Aveyond 3-1 Lord of Twilight              0.096719\n",
      "Name: Fallout 4, dtype: float64\n"
     ]
    }
   ],
   "source": [
    "\n",
    "\n",
    "# Start by normalizing the data by\n",
    "#calculating the magnitude of all the user's ratings by taking the square root of the sum of the squares of all \n",
    "#the user's ratings.\n",
    "data_items = matrix1.drop('user_id', 1)\n",
    "# magnitude = sqrt(x2 + y2 + z2 + ...)\n",
    "magnitude = np.sqrt(np.square(data_items).sum(axis=1))\n",
    "\n",
    "# unitvector = (x / magnitude, y / magnitude, z / magnitude, ...)\n",
    "data_items = data_items.divide(magnitude, axis='index')\n",
    "\n",
    "def calculate_similarity(data_items):\n",
    "    \"\"\"Calculate the column-wise cosine similarity for a sparse\n",
    "    matrix. Return a new dataframe matrix with similarities.\n",
    "    \"\"\"\n",
    "    data_sparse = sparse.csr_matrix(data_items)\n",
    "    similarities = cosine_similarity(data_sparse.transpose())\n",
    "    sim = pd.DataFrame(data=similarities, index= data_items.columns, columns= data_items.columns)\n",
    "    return sim\n",
    "\n",
    "# Build the similarity matrix\n",
    "data_matrix = calculate_similarity(data_items)\n",
    "\n",
    "# Lets get the top 10 similar games for Fallout 4\n",
    "print(data_matrix.loc['Fallout 4'].nlargest(10))"
   ]
  },
  {
   "cell_type": "code",
   "execution_count": null,
   "metadata": {},
   "outputs": [],
   "source": []
  },
  {
   "cell_type": "code",
   "execution_count": null,
   "metadata": {},
   "outputs": [],
   "source": []
  },
  {
   "cell_type": "code",
   "execution_count": null,
   "metadata": {},
   "outputs": [],
   "source": []
  },
  {
   "cell_type": "code",
   "execution_count": 34,
   "metadata": {},
   "outputs": [
    {
     "name": "stderr",
     "output_type": "stream",
     "text": [
      "/Users/armitasafavi/anaconda3/lib/python3.6/site-packages/ipykernel_launcher.py:5: DeprecationWarning: \n",
      ".ix is deprecated. Please use\n",
      ".loc for label based indexing or\n",
      ".iloc for positional indexing\n",
      "\n",
      "See the documentation here:\n",
      "http://pandas.pydata.org/pandas-docs/stable/indexing.html#ix-indexer-is-deprecated\n",
      "  \"\"\"\n",
      "/Users/armitasafavi/anaconda3/lib/python3.6/site-packages/ipykernel_launcher.py:9: DeprecationWarning: \n",
      ".ix is deprecated. Please use\n",
      ".loc for label based indexing or\n",
      ".iloc for positional indexing\n",
      "\n",
      "See the documentation here:\n",
      "http://pandas.pydata.org/pandas-docs/stable/indexing.html#ix-indexer-is-deprecated\n",
      "  if __name__ == '__main__':\n"
     ]
    },
    {
     "name": "stdout",
     "output_type": "stream",
     "text": [
      "games\n",
      "user_id                     5250.0\n",
      "Alien Swarm                    2.0\n",
      "Cities Skylines                6.0\n",
      "Deus Ex Human Revolution       5.0\n",
      "Dota 2                         1.0\n",
      "Portal 2                       3.0\n",
      "Team Fortress 2                1.0\n",
      "Name: 0, dtype: float64\n",
      "11349    5249.999983\n",
      "11348    5249.999983\n",
      "11345    5249.999983\n",
      "11340    5249.999983\n",
      "11334    5249.999983\n",
      "11327    5249.999983\n",
      "11322    5249.999983\n",
      "11319    5249.999983\n",
      "11312    5249.999983\n",
      "11314    5249.999983\n",
      "11302    5249.999983\n",
      "11293    5249.999983\n",
      "11292    5249.999983\n",
      "11287    5249.999983\n",
      "11290    5249.999983\n",
      "11285    5249.999983\n",
      "11283    5249.999983\n",
      "11278    5249.999983\n",
      "11276    5249.999983\n",
      "11277    5249.999983\n",
      "dtype: float64\n"
     ]
    }
   ],
   "source": [
    "user = 5250  # The id of the user for whom we want to generate recommendations\n",
    "user_index = matrix1[matrix1.user_id == user].index.values.astype(int)[0] # Get the frame index\n",
    "\n",
    "# Get the artists the user has liked.\n",
    "known_user_likes = matrix1.ix[user_index]\n",
    "known_user_likes_values = known_user_likes[known_user_likes >0]\n",
    "known_user_likes_scores=known_user_likes_values.drop(known_user_likes_values.index[[0]])\n",
    "# Users likes for all items as a sparse vector.\n",
    "user_rating_vector = matrix1.ix[user_index]\n",
    "\n",
    "# Calculate the score.\n",
    "score = matrix1.dot(user_rating_vector).div(matrix1.sum(axis=1))\n",
    "\n",
    "# Remove the known likes from the recommendation.\n",
    "score = score.drop(known_user_likes_scores)\n",
    "\n",
    "# Print the known likes and the top 20 recommendations.\n",
    "print (known_user_likes_values)\n",
    "print( score.nlargest(20))"
   ]
  },
  {
   "cell_type": "code",
   "execution_count": null,
   "metadata": {},
   "outputs": [],
   "source": []
  },
  {
   "cell_type": "code",
   "execution_count": null,
   "metadata": {},
   "outputs": [],
   "source": []
  },
  {
   "cell_type": "code",
   "execution_count": null,
   "metadata": {},
   "outputs": [],
   "source": []
  },
  {
   "cell_type": "code",
   "execution_count": null,
   "metadata": {},
   "outputs": [],
   "source": []
  }
 ],
 "metadata": {
  "kernelspec": {
   "display_name": "Python 3",
   "language": "python",
   "name": "python3"
  },
  "language_info": {
   "codemirror_mode": {
    "name": "ipython",
    "version": 3
   },
   "file_extension": ".py",
   "mimetype": "text/x-python",
   "name": "python",
   "nbconvert_exporter": "python",
   "pygments_lexer": "ipython3",
   "version": "3.6.4"
  }
 },
 "nbformat": 4,
 "nbformat_minor": 2
}
